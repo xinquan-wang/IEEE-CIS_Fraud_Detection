{
 "cells": [
  {
   "cell_type": "markdown",
   "metadata": {},
   "source": [
    "# IEEE-CIS Fraud Detection -- Model [Ensemble]"
   ]
  },
  {
   "cell_type": "code",
   "execution_count": 1,
   "metadata": {},
   "outputs": [],
   "source": [
    "import pandas as pd\n",
    "import numpy as np\n",
    "import gc\n",
    "import warnings\n",
    "warnings.filterwarnings('ignore')"
   ]
  },
  {
   "cell_type": "code",
   "execution_count": 2,
   "metadata": {},
   "outputs": [],
   "source": [
    "from ml import simple"
   ]
  },
  {
   "cell_type": "markdown",
   "metadata": {},
   "source": [
    "## Blending"
   ]
  },
  {
   "cell_type": "code",
   "execution_count": 13,
   "metadata": {},
   "outputs": [],
   "source": [
    "sub = simple.Blend(['./Output/LGBM_model_1.csv', './Output/safe_box.csv'], \n",
    "                   'TransactionID', 'isFraud', './Output/blend01.csv')"
   ]
  },
  {
   "cell_type": "code",
   "execution_count": 14,
   "metadata": {},
   "outputs": [],
   "source": [
    "sub = simple.Blend(['./Output/blend01.csv', './Output/XGB_model_1.csv'], \n",
    "                   'TransactionID', 'isFraud', './Output/blend02.csv')"
   ]
  },
  {
   "cell_type": "code",
   "execution_count": 15,
   "metadata": {},
   "outputs": [],
   "source": [
    "sub = simple.Blend(['./Output/blend02.csv', './Output/random_forest_1.csv'], \n",
    "                   'TransactionID', 'isFraud', './Output/blend03.csv')"
   ]
  },
  {
   "cell_type": "code",
   "execution_count": 7,
   "metadata": {},
   "outputs": [],
   "source": [
    "sub = simple.Blend(['./Output/LGB_cv_1_9325.csv', './Output/XGB_cv_1.csv'], \n",
    "                   'TransactionID', 'isFraud', './Output/blend05.csv')"
   ]
  },
  {
   "cell_type": "code",
   "execution_count": 9,
   "metadata": {},
   "outputs": [],
   "source": [
    "sub = simple.Blend(['./Output/blend05.csv', './Output/DT_cv_1.csv'], \n",
    "                   'TransactionID', 'isFraud', './Output/blend06.csv')"
   ]
  },
  {
   "cell_type": "markdown",
   "metadata": {},
   "source": [
    "## Stacking"
   ]
  },
  {
   "cell_type": "code",
   "execution_count": 5,
   "metadata": {},
   "outputs": [],
   "source": [
    "from sklearn.model_selection import TimeSeriesSplit\n",
    "from sklearn.model_selection import KFold\n",
    "from sklearn.metrics import roc_auc_score, auc\n",
    "import lightgbm as lgb\n",
    "from sklearn import model_selection\n",
    "import xgboost as xgb\n",
    "from sklearn.linear_model import LogisticRegression\n",
    "from sklearn.ensemble import RandomForestClassifier\n",
    "from sklearn.ensemble import ExtraTreesClassifier\n",
    "from sklearn.ensemble import AdaBoostClassifier\n",
    "from sklearn.tree import DecisionTreeClassifier\n",
    "from sklearn.linear_model import LogisticRegression\n",
    "from mlxtend.classifier import StackingClassifier"
   ]
  },
  {
   "cell_type": "markdown",
   "metadata": {},
   "source": [
    "### blend02, blend05 and lgb_cv_1"
   ]
  },
  {
   "cell_type": "code",
   "execution_count": 71,
   "metadata": {},
   "outputs": [],
   "source": [
    "blend02 = pd.read_csv('./Output/blend02_9354.csv', index_col=0)\n",
    "blend05 = pd.read_csv('./Output/blend05_9373.csv', index_col=0)\n",
    "lgb_1 = pd.read_csv('./Output/LGB_cv_1_9325.csv', index_col=0)"
   ]
  },
  {
   "cell_type": "code",
   "execution_count": 72,
   "metadata": {},
   "outputs": [],
   "source": [
    "concat_sub = pd.concat([blend02, blend05, lgb_1], axis=1)"
   ]
  },
  {
   "cell_type": "code",
   "execution_count": 16,
   "metadata": {},
   "outputs": [
    {
     "data": {
      "text/html": [
       "<div>\n",
       "<style scoped>\n",
       "    .dataframe tbody tr th:only-of-type {\n",
       "        vertical-align: middle;\n",
       "    }\n",
       "\n",
       "    .dataframe tbody tr th {\n",
       "        vertical-align: top;\n",
       "    }\n",
       "\n",
       "    .dataframe thead th {\n",
       "        text-align: right;\n",
       "    }\n",
       "</style>\n",
       "<table border=\"1\" class=\"dataframe\">\n",
       "  <thead>\n",
       "    <tr style=\"text-align: right;\">\n",
       "      <th></th>\n",
       "      <th>TransactionID</th>\n",
       "      <th>ieee0</th>\n",
       "      <th>ieee1</th>\n",
       "      <th>ieee2</th>\n",
       "    </tr>\n",
       "  </thead>\n",
       "  <tbody>\n",
       "    <tr>\n",
       "      <th>0</th>\n",
       "      <td>3663549</td>\n",
       "      <td>0.001947</td>\n",
       "      <td>0.003053</td>\n",
       "      <td>0.000522</td>\n",
       "    </tr>\n",
       "    <tr>\n",
       "      <th>1</th>\n",
       "      <td>3663550</td>\n",
       "      <td>0.003701</td>\n",
       "      <td>0.004310</td>\n",
       "      <td>0.003528</td>\n",
       "    </tr>\n",
       "    <tr>\n",
       "      <th>2</th>\n",
       "      <td>3663551</td>\n",
       "      <td>0.003232</td>\n",
       "      <td>0.008732</td>\n",
       "      <td>0.009337</td>\n",
       "    </tr>\n",
       "    <tr>\n",
       "      <th>3</th>\n",
       "      <td>3663552</td>\n",
       "      <td>0.004946</td>\n",
       "      <td>0.006856</td>\n",
       "      <td>0.003387</td>\n",
       "    </tr>\n",
       "    <tr>\n",
       "      <th>4</th>\n",
       "      <td>3663553</td>\n",
       "      <td>0.006041</td>\n",
       "      <td>0.003289</td>\n",
       "      <td>0.002760</td>\n",
       "    </tr>\n",
       "  </tbody>\n",
       "</table>\n",
       "</div>"
      ],
      "text/plain": [
       "   TransactionID     ieee0     ieee1     ieee2\n",
       "0        3663549  0.001947  0.003053  0.000522\n",
       "1        3663550  0.003701  0.004310  0.003528\n",
       "2        3663551  0.003232  0.008732  0.009337\n",
       "3        3663552  0.004946  0.006856  0.003387\n",
       "4        3663553  0.006041  0.003289  0.002760"
      ]
     },
     "execution_count": 16,
     "metadata": {},
     "output_type": "execute_result"
    }
   ],
   "source": [
    "cols = list(map(lambda x: \"ieee\" + str(x), range(len(concat_sub.columns))))\n",
    "concat_sub.columns = cols\n",
    "concat_sub.reset_index(inplace=True)\n",
    "ncol = concat_sub.shape[1]\n",
    "concat_sub.head()"
   ]
  },
  {
   "cell_type": "code",
   "execution_count": 23,
   "metadata": {},
   "outputs": [
    {
     "data": {
      "text/html": [
       "<div>\n",
       "<style scoped>\n",
       "    .dataframe tbody tr th:only-of-type {\n",
       "        vertical-align: middle;\n",
       "    }\n",
       "\n",
       "    .dataframe tbody tr th {\n",
       "        vertical-align: top;\n",
       "    }\n",
       "\n",
       "    .dataframe thead th {\n",
       "        text-align: right;\n",
       "    }\n",
       "</style>\n",
       "<table border=\"1\" class=\"dataframe\">\n",
       "  <thead>\n",
       "    <tr style=\"text-align: right;\">\n",
       "      <th></th>\n",
       "      <th>ieee0</th>\n",
       "      <th>ieee1</th>\n",
       "      <th>ieee2</th>\n",
       "    </tr>\n",
       "  </thead>\n",
       "  <tbody>\n",
       "    <tr>\n",
       "      <th>count</th>\n",
       "      <td>506691.00000</td>\n",
       "      <td>506691.00000</td>\n",
       "      <td>506691.00000</td>\n",
       "    </tr>\n",
       "    <tr>\n",
       "      <th>mean</th>\n",
       "      <td>253346.00000</td>\n",
       "      <td>253346.00000</td>\n",
       "      <td>253346.00000</td>\n",
       "    </tr>\n",
       "    <tr>\n",
       "      <th>std</th>\n",
       "      <td>146269.23696</td>\n",
       "      <td>146269.23696</td>\n",
       "      <td>146269.23696</td>\n",
       "    </tr>\n",
       "    <tr>\n",
       "      <th>min</th>\n",
       "      <td>1.00000</td>\n",
       "      <td>1.00000</td>\n",
       "      <td>1.00000</td>\n",
       "    </tr>\n",
       "    <tr>\n",
       "      <th>25%</th>\n",
       "      <td>126673.50000</td>\n",
       "      <td>126673.50000</td>\n",
       "      <td>126673.50000</td>\n",
       "    </tr>\n",
       "    <tr>\n",
       "      <th>50%</th>\n",
       "      <td>253346.00000</td>\n",
       "      <td>253346.00000</td>\n",
       "      <td>253346.00000</td>\n",
       "    </tr>\n",
       "    <tr>\n",
       "      <th>75%</th>\n",
       "      <td>380018.50000</td>\n",
       "      <td>380018.50000</td>\n",
       "      <td>380018.50000</td>\n",
       "    </tr>\n",
       "    <tr>\n",
       "      <th>max</th>\n",
       "      <td>506691.00000</td>\n",
       "      <td>506691.00000</td>\n",
       "      <td>506691.00000</td>\n",
       "    </tr>\n",
       "  </tbody>\n",
       "</table>\n",
       "</div>"
      ],
      "text/plain": [
       "              ieee0         ieee1         ieee2\n",
       "count  506691.00000  506691.00000  506691.00000\n",
       "mean   253346.00000  253346.00000  253346.00000\n",
       "std    146269.23696  146269.23696  146269.23696\n",
       "min         1.00000       1.00000       1.00000\n",
       "25%    126673.50000  126673.50000  126673.50000\n",
       "50%    253346.00000  253346.00000  253346.00000\n",
       "75%    380018.50000  380018.50000  380018.50000\n",
       "max    506691.00000  506691.00000  506691.00000"
      ]
     },
     "execution_count": 23,
     "metadata": {},
     "output_type": "execute_result"
    }
   ],
   "source": [
    "concat_sub_rank = concat_sub.iloc[:,1:ncol].copy()\n",
    "concat_sub_rank.head()\n",
    "for _ in range(ncol-1):\n",
    "    concat_sub_rank.iloc[:,_] = concat_sub_rank.iloc[:,_].rank(method ='average')\n",
    "concat_sub_rank.describe()"
   ]
  },
  {
   "cell_type": "code",
   "execution_count": 24,
   "metadata": {},
   "outputs": [
    {
     "data": {
      "text/html": [
       "<div>\n",
       "<style scoped>\n",
       "    .dataframe tbody tr th:only-of-type {\n",
       "        vertical-align: middle;\n",
       "    }\n",
       "\n",
       "    .dataframe tbody tr th {\n",
       "        vertical-align: top;\n",
       "    }\n",
       "\n",
       "    .dataframe thead th {\n",
       "        text-align: right;\n",
       "    }\n",
       "</style>\n",
       "<table border=\"1\" class=\"dataframe\">\n",
       "  <thead>\n",
       "    <tr style=\"text-align: right;\">\n",
       "      <th></th>\n",
       "      <th>ieee0</th>\n",
       "      <th>ieee1</th>\n",
       "      <th>ieee2</th>\n",
       "    </tr>\n",
       "  </thead>\n",
       "  <tbody>\n",
       "    <tr>\n",
       "      <th>ieee0</th>\n",
       "      <td>1.000000</td>\n",
       "      <td>0.962840</td>\n",
       "      <td>0.950081</td>\n",
       "    </tr>\n",
       "    <tr>\n",
       "      <th>ieee1</th>\n",
       "      <td>0.962840</td>\n",
       "      <td>1.000000</td>\n",
       "      <td>0.984855</td>\n",
       "    </tr>\n",
       "    <tr>\n",
       "      <th>ieee2</th>\n",
       "      <td>0.950081</td>\n",
       "      <td>0.984855</td>\n",
       "      <td>1.000000</td>\n",
       "    </tr>\n",
       "  </tbody>\n",
       "</table>\n",
       "</div>"
      ],
      "text/plain": [
       "          ieee0     ieee1     ieee2\n",
       "ieee0  1.000000  0.962840  0.950081\n",
       "ieee1  0.962840  1.000000  0.984855\n",
       "ieee2  0.950081  0.984855  1.000000"
      ]
     },
     "execution_count": 24,
     "metadata": {},
     "output_type": "execute_result"
    }
   ],
   "source": [
    "concat_sub.iloc[:,1:ncol].corr()"
   ]
  },
  {
   "cell_type": "code",
   "execution_count": 25,
   "metadata": {},
   "outputs": [
    {
     "data": {
      "text/plain": [
       "<matplotlib.axes._subplots.AxesSubplot at 0x11e896128>"
      ]
     },
     "execution_count": 25,
     "metadata": {},
     "output_type": "execute_result"
    },
    {
     "data": {
      "image/png": "[encoded data removed]",
      "text/plain": [
       "<Figure size 792x648 with 2 Axes>"
      ]
     },
     "metadata": {
      "needs_background": "light"
     },
     "output_type": "display_data"
    }
   ],
   "source": [
    "corr = concat_sub.iloc[:,1:7].corr()\n",
    "mask = np.zeros_like(corr, dtype=np.bool)\n",
    "mask[np.triu_indices_from(mask)] = True\n",
    "\n",
    "# Set up the matplotlib figure\n",
    "f, ax = plt.subplots(figsize=(11, 9))\n",
    "\n",
    "# Generate a custom diverging colormap\n",
    "cmap = sns.diverging_palette(220, 10, as_cmap=True)\n",
    "\n",
    "# Draw the heatmap with the mask and correct aspect ratio\n",
    "sns.heatmap(corr, mask=mask, cmap=cmap, vmax=.3, center=0,\n",
    "            square=True, linewidths=.5, cbar_kws={\"shrink\": .5})"
   ]
  },
  {
   "cell_type": "code",
   "execution_count": 26,
   "metadata": {},
   "outputs": [],
   "source": [
    "# get the data fields ready for stacking\n",
    "concat_sub['ieee_max'] = concat_sub.iloc[:, 1:ncol].max(axis=1)\n",
    "concat_sub['ieee_min'] = concat_sub.iloc[:, 1:ncol].min(axis=1)\n",
    "concat_sub['ieee_mean'] = concat_sub.iloc[:, 1:ncol].mean(axis=1)\n",
    "concat_sub['ieee_median'] = concat_sub.iloc[:, 1:ncol].median(axis=1)"
   ]
  },
  {
   "cell_type": "code",
   "execution_count": 27,
   "metadata": {},
   "outputs": [
    {
     "data": {
      "text/html": [
       "<div>\n",
       "<style scoped>\n",
       "    .dataframe tbody tr th:only-of-type {\n",
       "        vertical-align: middle;\n",
       "    }\n",
       "\n",
       "    .dataframe tbody tr th {\n",
       "        vertical-align: top;\n",
       "    }\n",
       "\n",
       "    .dataframe thead th {\n",
       "        text-align: right;\n",
       "    }\n",
       "</style>\n",
       "<table border=\"1\" class=\"dataframe\">\n",
       "  <thead>\n",
       "    <tr style=\"text-align: right;\">\n",
       "      <th></th>\n",
       "      <th>TransactionID</th>\n",
       "      <th>ieee0</th>\n",
       "      <th>ieee1</th>\n",
       "      <th>ieee2</th>\n",
       "      <th>ieee_max</th>\n",
       "      <th>ieee_min</th>\n",
       "      <th>ieee_mean</th>\n",
       "      <th>ieee_median</th>\n",
       "    </tr>\n",
       "  </thead>\n",
       "  <tbody>\n",
       "    <tr>\n",
       "      <th>count</th>\n",
       "      <td>5.066910e+05</td>\n",
       "      <td>506691.000000</td>\n",
       "      <td>506691.000000</td>\n",
       "      <td>506691.000000</td>\n",
       "      <td>506691.000000</td>\n",
       "      <td>506691.000000</td>\n",
       "      <td>506691.000000</td>\n",
       "      <td>506691.000000</td>\n",
       "    </tr>\n",
       "    <tr>\n",
       "      <th>mean</th>\n",
       "      <td>3.916894e+06</td>\n",
       "      <td>0.027913</td>\n",
       "      <td>0.028470</td>\n",
       "      <td>0.027969</td>\n",
       "      <td>0.034674</td>\n",
       "      <td>0.021991</td>\n",
       "      <td>0.028117</td>\n",
       "      <td>0.027687</td>\n",
       "    </tr>\n",
       "    <tr>\n",
       "      <th>std</th>\n",
       "      <td>1.462692e+05</td>\n",
       "      <td>0.105388</td>\n",
       "      <td>0.104192</td>\n",
       "      <td>0.109547</td>\n",
       "      <td>0.116679</td>\n",
       "      <td>0.095101</td>\n",
       "      <td>0.105160</td>\n",
       "      <td>0.105946</td>\n",
       "    </tr>\n",
       "    <tr>\n",
       "      <th>min</th>\n",
       "      <td>3.663549e+06</td>\n",
       "      <td>0.000857</td>\n",
       "      <td>0.001346</td>\n",
       "      <td>0.000176</td>\n",
       "      <td>0.001346</td>\n",
       "      <td>0.000176</td>\n",
       "      <td>0.000893</td>\n",
       "      <td>0.000857</td>\n",
       "    </tr>\n",
       "    <tr>\n",
       "      <th>25%</th>\n",
       "      <td>3.790222e+06</td>\n",
       "      <td>0.003061</td>\n",
       "      <td>0.003814</td>\n",
       "      <td>0.002285</td>\n",
       "      <td>0.004314</td>\n",
       "      <td>0.002079</td>\n",
       "      <td>0.003281</td>\n",
       "      <td>0.003175</td>\n",
       "    </tr>\n",
       "    <tr>\n",
       "      <th>50%</th>\n",
       "      <td>3.916894e+06</td>\n",
       "      <td>0.005731</td>\n",
       "      <td>0.006557</td>\n",
       "      <td>0.004788</td>\n",
       "      <td>0.007739</td>\n",
       "      <td>0.004035</td>\n",
       "      <td>0.005907</td>\n",
       "      <td>0.005697</td>\n",
       "    </tr>\n",
       "    <tr>\n",
       "      <th>75%</th>\n",
       "      <td>4.043566e+06</td>\n",
       "      <td>0.012496</td>\n",
       "      <td>0.013674</td>\n",
       "      <td>0.011712</td>\n",
       "      <td>0.017066</td>\n",
       "      <td>0.008941</td>\n",
       "      <td>0.012886</td>\n",
       "      <td>0.012350</td>\n",
       "    </tr>\n",
       "    <tr>\n",
       "      <th>max</th>\n",
       "      <td>4.170239e+06</td>\n",
       "      <td>0.989438</td>\n",
       "      <td>0.993882</td>\n",
       "      <td>0.996434</td>\n",
       "      <td>0.996434</td>\n",
       "      <td>0.986017</td>\n",
       "      <td>0.990923</td>\n",
       "      <td>0.993882</td>\n",
       "    </tr>\n",
       "  </tbody>\n",
       "</table>\n",
       "</div>"
      ],
      "text/plain": [
       "       TransactionID          ieee0          ieee1          ieee2  \\\n",
       "count   5.066910e+05  506691.000000  506691.000000  506691.000000   \n",
       "mean    3.916894e+06       0.027913       0.028470       0.027969   \n",
       "std     1.462692e+05       0.105388       0.104192       0.109547   \n",
       "min     3.663549e+06       0.000857       0.001346       0.000176   \n",
       "25%     3.790222e+06       0.003061       0.003814       0.002285   \n",
       "50%     3.916894e+06       0.005731       0.006557       0.004788   \n",
       "75%     4.043566e+06       0.012496       0.013674       0.011712   \n",
       "max     4.170239e+06       0.989438       0.993882       0.996434   \n",
       "\n",
       "            ieee_max       ieee_min      ieee_mean    ieee_median  \n",
       "count  506691.000000  506691.000000  506691.000000  506691.000000  \n",
       "mean        0.034674       0.021991       0.028117       0.027687  \n",
       "std         0.116679       0.095101       0.105160       0.105946  \n",
       "min         0.001346       0.000176       0.000893       0.000857  \n",
       "25%         0.004314       0.002079       0.003281       0.003175  \n",
       "50%         0.007739       0.004035       0.005907       0.005697  \n",
       "75%         0.017066       0.008941       0.012886       0.012350  \n",
       "max         0.996434       0.986017       0.990923       0.993882  "
      ]
     },
     "execution_count": 27,
     "metadata": {},
     "output_type": "execute_result"
    }
   ],
   "source": [
    "concat_sub.describe()"
   ]
  },
  {
   "cell_type": "markdown",
   "metadata": {},
   "source": [
    "#### Stacking: mean"
   ]
  },
  {
   "cell_type": "code",
   "execution_count": 28,
   "metadata": {},
   "outputs": [],
   "source": [
    "concat_sub['isFraud'] = concat_sub['ieee_mean']\n",
    "concat_sub[['TransactionID', 'isFraud']].to_csv('./Output/stack_mean.csv', \n",
    "                                        index=False, float_format='%.6f')"
   ]
  },
  {
   "cell_type": "markdown",
   "metadata": {},
   "source": [
    "#### Stacking: median"
   ]
  },
  {
   "cell_type": "code",
   "execution_count": 30,
   "metadata": {},
   "outputs": [],
   "source": [
    "concat_sub['isFraud'] = concat_sub['ieee_median']\n",
    "concat_sub[['TransactionID', 'isFraud']].to_csv('./Output/stack_median.csv', \n",
    "                                        index=False, float_format='%.6f')"
   ]
  },
  {
   "cell_type": "code",
   "execution_count": 31,
   "metadata": {},
   "outputs": [],
   "source": [
    "cutoff_lo = 0.8\n",
    "cutoff_hi = 0.2"
   ]
  },
  {
   "cell_type": "markdown",
   "metadata": {},
   "source": [
    "#### Pushout + Median Stacking"
   ]
  },
  {
   "cell_type": "code",
   "execution_count": 32,
   "metadata": {},
   "outputs": [],
   "source": [
    "concat_sub['isFraud'] = np.where(np.all(concat_sub.iloc[:,1:ncol] > cutoff_lo, axis=1), 1, \n",
    "                                    np.where(np.all(concat_sub.iloc[:,1:ncol] < cutoff_hi, axis=1),\n",
    "                                             0, concat_sub['ieee_median']))\n",
    "concat_sub[['TransactionID', 'isFraud']].to_csv('./Output/stack_pushout_median.csv', \n",
    "                                        index=False, float_format='%.6f')"
   ]
  },
  {
   "cell_type": "markdown",
   "metadata": {},
   "source": [
    "#### MinMax + Mean Stacking"
   ]
  },
  {
   "cell_type": "code",
   "execution_count": 33,
   "metadata": {},
   "outputs": [],
   "source": [
    "concat_sub['isFraud'] = np.where(np.all(concat_sub.iloc[:,1:ncol] > cutoff_lo, axis=1), \n",
    "                                    concat_sub['ieee_max'], \n",
    "                                    np.where(np.all(concat_sub.iloc[:,1:ncol] < cutoff_hi, axis=1),\n",
    "                                             concat_sub['ieee_min'], \n",
    "                                             concat_sub['ieee_mean']))\n",
    "concat_sub[['TransactionID', 'isFraud']].to_csv('./Output/stack_minmax_mean.csv', \n",
    "                                        index=False, float_format='%.6f')"
   ]
  },
  {
   "cell_type": "markdown",
   "metadata": {},
   "source": [
    "#### MinMax + Median Stacking"
   ]
  },
  {
   "cell_type": "code",
   "execution_count": 34,
   "metadata": {},
   "outputs": [],
   "source": [
    "concat_sub['isFraud'] = np.where(np.all(concat_sub.iloc[:,1:ncol] > cutoff_lo, axis=1), \n",
    "                                    concat_sub['ieee_max'], \n",
    "                                    np.where(np.all(concat_sub.iloc[:,1:ncol] < cutoff_hi, axis=1),\n",
    "                                             concat_sub['ieee_min'], \n",
    "                                             concat_sub['ieee_median']))\n",
    "concat_sub[['TransactionID', 'isFraud']].to_csv('./Output/stack_minmax_median.csv', \n",
    "                                        index=False, float_format='%.6f')"
   ]
  },
  {
   "cell_type": "markdown",
   "metadata": {},
   "source": [
    "#### Median Rank"
   ]
  },
  {
   "cell_type": "code",
   "execution_count": 35,
   "metadata": {},
   "outputs": [],
   "source": [
    "concat_sub['isFraud'] = concat_sub_rank.median(axis=1)\n",
    "concat_sub['isFraud'] = (concat_sub['isFraud']-concat_sub['isFraud'].min())/(concat_sub['isFraud'].max() - concat_sub['isFraud'].min())\n",
    "concat_sub[['TransactionID', 'isFraud']].to_csv('./Output/stack_median_rank.csv', index=False, float_format='%.8f')"
   ]
  },
  {
   "cell_type": "markdown",
   "metadata": {},
   "source": [
    "#### Mean Rank"
   ]
  },
  {
   "cell_type": "code",
   "execution_count": 36,
   "metadata": {},
   "outputs": [],
   "source": [
    "concat_sub['isFraud'] = concat_sub_rank.mean(axis=1)\n",
    "concat_sub['isFraud'] = (concat_sub['isFraud']-concat_sub['isFraud'].min())/(concat_sub['isFraud'].max() - concat_sub['isFraud'].min())\n",
    "concat_sub[['TransactionID', 'isFraud']].to_csv('./Output/stack_mean_rank.csv', index=False, float_format='%.8f')"
   ]
  },
  {
   "cell_type": "markdown",
   "metadata": {},
   "source": [
    "### blend02, blend05 and lgb_cv_1,  lgb_undersample, lgb_oversample"
   ]
  },
  {
   "cell_type": "code",
   "execution_count": 79,
   "metadata": {},
   "outputs": [],
   "source": [
    "lgb_undersample = pd.read_csv('./Output/lgb_undersample.csv', index_col=0)\n",
    "lgb_oversample = pd.read_csv('./Output/lgb_oversample.csv', index_col=0)"
   ]
  },
  {
   "cell_type": "code",
   "execution_count": 106,
   "metadata": {},
   "outputs": [],
   "source": [
    "concat_sub1 = pd.concat([concat_sub, lgb_undersample, lgb_oversample], axis=1)"
   ]
  },
  {
   "cell_type": "code",
   "execution_count": 107,
   "metadata": {},
   "outputs": [
    {
     "data": {
      "text/html": [
       "<div>\n",
       "<style scoped>\n",
       "    .dataframe tbody tr th:only-of-type {\n",
       "        vertical-align: middle;\n",
       "    }\n",
       "\n",
       "    .dataframe tbody tr th {\n",
       "        vertical-align: top;\n",
       "    }\n",
       "\n",
       "    .dataframe thead th {\n",
       "        text-align: right;\n",
       "    }\n",
       "</style>\n",
       "<table border=\"1\" class=\"dataframe\">\n",
       "  <thead>\n",
       "    <tr style=\"text-align: right;\">\n",
       "      <th></th>\n",
       "      <th>TransactionID</th>\n",
       "      <th>ieee0</th>\n",
       "      <th>ieee1</th>\n",
       "      <th>ieee2</th>\n",
       "      <th>ieee3</th>\n",
       "      <th>ieee4</th>\n",
       "    </tr>\n",
       "  </thead>\n",
       "  <tbody>\n",
       "    <tr>\n",
       "      <th>0</th>\n",
       "      <td>3663549</td>\n",
       "      <td>0.001947</td>\n",
       "      <td>0.003053</td>\n",
       "      <td>0.000522</td>\n",
       "      <td>0.008641</td>\n",
       "      <td>0.207379</td>\n",
       "    </tr>\n",
       "    <tr>\n",
       "      <th>1</th>\n",
       "      <td>3663550</td>\n",
       "      <td>0.003701</td>\n",
       "      <td>0.004310</td>\n",
       "      <td>0.003528</td>\n",
       "      <td>0.019297</td>\n",
       "      <td>0.463138</td>\n",
       "    </tr>\n",
       "    <tr>\n",
       "      <th>2</th>\n",
       "      <td>3663551</td>\n",
       "      <td>0.003232</td>\n",
       "      <td>0.008732</td>\n",
       "      <td>0.009337</td>\n",
       "      <td>0.041603</td>\n",
       "      <td>0.998464</td>\n",
       "    </tr>\n",
       "    <tr>\n",
       "      <th>3</th>\n",
       "      <td>3663552</td>\n",
       "      <td>0.004946</td>\n",
       "      <td>0.006856</td>\n",
       "      <td>0.003387</td>\n",
       "      <td>0.033648</td>\n",
       "      <td>0.807542</td>\n",
       "    </tr>\n",
       "    <tr>\n",
       "      <th>4</th>\n",
       "      <td>3663553</td>\n",
       "      <td>0.006041</td>\n",
       "      <td>0.003289</td>\n",
       "      <td>0.002760</td>\n",
       "      <td>0.019183</td>\n",
       "      <td>0.460392</td>\n",
       "    </tr>\n",
       "  </tbody>\n",
       "</table>\n",
       "</div>"
      ],
      "text/plain": [
       "   TransactionID     ieee0     ieee1     ieee2     ieee3     ieee4\n",
       "0        3663549  0.001947  0.003053  0.000522  0.008641  0.207379\n",
       "1        3663550  0.003701  0.004310  0.003528  0.019297  0.463138\n",
       "2        3663551  0.003232  0.008732  0.009337  0.041603  0.998464\n",
       "3        3663552  0.004946  0.006856  0.003387  0.033648  0.807542\n",
       "4        3663553  0.006041  0.003289  0.002760  0.019183  0.460392"
      ]
     },
     "execution_count": 107,
     "metadata": {},
     "output_type": "execute_result"
    }
   ],
   "source": [
    "cols = list(map(lambda x: \"ieee\" + str(x), range(len(concat_sub1.columns))))\n",
    "concat_sub1.columns = cols\n",
    "concat_sub1.reset_index(inplace=True)\n",
    "ncol = concat_sub1.shape[1]\n",
    "concat_sub1.head()"
   ]
  },
  {
   "cell_type": "code",
   "execution_count": 108,
   "metadata": {},
   "outputs": [
    {
     "data": {
      "text/html": [
       "<div>\n",
       "<style scoped>\n",
       "    .dataframe tbody tr th:only-of-type {\n",
       "        vertical-align: middle;\n",
       "    }\n",
       "\n",
       "    .dataframe tbody tr th {\n",
       "        vertical-align: top;\n",
       "    }\n",
       "\n",
       "    .dataframe thead th {\n",
       "        text-align: right;\n",
       "    }\n",
       "</style>\n",
       "<table border=\"1\" class=\"dataframe\">\n",
       "  <thead>\n",
       "    <tr style=\"text-align: right;\">\n",
       "      <th></th>\n",
       "      <th>ieee0</th>\n",
       "      <th>ieee1</th>\n",
       "      <th>ieee2</th>\n",
       "      <th>ieee3</th>\n",
       "      <th>ieee4</th>\n",
       "    </tr>\n",
       "  </thead>\n",
       "  <tbody>\n",
       "    <tr>\n",
       "      <th>count</th>\n",
       "      <td>506691.00000</td>\n",
       "      <td>506691.00000</td>\n",
       "      <td>506691.00000</td>\n",
       "      <td>506691.00000</td>\n",
       "      <td>506691.00000</td>\n",
       "    </tr>\n",
       "    <tr>\n",
       "      <th>mean</th>\n",
       "      <td>253346.00000</td>\n",
       "      <td>253346.00000</td>\n",
       "      <td>253346.00000</td>\n",
       "      <td>253346.00000</td>\n",
       "      <td>253346.00000</td>\n",
       "    </tr>\n",
       "    <tr>\n",
       "      <th>std</th>\n",
       "      <td>146269.23696</td>\n",
       "      <td>146269.23696</td>\n",
       "      <td>146269.23696</td>\n",
       "      <td>146269.23696</td>\n",
       "      <td>146269.23696</td>\n",
       "    </tr>\n",
       "    <tr>\n",
       "      <th>min</th>\n",
       "      <td>1.00000</td>\n",
       "      <td>1.00000</td>\n",
       "      <td>1.00000</td>\n",
       "      <td>1.00000</td>\n",
       "      <td>1.00000</td>\n",
       "    </tr>\n",
       "    <tr>\n",
       "      <th>25%</th>\n",
       "      <td>126673.50000</td>\n",
       "      <td>126673.50000</td>\n",
       "      <td>126673.50000</td>\n",
       "      <td>126673.50000</td>\n",
       "      <td>126673.50000</td>\n",
       "    </tr>\n",
       "    <tr>\n",
       "      <th>50%</th>\n",
       "      <td>253346.00000</td>\n",
       "      <td>253346.00000</td>\n",
       "      <td>253346.00000</td>\n",
       "      <td>253346.00000</td>\n",
       "      <td>253346.00000</td>\n",
       "    </tr>\n",
       "    <tr>\n",
       "      <th>75%</th>\n",
       "      <td>380018.50000</td>\n",
       "      <td>380018.50000</td>\n",
       "      <td>380018.50000</td>\n",
       "      <td>380018.50000</td>\n",
       "      <td>380018.50000</td>\n",
       "    </tr>\n",
       "    <tr>\n",
       "      <th>max</th>\n",
       "      <td>506691.00000</td>\n",
       "      <td>506691.00000</td>\n",
       "      <td>506691.00000</td>\n",
       "      <td>506691.00000</td>\n",
       "      <td>506691.00000</td>\n",
       "    </tr>\n",
       "  </tbody>\n",
       "</table>\n",
       "</div>"
      ],
      "text/plain": [
       "              ieee0         ieee1         ieee2         ieee3         ieee4\n",
       "count  506691.00000  506691.00000  506691.00000  506691.00000  506691.00000\n",
       "mean   253346.00000  253346.00000  253346.00000  253346.00000  253346.00000\n",
       "std    146269.23696  146269.23696  146269.23696  146269.23696  146269.23696\n",
       "min         1.00000       1.00000       1.00000       1.00000       1.00000\n",
       "25%    126673.50000  126673.50000  126673.50000  126673.50000  126673.50000\n",
       "50%    253346.00000  253346.00000  253346.00000  253346.00000  253346.00000\n",
       "75%    380018.50000  380018.50000  380018.50000  380018.50000  380018.50000\n",
       "max    506691.00000  506691.00000  506691.00000  506691.00000  506691.00000"
      ]
     },
     "execution_count": 108,
     "metadata": {},
     "output_type": "execute_result"
    }
   ],
   "source": [
    "concat_sub1_rank = concat_sub1.iloc[:,1:ncol].copy()\n",
    "concat_sub1_rank.head()\n",
    "for _ in range(ncol-1):\n",
    "    concat_sub1_rank.iloc[:,_] = concat_sub1_rank.iloc[:,_].rank(method ='average')\n",
    "concat_sub1_rank.describe()"
   ]
  },
  {
   "cell_type": "code",
   "execution_count": 109,
   "metadata": {},
   "outputs": [],
   "source": [
    "# get the data fields ready for stacking\n",
    "concat_sub1['ieee_max'] = concat_sub1.iloc[:, 1:ncol].max(axis=1)\n",
    "concat_sub1['ieee_min'] = concat_sub1.iloc[:, 1:ncol].min(axis=1)\n",
    "concat_sub1['ieee_mean'] = concat_sub1.iloc[:, 1:ncol].mean(axis=1)\n",
    "concat_sub1['ieee_median'] = concat_sub1.iloc[:, 1:ncol].median(axis=1)"
   ]
  },
  {
   "cell_type": "code",
   "execution_count": 110,
   "metadata": {},
   "outputs": [
    {
     "data": {
      "text/html": [
       "<div>\n",
       "<style scoped>\n",
       "    .dataframe tbody tr th:only-of-type {\n",
       "        vertical-align: middle;\n",
       "    }\n",
       "\n",
       "    .dataframe tbody tr th {\n",
       "        vertical-align: top;\n",
       "    }\n",
       "\n",
       "    .dataframe thead th {\n",
       "        text-align: right;\n",
       "    }\n",
       "</style>\n",
       "<table border=\"1\" class=\"dataframe\">\n",
       "  <thead>\n",
       "    <tr style=\"text-align: right;\">\n",
       "      <th></th>\n",
       "      <th>TransactionID</th>\n",
       "      <th>ieee0</th>\n",
       "      <th>ieee1</th>\n",
       "      <th>ieee2</th>\n",
       "      <th>ieee3</th>\n",
       "      <th>ieee4</th>\n",
       "      <th>ieee_max</th>\n",
       "      <th>ieee_min</th>\n",
       "      <th>ieee_mean</th>\n",
       "      <th>ieee_median</th>\n",
       "    </tr>\n",
       "  </thead>\n",
       "  <tbody>\n",
       "    <tr>\n",
       "      <th>0</th>\n",
       "      <td>3663549</td>\n",
       "      <td>0.001947</td>\n",
       "      <td>0.003053</td>\n",
       "      <td>0.000522</td>\n",
       "      <td>0.008641</td>\n",
       "      <td>0.207379</td>\n",
       "      <td>0.207379</td>\n",
       "      <td>0.000522</td>\n",
       "      <td>0.044308</td>\n",
       "      <td>0.003053</td>\n",
       "    </tr>\n",
       "    <tr>\n",
       "      <th>1</th>\n",
       "      <td>3663550</td>\n",
       "      <td>0.003701</td>\n",
       "      <td>0.004310</td>\n",
       "      <td>0.003528</td>\n",
       "      <td>0.019297</td>\n",
       "      <td>0.463138</td>\n",
       "      <td>0.463138</td>\n",
       "      <td>0.003528</td>\n",
       "      <td>0.098795</td>\n",
       "      <td>0.004310</td>\n",
       "    </tr>\n",
       "    <tr>\n",
       "      <th>2</th>\n",
       "      <td>3663551</td>\n",
       "      <td>0.003232</td>\n",
       "      <td>0.008732</td>\n",
       "      <td>0.009337</td>\n",
       "      <td>0.041603</td>\n",
       "      <td>0.998464</td>\n",
       "      <td>0.998464</td>\n",
       "      <td>0.003232</td>\n",
       "      <td>0.212274</td>\n",
       "      <td>0.009337</td>\n",
       "    </tr>\n",
       "    <tr>\n",
       "      <th>3</th>\n",
       "      <td>3663552</td>\n",
       "      <td>0.004946</td>\n",
       "      <td>0.006856</td>\n",
       "      <td>0.003387</td>\n",
       "      <td>0.033648</td>\n",
       "      <td>0.807542</td>\n",
       "      <td>0.807542</td>\n",
       "      <td>0.003387</td>\n",
       "      <td>0.171276</td>\n",
       "      <td>0.006856</td>\n",
       "    </tr>\n",
       "    <tr>\n",
       "      <th>4</th>\n",
       "      <td>3663553</td>\n",
       "      <td>0.006041</td>\n",
       "      <td>0.003289</td>\n",
       "      <td>0.002760</td>\n",
       "      <td>0.019183</td>\n",
       "      <td>0.460392</td>\n",
       "      <td>0.460392</td>\n",
       "      <td>0.002760</td>\n",
       "      <td>0.098333</td>\n",
       "      <td>0.006041</td>\n",
       "    </tr>\n",
       "  </tbody>\n",
       "</table>\n",
       "</div>"
      ],
      "text/plain": [
       "   TransactionID     ieee0     ieee1     ieee2     ieee3     ieee4  ieee_max  \\\n",
       "0        3663549  0.001947  0.003053  0.000522  0.008641  0.207379  0.207379   \n",
       "1        3663550  0.003701  0.004310  0.003528  0.019297  0.463138  0.463138   \n",
       "2        3663551  0.003232  0.008732  0.009337  0.041603  0.998464  0.998464   \n",
       "3        3663552  0.004946  0.006856  0.003387  0.033648  0.807542  0.807542   \n",
       "4        3663553  0.006041  0.003289  0.002760  0.019183  0.460392  0.460392   \n",
       "\n",
       "   ieee_min  ieee_mean  ieee_median  \n",
       "0  0.000522   0.044308     0.003053  \n",
       "1  0.003528   0.098795     0.004310  \n",
       "2  0.003232   0.212274     0.009337  \n",
       "3  0.003387   0.171276     0.006856  \n",
       "4  0.002760   0.098333     0.006041  "
      ]
     },
     "execution_count": 110,
     "metadata": {},
     "output_type": "execute_result"
    }
   ],
   "source": [
    "concat_sub1.head()"
   ]
  },
  {
   "cell_type": "markdown",
   "metadata": {},
   "source": [
    "#### Stacking: mean"
   ]
  },
  {
   "cell_type": "code",
   "execution_count": 111,
   "metadata": {},
   "outputs": [],
   "source": [
    "concat_sub1['isFraud'] = concat_sub1['ieee_mean']\n",
    "concat_sub1[['TransactionID', 'isFraud']].to_csv('./Output/stack_mean_1.csv', \n",
    "                                        index=False, float_format='%.6f')"
   ]
  },
  {
   "cell_type": "markdown",
   "metadata": {},
   "source": [
    "#### Stacking: median"
   ]
  },
  {
   "cell_type": "code",
   "execution_count": 112,
   "metadata": {},
   "outputs": [],
   "source": [
    "concat_sub1['isFraud'] = concat_sub1['ieee_median']\n",
    "concat_sub1[['TransactionID', 'isFraud']].to_csv('./Output/stack_median_1.csv', \n",
    "                                        index=False, float_format='%.6f')"
   ]
  },
  {
   "cell_type": "code",
   "execution_count": 113,
   "metadata": {},
   "outputs": [],
   "source": [
    "cutoff_lo = 0.8\n",
    "cutoff_hi = 0.2"
   ]
  },
  {
   "cell_type": "markdown",
   "metadata": {},
   "source": [
    "#### Pushout + Median Stacking"
   ]
  },
  {
   "cell_type": "code",
   "execution_count": 114,
   "metadata": {},
   "outputs": [],
   "source": [
    "concat_sub1['isFraud'] = np.where(np.all(concat_sub1.iloc[:,1:ncol] > cutoff_lo, axis=1), 1, \n",
    "                                    np.where(np.all(concat_sub1.iloc[:,1:ncol] < cutoff_hi, axis=1),\n",
    "                                             0, concat_sub1['ieee_median']))\n",
    "concat_sub1[['TransactionID', 'isFraud']].to_csv('./Output/stack_pushout_median_1.csv', \n",
    "                                        index=False, float_format='%.6f')"
   ]
  },
  {
   "cell_type": "markdown",
   "metadata": {},
   "source": [
    "#### MinMax + Mean Stacking"
   ]
  },
  {
   "cell_type": "code",
   "execution_count": 115,
   "metadata": {},
   "outputs": [],
   "source": [
    "concat_sub1['isFraud'] = np.where(np.all(concat_sub1.iloc[:,1:ncol] > cutoff_lo, axis=1), \n",
    "                                    concat_sub1['ieee_max'], \n",
    "                                    np.where(np.all(concat_sub1.iloc[:,1:ncol] < cutoff_hi, axis=1),\n",
    "                                             concat_sub1['ieee_min'], \n",
    "                                             concat_sub1['ieee_mean']))\n",
    "concat_sub1[['TransactionID', 'isFraud']].to_csv('./Output/stack_minmax_mean_1.csv', \n",
    "                                        index=False, float_format='%.6f')"
   ]
  },
  {
   "cell_type": "markdown",
   "metadata": {},
   "source": [
    "#### MinMax + Median Stacking"
   ]
  },
  {
   "cell_type": "code",
   "execution_count": 116,
   "metadata": {},
   "outputs": [],
   "source": [
    "concat_sub1['isFraud'] = np.where(np.all(concat_sub1.iloc[:,1:ncol] > cutoff_lo, axis=1), \n",
    "                                    concat_sub1['ieee_max'], \n",
    "                                    np.where(np.all(concat_sub1.iloc[:,1:ncol] < cutoff_hi, axis=1),\n",
    "                                             concat_sub1['ieee_min'], \n",
    "                                             concat_sub1['ieee_median']))\n",
    "concat_sub1[['TransactionID', 'isFraud']].to_csv('./Output/stack_minmax_median_1.csv', \n",
    "                                        index=False, float_format='%.6f')"
   ]
  },
  {
   "cell_type": "markdown",
   "metadata": {},
   "source": [
    "#### Median Rank"
   ]
  },
  {
   "cell_type": "code",
   "execution_count": 117,
   "metadata": {},
   "outputs": [],
   "source": [
    "concat_sub1['isFraud'] = concat_sub1_rank.median(axis=1)\n",
    "concat_sub1['isFraud'] = (concat_sub1['isFraud']-concat_sub1['isFraud'].min())/(concat_sub1['isFraud'].max() - concat_sub1['isFraud'].min())\n",
    "concat_sub1[['TransactionID', 'isFraud']].to_csv('./Output/stack_median_rank_1.csv', index=False, float_format='%.8f')"
   ]
  },
  {
   "cell_type": "markdown",
   "metadata": {},
   "source": [
    "#### Mean Rank"
   ]
  },
  {
   "cell_type": "code",
   "execution_count": 118,
   "metadata": {},
   "outputs": [],
   "source": [
    "concat_sub1['isFraud'] = concat_sub1_rank.mean(axis=1)\n",
    "concat_sub1['isFraud'] = (concat_sub1['isFraud']-concat_sub1['isFraud'].min())/(concat_sub1['isFraud'].max() - concat_sub1['isFraud'].min())\n",
    "concat_sub1[['TransactionID', 'isFraud']].to_csv('./Output/stack_mean_rank_1.csv', index=False, float_format='%.8f')"
   ]
  },
  {
   "cell_type": "markdown",
   "metadata": {},
   "source": [
    "### blend02, blend05 and lgb_cv_1,  lgb_undersample"
   ]
  },
  {
   "cell_type": "code",
   "execution_count": 119,
   "metadata": {},
   "outputs": [],
   "source": [
    "concat_sub2 = pd.concat([concat_sub, lgb_undersample], axis=1)"
   ]
  },
  {
   "cell_type": "code",
   "execution_count": 120,
   "metadata": {},
   "outputs": [
    {
     "data": {
      "text/html": [
       "<div>\n",
       "<style scoped>\n",
       "    .dataframe tbody tr th:only-of-type {\n",
       "        vertical-align: middle;\n",
       "    }\n",
       "\n",
       "    .dataframe tbody tr th {\n",
       "        vertical-align: top;\n",
       "    }\n",
       "\n",
       "    .dataframe thead th {\n",
       "        text-align: right;\n",
       "    }\n",
       "</style>\n",
       "<table border=\"1\" class=\"dataframe\">\n",
       "  <thead>\n",
       "    <tr style=\"text-align: right;\">\n",
       "      <th></th>\n",
       "      <th>TransactionID</th>\n",
       "      <th>ieee0</th>\n",
       "      <th>ieee1</th>\n",
       "      <th>ieee2</th>\n",
       "      <th>ieee3</th>\n",
       "    </tr>\n",
       "  </thead>\n",
       "  <tbody>\n",
       "    <tr>\n",
       "      <th>0</th>\n",
       "      <td>3663549</td>\n",
       "      <td>0.001947</td>\n",
       "      <td>0.003053</td>\n",
       "      <td>0.000522</td>\n",
       "      <td>0.008641</td>\n",
       "    </tr>\n",
       "    <tr>\n",
       "      <th>1</th>\n",
       "      <td>3663550</td>\n",
       "      <td>0.003701</td>\n",
       "      <td>0.004310</td>\n",
       "      <td>0.003528</td>\n",
       "      <td>0.019297</td>\n",
       "    </tr>\n",
       "    <tr>\n",
       "      <th>2</th>\n",
       "      <td>3663551</td>\n",
       "      <td>0.003232</td>\n",
       "      <td>0.008732</td>\n",
       "      <td>0.009337</td>\n",
       "      <td>0.041603</td>\n",
       "    </tr>\n",
       "    <tr>\n",
       "      <th>3</th>\n",
       "      <td>3663552</td>\n",
       "      <td>0.004946</td>\n",
       "      <td>0.006856</td>\n",
       "      <td>0.003387</td>\n",
       "      <td>0.033648</td>\n",
       "    </tr>\n",
       "    <tr>\n",
       "      <th>4</th>\n",
       "      <td>3663553</td>\n",
       "      <td>0.006041</td>\n",
       "      <td>0.003289</td>\n",
       "      <td>0.002760</td>\n",
       "      <td>0.019183</td>\n",
       "    </tr>\n",
       "  </tbody>\n",
       "</table>\n",
       "</div>"
      ],
      "text/plain": [
       "   TransactionID     ieee0     ieee1     ieee2     ieee3\n",
       "0        3663549  0.001947  0.003053  0.000522  0.008641\n",
       "1        3663550  0.003701  0.004310  0.003528  0.019297\n",
       "2        3663551  0.003232  0.008732  0.009337  0.041603\n",
       "3        3663552  0.004946  0.006856  0.003387  0.033648\n",
       "4        3663553  0.006041  0.003289  0.002760  0.019183"
      ]
     },
     "execution_count": 120,
     "metadata": {},
     "output_type": "execute_result"
    }
   ],
   "source": [
    "cols = list(map(lambda x: \"ieee\" + str(x), range(len(concat_sub2.columns))))\n",
    "concat_sub2.columns = cols\n",
    "concat_sub2.reset_index(inplace=True)\n",
    "ncol = concat_sub2.shape[1]\n",
    "concat_sub2.head()"
   ]
  },
  {
   "cell_type": "code",
   "execution_count": 121,
   "metadata": {},
   "outputs": [
    {
     "data": {
      "text/html": [
       "<div>\n",
       "<style scoped>\n",
       "    .dataframe tbody tr th:only-of-type {\n",
       "        vertical-align: middle;\n",
       "    }\n",
       "\n",
       "    .dataframe tbody tr th {\n",
       "        vertical-align: top;\n",
       "    }\n",
       "\n",
       "    .dataframe thead th {\n",
       "        text-align: right;\n",
       "    }\n",
       "</style>\n",
       "<table border=\"1\" class=\"dataframe\">\n",
       "  <thead>\n",
       "    <tr style=\"text-align: right;\">\n",
       "      <th></th>\n",
       "      <th>ieee0</th>\n",
       "      <th>ieee1</th>\n",
       "      <th>ieee2</th>\n",
       "      <th>ieee3</th>\n",
       "    </tr>\n",
       "  </thead>\n",
       "  <tbody>\n",
       "    <tr>\n",
       "      <th>count</th>\n",
       "      <td>506691.00000</td>\n",
       "      <td>506691.00000</td>\n",
       "      <td>506691.00000</td>\n",
       "      <td>506691.00000</td>\n",
       "    </tr>\n",
       "    <tr>\n",
       "      <th>mean</th>\n",
       "      <td>253346.00000</td>\n",
       "      <td>253346.00000</td>\n",
       "      <td>253346.00000</td>\n",
       "      <td>253346.00000</td>\n",
       "    </tr>\n",
       "    <tr>\n",
       "      <th>std</th>\n",
       "      <td>146269.23696</td>\n",
       "      <td>146269.23696</td>\n",
       "      <td>146269.23696</td>\n",
       "      <td>146269.23696</td>\n",
       "    </tr>\n",
       "    <tr>\n",
       "      <th>min</th>\n",
       "      <td>1.00000</td>\n",
       "      <td>1.00000</td>\n",
       "      <td>1.00000</td>\n",
       "      <td>1.00000</td>\n",
       "    </tr>\n",
       "    <tr>\n",
       "      <th>25%</th>\n",
       "      <td>126673.50000</td>\n",
       "      <td>126673.50000</td>\n",
       "      <td>126673.50000</td>\n",
       "      <td>126673.50000</td>\n",
       "    </tr>\n",
       "    <tr>\n",
       "      <th>50%</th>\n",
       "      <td>253346.00000</td>\n",
       "      <td>253346.00000</td>\n",
       "      <td>253346.00000</td>\n",
       "      <td>253346.00000</td>\n",
       "    </tr>\n",
       "    <tr>\n",
       "      <th>75%</th>\n",
       "      <td>380018.50000</td>\n",
       "      <td>380018.50000</td>\n",
       "      <td>380018.50000</td>\n",
       "      <td>380018.50000</td>\n",
       "    </tr>\n",
       "    <tr>\n",
       "      <th>max</th>\n",
       "      <td>506691.00000</td>\n",
       "      <td>506691.00000</td>\n",
       "      <td>506691.00000</td>\n",
       "      <td>506691.00000</td>\n",
       "    </tr>\n",
       "  </tbody>\n",
       "</table>\n",
       "</div>"
      ],
      "text/plain": [
       "              ieee0         ieee1         ieee2         ieee3\n",
       "count  506691.00000  506691.00000  506691.00000  506691.00000\n",
       "mean   253346.00000  253346.00000  253346.00000  253346.00000\n",
       "std    146269.23696  146269.23696  146269.23696  146269.23696\n",
       "min         1.00000       1.00000       1.00000       1.00000\n",
       "25%    126673.50000  126673.50000  126673.50000  126673.50000\n",
       "50%    253346.00000  253346.00000  253346.00000  253346.00000\n",
       "75%    380018.50000  380018.50000  380018.50000  380018.50000\n",
       "max    506691.00000  506691.00000  506691.00000  506691.00000"
      ]
     },
     "execution_count": 121,
     "metadata": {},
     "output_type": "execute_result"
    }
   ],
   "source": [
    "concat_sub2_rank = concat_sub2.iloc[:,1:ncol].copy()\n",
    "concat_sub2_rank.head()\n",
    "for _ in range(ncol-1):\n",
    "    concat_sub2_rank.iloc[:,_] = concat_sub2_rank.iloc[:,_].rank(method ='average')\n",
    "concat_sub2_rank.describe()"
   ]
  },
  {
   "cell_type": "code",
   "execution_count": 122,
   "metadata": {},
   "outputs": [],
   "source": [
    "# get the data fields ready for stacking\n",
    "concat_sub2['ieee_max'] = concat_sub2.iloc[:, 1:ncol].max(axis=1)\n",
    "concat_sub2['ieee_min'] = concat_sub2.iloc[:, 1:ncol].min(axis=1)\n",
    "concat_sub2['ieee_mean'] = concat_sub2.iloc[:, 1:ncol].mean(axis=1)\n",
    "concat_sub2['ieee_median'] = concat_sub2.iloc[:, 1:ncol].median(axis=1)"
   ]
  },
  {
   "cell_type": "code",
   "execution_count": 123,
   "metadata": {},
   "outputs": [
    {
     "data": {
      "text/html": [
       "<div>\n",
       "<style scoped>\n",
       "    .dataframe tbody tr th:only-of-type {\n",
       "        vertical-align: middle;\n",
       "    }\n",
       "\n",
       "    .dataframe tbody tr th {\n",
       "        vertical-align: top;\n",
       "    }\n",
       "\n",
       "    .dataframe thead th {\n",
       "        text-align: right;\n",
       "    }\n",
       "</style>\n",
       "<table border=\"1\" class=\"dataframe\">\n",
       "  <thead>\n",
       "    <tr style=\"text-align: right;\">\n",
       "      <th></th>\n",
       "      <th>TransactionID</th>\n",
       "      <th>ieee0</th>\n",
       "      <th>ieee1</th>\n",
       "      <th>ieee2</th>\n",
       "      <th>ieee3</th>\n",
       "      <th>ieee_max</th>\n",
       "      <th>ieee_min</th>\n",
       "      <th>ieee_mean</th>\n",
       "      <th>ieee_median</th>\n",
       "    </tr>\n",
       "  </thead>\n",
       "  <tbody>\n",
       "    <tr>\n",
       "      <th>0</th>\n",
       "      <td>3663549</td>\n",
       "      <td>0.001947</td>\n",
       "      <td>0.003053</td>\n",
       "      <td>0.000522</td>\n",
       "      <td>0.008641</td>\n",
       "      <td>0.008641</td>\n",
       "      <td>0.000522</td>\n",
       "      <td>0.003541</td>\n",
       "      <td>0.002500</td>\n",
       "    </tr>\n",
       "    <tr>\n",
       "      <th>1</th>\n",
       "      <td>3663550</td>\n",
       "      <td>0.003701</td>\n",
       "      <td>0.004310</td>\n",
       "      <td>0.003528</td>\n",
       "      <td>0.019297</td>\n",
       "      <td>0.019297</td>\n",
       "      <td>0.003528</td>\n",
       "      <td>0.007709</td>\n",
       "      <td>0.004005</td>\n",
       "    </tr>\n",
       "    <tr>\n",
       "      <th>2</th>\n",
       "      <td>3663551</td>\n",
       "      <td>0.003232</td>\n",
       "      <td>0.008732</td>\n",
       "      <td>0.009337</td>\n",
       "      <td>0.041603</td>\n",
       "      <td>0.041603</td>\n",
       "      <td>0.003232</td>\n",
       "      <td>0.015726</td>\n",
       "      <td>0.009034</td>\n",
       "    </tr>\n",
       "    <tr>\n",
       "      <th>3</th>\n",
       "      <td>3663552</td>\n",
       "      <td>0.004946</td>\n",
       "      <td>0.006856</td>\n",
       "      <td>0.003387</td>\n",
       "      <td>0.033648</td>\n",
       "      <td>0.033648</td>\n",
       "      <td>0.003387</td>\n",
       "      <td>0.012209</td>\n",
       "      <td>0.005901</td>\n",
       "    </tr>\n",
       "    <tr>\n",
       "      <th>4</th>\n",
       "      <td>3663553</td>\n",
       "      <td>0.006041</td>\n",
       "      <td>0.003289</td>\n",
       "      <td>0.002760</td>\n",
       "      <td>0.019183</td>\n",
       "      <td>0.019183</td>\n",
       "      <td>0.002760</td>\n",
       "      <td>0.007818</td>\n",
       "      <td>0.004665</td>\n",
       "    </tr>\n",
       "  </tbody>\n",
       "</table>\n",
       "</div>"
      ],
      "text/plain": [
       "   TransactionID     ieee0     ieee1     ieee2     ieee3  ieee_max  ieee_min  \\\n",
       "0        3663549  0.001947  0.003053  0.000522  0.008641  0.008641  0.000522   \n",
       "1        3663550  0.003701  0.004310  0.003528  0.019297  0.019297  0.003528   \n",
       "2        3663551  0.003232  0.008732  0.009337  0.041603  0.041603  0.003232   \n",
       "3        3663552  0.004946  0.006856  0.003387  0.033648  0.033648  0.003387   \n",
       "4        3663553  0.006041  0.003289  0.002760  0.019183  0.019183  0.002760   \n",
       "\n",
       "   ieee_mean  ieee_median  \n",
       "0   0.003541     0.002500  \n",
       "1   0.007709     0.004005  \n",
       "2   0.015726     0.009034  \n",
       "3   0.012209     0.005901  \n",
       "4   0.007818     0.004665  "
      ]
     },
     "execution_count": 123,
     "metadata": {},
     "output_type": "execute_result"
    }
   ],
   "source": [
    "concat_sub2.head()"
   ]
  },
  {
   "cell_type": "markdown",
   "metadata": {},
   "source": [
    "#### Stacking: mean"
   ]
  },
  {
   "cell_type": "code",
   "execution_count": 124,
   "metadata": {},
   "outputs": [],
   "source": [
    "concat_sub2['isFraud'] = concat_sub2['ieee_mean']\n",
    "concat_sub2[['TransactionID', 'isFraud']].to_csv('./Output/stack_mean_2.csv', \n",
    "                                        index=False, float_format='%.6f')"
   ]
  },
  {
   "cell_type": "markdown",
   "metadata": {},
   "source": [
    "#### Stacking: median"
   ]
  },
  {
   "cell_type": "code",
   "execution_count": 125,
   "metadata": {},
   "outputs": [],
   "source": [
    "concat_sub2['isFraud'] = concat_sub2['ieee_median']\n",
    "concat_sub2[['TransactionID', 'isFraud']].to_csv('./Output/stack_median_2.csv', \n",
    "                                        index=False, float_format='%.6f')"
   ]
  },
  {
   "cell_type": "code",
   "execution_count": 113,
   "metadata": {},
   "outputs": [],
   "source": [
    "cutoff_lo = 0.8\n",
    "cutoff_hi = 0.2"
   ]
  },
  {
   "cell_type": "markdown",
   "metadata": {},
   "source": [
    "#### Pushout + Median Stacking"
   ]
  },
  {
   "cell_type": "code",
   "execution_count": 126,
   "metadata": {},
   "outputs": [],
   "source": [
    "concat_sub2['isFraud'] = np.where(np.all(concat_sub2.iloc[:,1:ncol] > cutoff_lo, axis=1), 1, \n",
    "                                    np.where(np.all(concat_sub2.iloc[:,1:ncol] < cutoff_hi, axis=1),\n",
    "                                             0, concat_sub2['ieee_median']))\n",
    "concat_sub2[['TransactionID', 'isFraud']].to_csv('./Output/stack_pushout_median_2.csv', \n",
    "                                        index=False, float_format='%.6f')"
   ]
  },
  {
   "cell_type": "markdown",
   "metadata": {},
   "source": [
    "#### MinMax + Mean Stacking"
   ]
  },
  {
   "cell_type": "code",
   "execution_count": 127,
   "metadata": {},
   "outputs": [],
   "source": [
    "concat_sub2['isFraud'] = np.where(np.all(concat_sub2.iloc[:,1:ncol] > cutoff_lo, axis=1), \n",
    "                                    concat_sub2['ieee_max'], \n",
    "                                    np.where(np.all(concat_sub2.iloc[:,1:ncol] < cutoff_hi, axis=1),\n",
    "                                             concat_sub2['ieee_min'], \n",
    "                                             concat_sub2['ieee_mean']))\n",
    "concat_sub2[['TransactionID', 'isFraud']].to_csv('./Output/stack_minmax_mean_2.csv', \n",
    "                                        index=False, float_format='%.6f')"
   ]
  },
  {
   "cell_type": "markdown",
   "metadata": {},
   "source": [
    "#### MinMax + Median Stacking"
   ]
  },
  {
   "cell_type": "code",
   "execution_count": 130,
   "metadata": {},
   "outputs": [],
   "source": [
    "concat_sub2['isFraud'] = np.where(np.all(concat_sub2.iloc[:,1:ncol] > cutoff_lo, axis=1), \n",
    "                                    concat_sub2['ieee_max'], \n",
    "                                    np.where(np.all(concat_sub2.iloc[:,1:ncol] < cutoff_hi, axis=1),\n",
    "                                             concat_sub2['ieee_min'], \n",
    "                                             concat_sub2['ieee_median']))\n",
    "concat_sub2[['TransactionID', 'isFraud']].to_csv('./Output/stack_minmax_median_2.csv', \n",
    "                                        index=False, float_format='%.6f')"
   ]
  },
  {
   "cell_type": "markdown",
   "metadata": {},
   "source": [
    "#### Median Rank"
   ]
  },
  {
   "cell_type": "code",
   "execution_count": 131,
   "metadata": {},
   "outputs": [],
   "source": [
    "concat_sub2['isFraud'] = concat_sub2_rank.median(axis=1)\n",
    "concat_sub2['isFraud'] = (concat_sub2['isFraud']-concat_sub2['isFraud'].min())/(concat_sub2['isFraud'].max() - concat_sub2['isFraud'].min())\n",
    "concat_sub2[['TransactionID', 'isFraud']].to_csv('./Output/stack_median_rank_2.csv', index=False, float_format='%.8f')"
   ]
  },
  {
   "cell_type": "markdown",
   "metadata": {},
   "source": [
    "#### Mean Rank"
   ]
  },
  {
   "cell_type": "code",
   "execution_count": 132,
   "metadata": {},
   "outputs": [],
   "source": [
    "concat_sub2['isFraud'] = concat_sub2_rank.mean(axis=1)\n",
    "concat_sub2['isFraud'] = (concat_sub2['isFraud']-concat_sub2['isFraud'].min())/(concat_sub2['isFraud'].max() - concat_sub2['isFraud'].min())\n",
    "concat_sub2[['TransactionID', 'isFraud']].to_csv('./Output/stack_mean_rank_2.csv', index=False, float_format='%.8f')"
   ]
  },
  {
   "cell_type": "code",
   "execution_count": null,
   "metadata": {},
   "outputs": [],
   "source": []
  },
  {
   "cell_type": "code",
   "execution_count": 6,
   "metadata": {},
   "outputs": [],
   "source": [
    "cols_cat = ['id_13', 'id_14', 'M9', 'id_30', 'id_19', 'M8', 'addr2', 'M4', 'card1', 'M1', 'P_emaildomain_2', 'M7', 'M6', 'id_15', 'addr1', 'id_20',\n",
    "            'card6', 'id_38', 'P_emaildomain', 'DeviceType', 'id_35', 'M5', 'ProductCD', 'card3', 'id_16', 'card5', 'id_33', 'DeviceInfo',\n",
    "            'R_emaildomain', 'R_emaildomain_2', 'id_31', 'id_17', 'dist1', 'card4', 'card2']"
   ]
  },
  {
   "cell_type": "code",
   "execution_count": null,
   "metadata": {},
   "outputs": [],
   "source": [
    "clfs = [lgb.LGBMClassifier(**lgb_params),\n",
    "        xgb.XGBClassifier(**xgb_params), \n",
    "        RandomForestClassifier(**rf_params),\n",
    "        ExtraTreesClassifier(), \n",
    "        DecisionTreeClassifier(), \n",
    "        AdaBoostClassifier()]\n",
    "lr = LogisticRegression()\n",
    "sclf = StackingClassifier(classifiers=clfs, \n",
    "                          meta_classifier=lr)"
   ]
  },
  {
   "cell_type": "code",
   "execution_count": null,
   "metadata": {},
   "outputs": [],
   "source": [
    "%%time\n",
    "scores = []\n",
    "score = 0\n",
    "\n",
    "EPOCHS = 5\n",
    "kf = KFold(n_splits = EPOCHS, shuffle = True)\n",
    "\n",
    "for i, (train_idx, validation_idx) in enumerate(kf.split(train_features, train_target)):\n",
    "\n",
    "    X_train, X_validation = train_features.iloc[train_idx, :], train_features.iloc[validation_idx, :]\n",
    "    y_train, y_validation = train_target.iloc[train_idx], train_target.iloc[validation_idx]\n",
    "\n",
    "    sclf.fit(X_train, y_train)  \n",
    "\n",
    "    y_pred_train = sclf.predict_proba(X_validation)[:,1]\n",
    "    score = roc_auc_score(y_validation, y_pred_train)\n",
    "    scores.append(score)\n",
    "    print('Validation AUC: ', score)\n",
    "\n",
    "print(\"[%s] Accuracy: %0.2f (+/- %0.2f)\" % (label, np.mean(scores), np.std(scores)))"
   ]
  },
  {
   "cell_type": "code",
   "execution_count": null,
   "metadata": {},
   "outputs": [],
   "source": [
    "%%time\n",
    "scores = []\n",
    "score = 0\n",
    "for clf, label in zip(clfs + [sclf], \n",
    "                      ['LGBM', \n",
    "                       'Xgboost',\n",
    "                       'Random Forest', \n",
    "                       'Extra Trees',\n",
    "                       'DecisionTree',\n",
    "                       'Adaboost',\n",
    "                       'StackingClassifier']):\n",
    "    EPOCHS = 5\n",
    "    kf = KFold(n_splits = EPOCHS, shuffle = True)\n",
    "    \n",
    "    for i, (train_idx, validation_idx) in enumerate(kf.split(train_features, train_target)):\n",
    "        \n",
    "        print(f'[{label}] Start training {i+1} fold')\n",
    "    \n",
    "        X_train, X_validation = train_features.iloc[train_idx, :], train_features.iloc[validation_idx, :]\n",
    "        y_train, y_validation = train_target.iloc[train_idx], train_target.iloc[validation_idx]\n",
    " \n",
    "        clf.fit(X_train, y_train)  \n",
    " \n",
    "        y_pred_train = clf.predict_proba(X_validation)[:,1]\n",
    "        score = roc_auc_score(y_validation, y_pred_train)\n",
    "        scores.append(score)\n",
    "        print('            Validation AUC: ', score)\n",
    "\n",
    "    print(\"[%s] Accuracy: %0.2f (+/- %0.2f)\" % (label, np.mean(scores), np.std(scores)))"
   ]
  },
  {
   "cell_type": "markdown",
   "metadata": {},
   "source": [
    "## Reference\n",
    "- https://www.kaggle.com/smerllo/identify-unique-cards-id"
   ]
  }
 ],
 "metadata": {
  "kernelspec": {
   "display_name": "Python 3",
   "language": "python",
   "name": "python3"
  },
  "toc": {
   "base_numbering": 1,
   "nav_menu": {},
   "number_sections": true,
   "sideBar": true,
   "skip_h1_title": false,
   "title_cell": "Table of Contents",
   "title_sidebar": "Contents",
   "toc_cell": false,
   "toc_position": {},
   "toc_section_display": true,
   "toc_window_display": false
  },
  "varInspector": {
   "cols": {
    "lenName": 16,
    "lenType": 16,
    "lenVar": 40
   },
   "kernels_config": {
    "python": {
     "delete_cmd_postfix": "",
     "delete_cmd_prefix": "del ",
     "library": "var_list.py",
     "varRefreshCmd": "print(var_dic_list())"
    },
    "r": {
     "delete_cmd_postfix": ") ",
     "delete_cmd_prefix": "rm(",
     "library": "var_list.r",
     "varRefreshCmd": "cat(var_dic_list()) "
    }
   },
   "types_to_exclude": [
    "module",
    "function",
    "builtin_function_or_method",
    "instance",
    "_Feature"
   ],
   "window_display": false
  }
 },
 "nbformat": 4,
 "nbformat_minor": 2
}

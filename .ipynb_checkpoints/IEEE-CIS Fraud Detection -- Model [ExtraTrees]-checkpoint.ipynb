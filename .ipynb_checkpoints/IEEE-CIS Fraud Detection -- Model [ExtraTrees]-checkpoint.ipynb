{
 "cells": [
  {
   "cell_type": "markdown",
   "metadata": {},
   "source": [
    "# IEEE-CIS Fraud Detection -- Model [ExtraTrees]"
   ]
  },
  {
   "cell_type": "raw",
   "metadata": {},
   "source": [
    "import pandas as pd\n",
    "import numpy as np\n",
    "import gc\n",
    "import warnings\n",
    "warnings.filterwarnings('ignore')"
   ]
  },
  {
   "cell_type": "code",
   "execution_count": 2,
   "metadata": {},
   "outputs": [],
   "source": [
    "import matplotlib.pyplot as plt\n",
    "import seaborn as sns\n",
    "plt.style.use('classic')\n",
    "sns.set_palette('deep')\n",
    "sns.set_style('white')\n",
    "%matplotlib inline"
   ]
  },
  {
   "cell_type": "code",
   "execution_count": 3,
   "metadata": {},
   "outputs": [],
   "source": [
    "train_features = pd.read_csv('./Data/train_features.csv' )\n",
    "test_features = pd.read_csv('./Data/test_features.csv')\n",
    "train_target = pd.read_csv('./Data/train_target.csv', header=None)"
   ]
  },
  {
   "cell_type": "markdown",
   "metadata": {},
   "source": [
    "## Model"
   ]
  },
  {
   "cell_type": "markdown",
   "metadata": {},
   "source": [
    "- Since the train and test data were collected in time series manner and there's existing a gap, split the train and validation data based using TimeSeriesSplit. "
   ]
  },
  {
   "cell_type": "code",
   "execution_count": 4,
   "metadata": {},
   "outputs": [
    {
     "name": "stderr",
     "output_type": "stream",
     "text": [
      "/Users/wangxinquan/anaconda3/lib/python3.7/site-packages/sklearn/externals/joblib/__init__.py:15: DeprecationWarning: sklearn.externals.joblib is deprecated in 0.21 and will be removed in 0.23. Please import this functionality directly from joblib, which can be installed with: pip install joblib. If this warning is raised when loading pickled models, you may need to re-serialize those models with scikit-learn 0.21+.\n",
      "  warnings.warn(msg, category=DeprecationWarning)\n"
     ]
    }
   ],
   "source": [
    "from sklearn.model_selection import TimeSeriesSplit\n",
    "from sklearn.model_selection import KFold\n",
    "from sklearn.metrics import roc_auc_score, auc\n",
    "from sklearn.ensemble import ExtraTreesClassifier\n",
    "from sklearn.externals import joblib"
   ]
  },
  {
   "cell_type": "code",
   "execution_count": 5,
   "metadata": {},
   "outputs": [],
   "source": [
    "# etc params\n",
    "etc_params = {'n_estimators': 100,\n",
    "             'max_depth': 8,\n",
    "             'min_samples_split': 100,\n",
    "             'min_samples_leaf': 70}"
   ]
  },
  {
   "cell_type": "code",
   "execution_count": 6,
   "metadata": {},
   "outputs": [],
   "source": [
    "def model_fn(clf, params):\n",
    "    print(\"############## New Run ################\")\n",
    "    print(\"PARAMETERS: \")\n",
    "    print(f\"params  = {params}\")\n",
    "    \n",
    "    n_splits = 5\n",
    "    tscv = TimeSeriesSplit(n_splits=n_splits)\n",
    "    score_mean = 0\n",
    "    print(\"CV SCORE: \")\n",
    "    for train_idx, validation_idx in tscv.split(train_features, train_target):\n",
    "        model = clf(**params)\n",
    "\n",
    "        X_train, X_validation = train_features.iloc[train_idx, :], train_features.iloc[validation_idx, :]\n",
    "        y_train, y_validation = train_target.iloc[train_idx], train_target.iloc[validation_idx]\n",
    "\n",
    "        model.fit(X_train, y_train)\n",
    "\n",
    "        y_pred_train = model.predict_proba(X_validation)[:,1]\n",
    "        score = roc_auc_score(y_validation, y_pred_train)\n",
    "        score_mean += score\n",
    "        print(f'AUC: {score}')\n",
    "    del X_train, X_validation, y_train, y_validation, clf, y_pred_train    \n",
    "    gc.collect()\n",
    "    joblib.dump(model, \"./Model/LGB_model.m\")\n",
    "    print(f'Mean AUC: {score_mean / 5} \\n')\n",
    "    return -(score_mean / 5)"
   ]
  },
  {
   "cell_type": "code",
   "execution_count": 7,
   "metadata": {},
   "outputs": [
    {
     "name": "stdout",
     "output_type": "stream",
     "text": [
      "############## New Run ################\n",
      "PARAMETERS: \n",
      "params  = {'n_estimators': 100, 'max_depth': 8, 'min_samples_split': 100, 'min_samples_leaf': 70}\n",
      "CV SCORE: \n",
      "AUC: 0.8188898938775161\n",
      "AUC: 0.8379024086631095\n",
      "AUC: 0.8195859879752434\n",
      "AUC: 0.8269533239208633\n",
      "AUC: 0.819769515878774\n",
      "Mean AUC: 0.8246202260631014 \n",
      "\n"
     ]
    },
    {
     "data": {
      "text/plain": [
       "-0.8246202260631014"
      ]
     },
     "execution_count": 7,
     "metadata": {},
     "output_type": "execute_result"
    }
   ],
   "source": [
    "model_fn(ExtraTreesClassifier, etc_params)"
   ]
  },
  {
   "cell_type": "markdown",
   "metadata": {},
   "source": [
    "## Gridsearch for best params"
   ]
  },
  {
   "cell_type": "code",
   "execution_count": 8,
   "metadata": {},
   "outputs": [],
   "source": [
    "from hyperopt import fmin, hp, tpe, Trials, space_eval, STATUS_OK, STATUS_RUNNING"
   ]
  },
  {
   "cell_type": "markdown",
   "metadata": {},
   "source": [
    "### Random Forest"
   ]
  },
  {
   "cell_type": "code",
   "execution_count": 9,
   "metadata": {},
   "outputs": [],
   "source": [
    "etc_space = {\n",
    "    \"max_depth\": hp.quniform('max_depth', 7, 50, 3),\n",
    "    \"min_samples_split\": hp.choice('min_samples_split', [5, 10, 15, 20, 25]),\n",
    "    \"min_samples_leaf\": hp.choice('min_samples_leaf', [5, 10, 15, 20, 25]),\n",
    "    \"criterion\": \"gini\",\n",
    "    \"n_estimators\": hp.quniform('n_estimators', 10, 500, 10),\n",
    "    \"max_features\": 'auto',\n",
    "    'random_state': 0}"
   ]
  },
  {
   "cell_type": "code",
   "execution_count": 12,
   "metadata": {},
   "outputs": [],
   "source": [
    "def etc_grid(params):\n",
    "    print(\"############## New Run ################\")\n",
    "    print(\"PARAMETERS: \")\n",
    "    print(f\"params  = {params}\")\n",
    "    params = {\n",
    "        'max_depth': int(params['max_depth']),\n",
    "        'min_samples_split': params['min_samples_split'],\n",
    "        'min_samples_leaf': params['min_samples_leaf'],\n",
    "        'criterion': params['criterion'],\n",
    "        'n_estimators': int(params['n_estimators']),\n",
    "        'max_features': params['max_features'],\n",
    "        'random_state': 0\n",
    "    }\n",
    "    \n",
    "    n_splits = 5\n",
    "    tscv = TimeSeriesSplit(n_splits=n_splits)\n",
    "    score_mean = 0\n",
    "    print(\"CV SCORE: \")\n",
    "    for train_idx, validation_idx in tscv.split(train_features, train_target):\n",
    "        model = ExtraTreesClassifier(**params)\n",
    "\n",
    "        X_train, X_validation = train_features.iloc[train_idx, :], train_features.iloc[validation_idx, :]\n",
    "        y_train, y_validation = train_target.iloc[train_idx], train_target.iloc[validation_idx]\n",
    "\n",
    "        model.fit(X_train, y_train)\n",
    "\n",
    "        y_pred_train = model.predict_proba(X_validation)[:,1]\n",
    "        score = roc_auc_score(y_validation, y_pred_train)\n",
    "        score_mean += score\n",
    "        print(f'AUC: {score}')\n",
    "    del X_train, X_validation, y_train, y_validation, y_pred_train    \n",
    "    gc.collect()\n",
    "    print(f'Mean AUC: {score_mean / 5} \\n')\n",
    "    return -(score_mean / 5)"
   ]
  },
  {
   "cell_type": "code",
   "execution_count": 13,
   "metadata": {
    "scrolled": false
   },
   "outputs": [
    {
     "name": "stdout",
     "output_type": "stream",
     "text": [
      "############## New Run ################             \n",
      "PARAMETERS:                                         \n",
      "params  = {'criterion': 'gini', 'max_depth': 33.0, 'max_features': 'auto', 'min_samples_leaf': 25, 'min_samples_split': 25, 'n_estimators': 480.0, 'random_state': 0}\n",
      "CV SCORE:                                           \n",
      "AUC: 0.860978690314488                              \n",
      "AUC: 0.8704620077701809                             \n",
      "AUC: 0.8596058153190592                             \n",
      "  0%|          | 0/20 [15:28<?, ?it/s, best loss: ?]\n"
     ]
    },
    {
     "ename": "KeyboardInterrupt",
     "evalue": "",
     "output_type": "error",
     "traceback": [
      "\u001b[0;31m---------------------------------------------------------------------------\u001b[0m",
      "\u001b[0;31mKeyboardInterrupt\u001b[0m                         Traceback (most recent call last)",
      "\u001b[0;32m<ipython-input-13-bcea52a30602>\u001b[0m in \u001b[0;36m<module>\u001b[0;34m\u001b[0m\n\u001b[1;32m      2\u001b[0m             \u001b[0mspace\u001b[0m\u001b[0;34m=\u001b[0m\u001b[0metc_space\u001b[0m\u001b[0;34m,\u001b[0m\u001b[0;34m\u001b[0m\u001b[0;34m\u001b[0m\u001b[0m\n\u001b[1;32m      3\u001b[0m             \u001b[0malgo\u001b[0m\u001b[0;34m=\u001b[0m\u001b[0mtpe\u001b[0m\u001b[0;34m.\u001b[0m\u001b[0msuggest\u001b[0m\u001b[0;34m,\u001b[0m\u001b[0;34m\u001b[0m\u001b[0;34m\u001b[0m\u001b[0m\n\u001b[0;32m----> 4\u001b[0;31m             max_evals=20)\n\u001b[0m",
      "\u001b[0;32m~/anaconda3/lib/python3.7/site-packages/hyperopt/fmin.py\u001b[0m in \u001b[0;36mfmin\u001b[0;34m(fn, space, algo, max_evals, trials, rstate, allow_trials_fmin, pass_expr_memo_ctrl, catch_eval_exceptions, verbose, return_argmin, points_to_evaluate, max_queue_len, show_progressbar)\u001b[0m\n\u001b[1;32m    405\u001b[0m                     show_progressbar=show_progressbar)\n\u001b[1;32m    406\u001b[0m     \u001b[0mrval\u001b[0m\u001b[0;34m.\u001b[0m\u001b[0mcatch_eval_exceptions\u001b[0m \u001b[0;34m=\u001b[0m \u001b[0mcatch_eval_exceptions\u001b[0m\u001b[0;34m\u001b[0m\u001b[0;34m\u001b[0m\u001b[0m\n\u001b[0;32m--> 407\u001b[0;31m     \u001b[0mrval\u001b[0m\u001b[0;34m.\u001b[0m\u001b[0mexhaust\u001b[0m\u001b[0;34m(\u001b[0m\u001b[0;34m)\u001b[0m\u001b[0;34m\u001b[0m\u001b[0;34m\u001b[0m\u001b[0m\n\u001b[0m\u001b[1;32m    408\u001b[0m     \u001b[0;32mif\u001b[0m \u001b[0mreturn_argmin\u001b[0m\u001b[0;34m:\u001b[0m\u001b[0;34m\u001b[0m\u001b[0;34m\u001b[0m\u001b[0m\n\u001b[1;32m    409\u001b[0m         \u001b[0;32mreturn\u001b[0m \u001b[0mtrials\u001b[0m\u001b[0;34m.\u001b[0m\u001b[0margmin\u001b[0m\u001b[0;34m\u001b[0m\u001b[0;34m\u001b[0m\u001b[0m\n",
      "\u001b[0;32m~/anaconda3/lib/python3.7/site-packages/hyperopt/fmin.py\u001b[0m in \u001b[0;36mexhaust\u001b[0;34m(self)\u001b[0m\n\u001b[1;32m    260\u001b[0m     \u001b[0;32mdef\u001b[0m \u001b[0mexhaust\u001b[0m\u001b[0;34m(\u001b[0m\u001b[0mself\u001b[0m\u001b[0;34m)\u001b[0m\u001b[0;34m:\u001b[0m\u001b[0;34m\u001b[0m\u001b[0;34m\u001b[0m\u001b[0m\n\u001b[1;32m    261\u001b[0m         \u001b[0mn_done\u001b[0m \u001b[0;34m=\u001b[0m \u001b[0mlen\u001b[0m\u001b[0;34m(\u001b[0m\u001b[0mself\u001b[0m\u001b[0;34m.\u001b[0m\u001b[0mtrials\u001b[0m\u001b[0;34m)\u001b[0m\u001b[0;34m\u001b[0m\u001b[0;34m\u001b[0m\u001b[0m\n\u001b[0;32m--> 262\u001b[0;31m         \u001b[0mself\u001b[0m\u001b[0;34m.\u001b[0m\u001b[0mrun\u001b[0m\u001b[0;34m(\u001b[0m\u001b[0mself\u001b[0m\u001b[0;34m.\u001b[0m\u001b[0mmax_evals\u001b[0m \u001b[0;34m-\u001b[0m \u001b[0mn_done\u001b[0m\u001b[0;34m,\u001b[0m \u001b[0mblock_until_done\u001b[0m\u001b[0;34m=\u001b[0m\u001b[0mself\u001b[0m\u001b[0;34m.\u001b[0m\u001b[0masynchronous\u001b[0m\u001b[0;34m)\u001b[0m\u001b[0;34m\u001b[0m\u001b[0;34m\u001b[0m\u001b[0m\n\u001b[0m\u001b[1;32m    263\u001b[0m         \u001b[0mself\u001b[0m\u001b[0;34m.\u001b[0m\u001b[0mtrials\u001b[0m\u001b[0;34m.\u001b[0m\u001b[0mrefresh\u001b[0m\u001b[0;34m(\u001b[0m\u001b[0;34m)\u001b[0m\u001b[0;34m\u001b[0m\u001b[0;34m\u001b[0m\u001b[0m\n\u001b[1;32m    264\u001b[0m         \u001b[0;32mreturn\u001b[0m \u001b[0mself\u001b[0m\u001b[0;34m\u001b[0m\u001b[0;34m\u001b[0m\u001b[0m\n",
      "\u001b[0;32m~/anaconda3/lib/python3.7/site-packages/hyperopt/fmin.py\u001b[0m in \u001b[0;36mrun\u001b[0;34m(self, N, block_until_done)\u001b[0m\n\u001b[1;32m    225\u001b[0m                     \u001b[0;32melse\u001b[0m\u001b[0;34m:\u001b[0m\u001b[0;34m\u001b[0m\u001b[0;34m\u001b[0m\u001b[0m\n\u001b[1;32m    226\u001b[0m                         \u001b[0;31m# -- loop over trials and do the jobs directly\u001b[0m\u001b[0;34m\u001b[0m\u001b[0;34m\u001b[0m\u001b[0;34m\u001b[0m\u001b[0m\n\u001b[0;32m--> 227\u001b[0;31m                         \u001b[0mself\u001b[0m\u001b[0;34m.\u001b[0m\u001b[0mserial_evaluate\u001b[0m\u001b[0;34m(\u001b[0m\u001b[0;34m)\u001b[0m\u001b[0;34m\u001b[0m\u001b[0;34m\u001b[0m\u001b[0m\n\u001b[0m\u001b[1;32m    228\u001b[0m \u001b[0;34m\u001b[0m\u001b[0m\n\u001b[1;32m    229\u001b[0m                     \u001b[0;32mtry\u001b[0m\u001b[0;34m:\u001b[0m\u001b[0;34m\u001b[0m\u001b[0;34m\u001b[0m\u001b[0m\n",
      "\u001b[0;32m~/anaconda3/lib/python3.7/site-packages/hyperopt/fmin.py\u001b[0m in \u001b[0;36mserial_evaluate\u001b[0;34m(self, N)\u001b[0m\n\u001b[1;32m    139\u001b[0m                 \u001b[0mctrl\u001b[0m \u001b[0;34m=\u001b[0m \u001b[0mbase\u001b[0m\u001b[0;34m.\u001b[0m\u001b[0mCtrl\u001b[0m\u001b[0;34m(\u001b[0m\u001b[0mself\u001b[0m\u001b[0;34m.\u001b[0m\u001b[0mtrials\u001b[0m\u001b[0;34m,\u001b[0m \u001b[0mcurrent_trial\u001b[0m\u001b[0;34m=\u001b[0m\u001b[0mtrial\u001b[0m\u001b[0;34m)\u001b[0m\u001b[0;34m\u001b[0m\u001b[0;34m\u001b[0m\u001b[0m\n\u001b[1;32m    140\u001b[0m                 \u001b[0;32mtry\u001b[0m\u001b[0;34m:\u001b[0m\u001b[0;34m\u001b[0m\u001b[0;34m\u001b[0m\u001b[0m\n\u001b[0;32m--> 141\u001b[0;31m                     \u001b[0mresult\u001b[0m \u001b[0;34m=\u001b[0m \u001b[0mself\u001b[0m\u001b[0;34m.\u001b[0m\u001b[0mdomain\u001b[0m\u001b[0;34m.\u001b[0m\u001b[0mevaluate\u001b[0m\u001b[0;34m(\u001b[0m\u001b[0mspec\u001b[0m\u001b[0;34m,\u001b[0m \u001b[0mctrl\u001b[0m\u001b[0;34m)\u001b[0m\u001b[0;34m\u001b[0m\u001b[0;34m\u001b[0m\u001b[0m\n\u001b[0m\u001b[1;32m    142\u001b[0m                 \u001b[0;32mexcept\u001b[0m \u001b[0mException\u001b[0m \u001b[0;32mas\u001b[0m \u001b[0me\u001b[0m\u001b[0;34m:\u001b[0m\u001b[0;34m\u001b[0m\u001b[0;34m\u001b[0m\u001b[0m\n\u001b[1;32m    143\u001b[0m                     \u001b[0mlogger\u001b[0m\u001b[0;34m.\u001b[0m\u001b[0minfo\u001b[0m\u001b[0;34m(\u001b[0m\u001b[0;34m'job exception: %s'\u001b[0m \u001b[0;34m%\u001b[0m \u001b[0mstr\u001b[0m\u001b[0;34m(\u001b[0m\u001b[0me\u001b[0m\u001b[0;34m)\u001b[0m\u001b[0;34m)\u001b[0m\u001b[0;34m\u001b[0m\u001b[0;34m\u001b[0m\u001b[0m\n",
      "\u001b[0;32m~/anaconda3/lib/python3.7/site-packages/hyperopt/base.py\u001b[0m in \u001b[0;36mevaluate\u001b[0;34m(self, config, ctrl, attach_attachments)\u001b[0m\n\u001b[1;32m    842\u001b[0m                 \u001b[0mmemo\u001b[0m\u001b[0;34m=\u001b[0m\u001b[0mmemo\u001b[0m\u001b[0;34m,\u001b[0m\u001b[0;34m\u001b[0m\u001b[0;34m\u001b[0m\u001b[0m\n\u001b[1;32m    843\u001b[0m                 print_node_on_error=self.rec_eval_print_node_on_error)\n\u001b[0;32m--> 844\u001b[0;31m             \u001b[0mrval\u001b[0m \u001b[0;34m=\u001b[0m \u001b[0mself\u001b[0m\u001b[0;34m.\u001b[0m\u001b[0mfn\u001b[0m\u001b[0;34m(\u001b[0m\u001b[0mpyll_rval\u001b[0m\u001b[0;34m)\u001b[0m\u001b[0;34m\u001b[0m\u001b[0;34m\u001b[0m\u001b[0m\n\u001b[0m\u001b[1;32m    845\u001b[0m \u001b[0;34m\u001b[0m\u001b[0m\n\u001b[1;32m    846\u001b[0m         \u001b[0;32mif\u001b[0m \u001b[0misinstance\u001b[0m\u001b[0;34m(\u001b[0m\u001b[0mrval\u001b[0m\u001b[0;34m,\u001b[0m \u001b[0;34m(\u001b[0m\u001b[0mfloat\u001b[0m\u001b[0;34m,\u001b[0m \u001b[0mint\u001b[0m\u001b[0;34m,\u001b[0m \u001b[0mnp\u001b[0m\u001b[0;34m.\u001b[0m\u001b[0mnumber\u001b[0m\u001b[0;34m)\u001b[0m\u001b[0;34m)\u001b[0m\u001b[0;34m:\u001b[0m\u001b[0;34m\u001b[0m\u001b[0;34m\u001b[0m\u001b[0m\n",
      "\u001b[0;32m<ipython-input-12-384ae0cdf0b6>\u001b[0m in \u001b[0;36metc_grid\u001b[0;34m(params)\u001b[0m\n\u001b[1;32m     23\u001b[0m         \u001b[0my_train\u001b[0m\u001b[0;34m,\u001b[0m \u001b[0my_validation\u001b[0m \u001b[0;34m=\u001b[0m \u001b[0mtrain_target\u001b[0m\u001b[0;34m.\u001b[0m\u001b[0miloc\u001b[0m\u001b[0;34m[\u001b[0m\u001b[0mtrain_idx\u001b[0m\u001b[0;34m]\u001b[0m\u001b[0;34m,\u001b[0m \u001b[0mtrain_target\u001b[0m\u001b[0;34m.\u001b[0m\u001b[0miloc\u001b[0m\u001b[0;34m[\u001b[0m\u001b[0mvalidation_idx\u001b[0m\u001b[0;34m]\u001b[0m\u001b[0;34m\u001b[0m\u001b[0;34m\u001b[0m\u001b[0m\n\u001b[1;32m     24\u001b[0m \u001b[0;34m\u001b[0m\u001b[0m\n\u001b[0;32m---> 25\u001b[0;31m         \u001b[0mmodel\u001b[0m\u001b[0;34m.\u001b[0m\u001b[0mfit\u001b[0m\u001b[0;34m(\u001b[0m\u001b[0mX_train\u001b[0m\u001b[0;34m,\u001b[0m \u001b[0my_train\u001b[0m\u001b[0;34m)\u001b[0m\u001b[0;34m\u001b[0m\u001b[0;34m\u001b[0m\u001b[0m\n\u001b[0m\u001b[1;32m     26\u001b[0m \u001b[0;34m\u001b[0m\u001b[0m\n\u001b[1;32m     27\u001b[0m         \u001b[0my_pred_train\u001b[0m \u001b[0;34m=\u001b[0m \u001b[0mmodel\u001b[0m\u001b[0;34m.\u001b[0m\u001b[0mpredict_proba\u001b[0m\u001b[0;34m(\u001b[0m\u001b[0mX_validation\u001b[0m\u001b[0;34m)\u001b[0m\u001b[0;34m[\u001b[0m\u001b[0;34m:\u001b[0m\u001b[0;34m,\u001b[0m\u001b[0;36m1\u001b[0m\u001b[0;34m]\u001b[0m\u001b[0;34m\u001b[0m\u001b[0;34m\u001b[0m\u001b[0m\n",
      "\u001b[0;32m~/anaconda3/lib/python3.7/site-packages/sklearn/ensemble/forest.py\u001b[0m in \u001b[0;36mfit\u001b[0;34m(self, X, y, sample_weight)\u001b[0m\n\u001b[1;32m    328\u001b[0m                     \u001b[0mt\u001b[0m\u001b[0;34m,\u001b[0m \u001b[0mself\u001b[0m\u001b[0;34m,\u001b[0m \u001b[0mX\u001b[0m\u001b[0;34m,\u001b[0m \u001b[0my\u001b[0m\u001b[0;34m,\u001b[0m \u001b[0msample_weight\u001b[0m\u001b[0;34m,\u001b[0m \u001b[0mi\u001b[0m\u001b[0;34m,\u001b[0m \u001b[0mlen\u001b[0m\u001b[0;34m(\u001b[0m\u001b[0mtrees\u001b[0m\u001b[0;34m)\u001b[0m\u001b[0;34m,\u001b[0m\u001b[0;34m\u001b[0m\u001b[0;34m\u001b[0m\u001b[0m\n\u001b[1;32m    329\u001b[0m                     verbose=self.verbose, class_weight=self.class_weight)\n\u001b[0;32m--> 330\u001b[0;31m                 for i, t in enumerate(trees))\n\u001b[0m\u001b[1;32m    331\u001b[0m \u001b[0;34m\u001b[0m\u001b[0m\n\u001b[1;32m    332\u001b[0m             \u001b[0;31m# Collect newly grown trees\u001b[0m\u001b[0;34m\u001b[0m\u001b[0;34m\u001b[0m\u001b[0;34m\u001b[0m\u001b[0m\n",
      "\u001b[0;32m~/anaconda3/lib/python3.7/site-packages/joblib/parallel.py\u001b[0m in \u001b[0;36m__call__\u001b[0;34m(self, iterable)\u001b[0m\n\u001b[1;32m    922\u001b[0m                 \u001b[0mself\u001b[0m\u001b[0;34m.\u001b[0m\u001b[0m_iterating\u001b[0m \u001b[0;34m=\u001b[0m \u001b[0mself\u001b[0m\u001b[0;34m.\u001b[0m\u001b[0m_original_iterator\u001b[0m \u001b[0;32mis\u001b[0m \u001b[0;32mnot\u001b[0m \u001b[0;32mNone\u001b[0m\u001b[0;34m\u001b[0m\u001b[0;34m\u001b[0m\u001b[0m\n\u001b[1;32m    923\u001b[0m \u001b[0;34m\u001b[0m\u001b[0m\n\u001b[0;32m--> 924\u001b[0;31m             \u001b[0;32mwhile\u001b[0m \u001b[0mself\u001b[0m\u001b[0;34m.\u001b[0m\u001b[0mdispatch_one_batch\u001b[0m\u001b[0;34m(\u001b[0m\u001b[0miterator\u001b[0m\u001b[0;34m)\u001b[0m\u001b[0;34m:\u001b[0m\u001b[0;34m\u001b[0m\u001b[0;34m\u001b[0m\u001b[0m\n\u001b[0m\u001b[1;32m    925\u001b[0m                 \u001b[0;32mpass\u001b[0m\u001b[0;34m\u001b[0m\u001b[0;34m\u001b[0m\u001b[0m\n\u001b[1;32m    926\u001b[0m \u001b[0;34m\u001b[0m\u001b[0m\n",
      "\u001b[0;32m~/anaconda3/lib/python3.7/site-packages/joblib/parallel.py\u001b[0m in \u001b[0;36mdispatch_one_batch\u001b[0;34m(self, iterator)\u001b[0m\n\u001b[1;32m    757\u001b[0m                 \u001b[0;32mreturn\u001b[0m \u001b[0;32mFalse\u001b[0m\u001b[0;34m\u001b[0m\u001b[0;34m\u001b[0m\u001b[0m\n\u001b[1;32m    758\u001b[0m             \u001b[0;32melse\u001b[0m\u001b[0;34m:\u001b[0m\u001b[0;34m\u001b[0m\u001b[0;34m\u001b[0m\u001b[0m\n\u001b[0;32m--> 759\u001b[0;31m                 \u001b[0mself\u001b[0m\u001b[0;34m.\u001b[0m\u001b[0m_dispatch\u001b[0m\u001b[0;34m(\u001b[0m\u001b[0mtasks\u001b[0m\u001b[0;34m)\u001b[0m\u001b[0;34m\u001b[0m\u001b[0;34m\u001b[0m\u001b[0m\n\u001b[0m\u001b[1;32m    760\u001b[0m                 \u001b[0;32mreturn\u001b[0m \u001b[0;32mTrue\u001b[0m\u001b[0;34m\u001b[0m\u001b[0;34m\u001b[0m\u001b[0m\n\u001b[1;32m    761\u001b[0m \u001b[0;34m\u001b[0m\u001b[0m\n",
      "\u001b[0;32m~/anaconda3/lib/python3.7/site-packages/joblib/parallel.py\u001b[0m in \u001b[0;36m_dispatch\u001b[0;34m(self, batch)\u001b[0m\n\u001b[1;32m    714\u001b[0m         \u001b[0;32mwith\u001b[0m \u001b[0mself\u001b[0m\u001b[0;34m.\u001b[0m\u001b[0m_lock\u001b[0m\u001b[0;34m:\u001b[0m\u001b[0;34m\u001b[0m\u001b[0;34m\u001b[0m\u001b[0m\n\u001b[1;32m    715\u001b[0m             \u001b[0mjob_idx\u001b[0m \u001b[0;34m=\u001b[0m \u001b[0mlen\u001b[0m\u001b[0;34m(\u001b[0m\u001b[0mself\u001b[0m\u001b[0;34m.\u001b[0m\u001b[0m_jobs\u001b[0m\u001b[0;34m)\u001b[0m\u001b[0;34m\u001b[0m\u001b[0;34m\u001b[0m\u001b[0m\n\u001b[0;32m--> 716\u001b[0;31m             \u001b[0mjob\u001b[0m \u001b[0;34m=\u001b[0m \u001b[0mself\u001b[0m\u001b[0;34m.\u001b[0m\u001b[0m_backend\u001b[0m\u001b[0;34m.\u001b[0m\u001b[0mapply_async\u001b[0m\u001b[0;34m(\u001b[0m\u001b[0mbatch\u001b[0m\u001b[0;34m,\u001b[0m \u001b[0mcallback\u001b[0m\u001b[0;34m=\u001b[0m\u001b[0mcb\u001b[0m\u001b[0;34m)\u001b[0m\u001b[0;34m\u001b[0m\u001b[0;34m\u001b[0m\u001b[0m\n\u001b[0m\u001b[1;32m    717\u001b[0m             \u001b[0;31m# A job can complete so quickly than its callback is\u001b[0m\u001b[0;34m\u001b[0m\u001b[0;34m\u001b[0m\u001b[0;34m\u001b[0m\u001b[0m\n\u001b[1;32m    718\u001b[0m             \u001b[0;31m# called before we get here, causing self._jobs to\u001b[0m\u001b[0;34m\u001b[0m\u001b[0;34m\u001b[0m\u001b[0;34m\u001b[0m\u001b[0m\n",
      "\u001b[0;32m~/anaconda3/lib/python3.7/site-packages/joblib/_parallel_backends.py\u001b[0m in \u001b[0;36mapply_async\u001b[0;34m(self, func, callback)\u001b[0m\n\u001b[1;32m    180\u001b[0m     \u001b[0;32mdef\u001b[0m \u001b[0mapply_async\u001b[0m\u001b[0;34m(\u001b[0m\u001b[0mself\u001b[0m\u001b[0;34m,\u001b[0m \u001b[0mfunc\u001b[0m\u001b[0;34m,\u001b[0m \u001b[0mcallback\u001b[0m\u001b[0;34m=\u001b[0m\u001b[0;32mNone\u001b[0m\u001b[0;34m)\u001b[0m\u001b[0;34m:\u001b[0m\u001b[0;34m\u001b[0m\u001b[0;34m\u001b[0m\u001b[0m\n\u001b[1;32m    181\u001b[0m         \u001b[0;34m\"\"\"Schedule a func to be run\"\"\"\u001b[0m\u001b[0;34m\u001b[0m\u001b[0;34m\u001b[0m\u001b[0m\n\u001b[0;32m--> 182\u001b[0;31m         \u001b[0mresult\u001b[0m \u001b[0;34m=\u001b[0m \u001b[0mImmediateResult\u001b[0m\u001b[0;34m(\u001b[0m\u001b[0mfunc\u001b[0m\u001b[0;34m)\u001b[0m\u001b[0;34m\u001b[0m\u001b[0;34m\u001b[0m\u001b[0m\n\u001b[0m\u001b[1;32m    183\u001b[0m         \u001b[0;32mif\u001b[0m \u001b[0mcallback\u001b[0m\u001b[0;34m:\u001b[0m\u001b[0;34m\u001b[0m\u001b[0;34m\u001b[0m\u001b[0m\n\u001b[1;32m    184\u001b[0m             \u001b[0mcallback\u001b[0m\u001b[0;34m(\u001b[0m\u001b[0mresult\u001b[0m\u001b[0;34m)\u001b[0m\u001b[0;34m\u001b[0m\u001b[0;34m\u001b[0m\u001b[0m\n",
      "\u001b[0;32m~/anaconda3/lib/python3.7/site-packages/joblib/_parallel_backends.py\u001b[0m in \u001b[0;36m__init__\u001b[0;34m(self, batch)\u001b[0m\n\u001b[1;32m    547\u001b[0m         \u001b[0;31m# Don't delay the application, to avoid keeping the input\u001b[0m\u001b[0;34m\u001b[0m\u001b[0;34m\u001b[0m\u001b[0;34m\u001b[0m\u001b[0m\n\u001b[1;32m    548\u001b[0m         \u001b[0;31m# arguments in memory\u001b[0m\u001b[0;34m\u001b[0m\u001b[0;34m\u001b[0m\u001b[0;34m\u001b[0m\u001b[0m\n\u001b[0;32m--> 549\u001b[0;31m         \u001b[0mself\u001b[0m\u001b[0;34m.\u001b[0m\u001b[0mresults\u001b[0m \u001b[0;34m=\u001b[0m \u001b[0mbatch\u001b[0m\u001b[0;34m(\u001b[0m\u001b[0;34m)\u001b[0m\u001b[0;34m\u001b[0m\u001b[0;34m\u001b[0m\u001b[0m\n\u001b[0m\u001b[1;32m    550\u001b[0m \u001b[0;34m\u001b[0m\u001b[0m\n\u001b[1;32m    551\u001b[0m     \u001b[0;32mdef\u001b[0m \u001b[0mget\u001b[0m\u001b[0;34m(\u001b[0m\u001b[0mself\u001b[0m\u001b[0;34m)\u001b[0m\u001b[0;34m:\u001b[0m\u001b[0;34m\u001b[0m\u001b[0;34m\u001b[0m\u001b[0m\n",
      "\u001b[0;32m~/anaconda3/lib/python3.7/site-packages/joblib/parallel.py\u001b[0m in \u001b[0;36m__call__\u001b[0;34m(self)\u001b[0m\n\u001b[1;32m    223\u001b[0m         \u001b[0;32mwith\u001b[0m \u001b[0mparallel_backend\u001b[0m\u001b[0;34m(\u001b[0m\u001b[0mself\u001b[0m\u001b[0;34m.\u001b[0m\u001b[0m_backend\u001b[0m\u001b[0;34m,\u001b[0m \u001b[0mn_jobs\u001b[0m\u001b[0;34m=\u001b[0m\u001b[0mself\u001b[0m\u001b[0;34m.\u001b[0m\u001b[0m_n_jobs\u001b[0m\u001b[0;34m)\u001b[0m\u001b[0;34m:\u001b[0m\u001b[0;34m\u001b[0m\u001b[0;34m\u001b[0m\u001b[0m\n\u001b[1;32m    224\u001b[0m             return [func(*args, **kwargs)\n\u001b[0;32m--> 225\u001b[0;31m                     for func, args, kwargs in self.items]\n\u001b[0m\u001b[1;32m    226\u001b[0m \u001b[0;34m\u001b[0m\u001b[0m\n\u001b[1;32m    227\u001b[0m     \u001b[0;32mdef\u001b[0m \u001b[0m__len__\u001b[0m\u001b[0;34m(\u001b[0m\u001b[0mself\u001b[0m\u001b[0;34m)\u001b[0m\u001b[0;34m:\u001b[0m\u001b[0;34m\u001b[0m\u001b[0;34m\u001b[0m\u001b[0m\n",
      "\u001b[0;32m~/anaconda3/lib/python3.7/site-packages/joblib/parallel.py\u001b[0m in \u001b[0;36m<listcomp>\u001b[0;34m(.0)\u001b[0m\n\u001b[1;32m    223\u001b[0m         \u001b[0;32mwith\u001b[0m \u001b[0mparallel_backend\u001b[0m\u001b[0;34m(\u001b[0m\u001b[0mself\u001b[0m\u001b[0;34m.\u001b[0m\u001b[0m_backend\u001b[0m\u001b[0;34m,\u001b[0m \u001b[0mn_jobs\u001b[0m\u001b[0;34m=\u001b[0m\u001b[0mself\u001b[0m\u001b[0;34m.\u001b[0m\u001b[0m_n_jobs\u001b[0m\u001b[0;34m)\u001b[0m\u001b[0;34m:\u001b[0m\u001b[0;34m\u001b[0m\u001b[0;34m\u001b[0m\u001b[0m\n\u001b[1;32m    224\u001b[0m             return [func(*args, **kwargs)\n\u001b[0;32m--> 225\u001b[0;31m                     for func, args, kwargs in self.items]\n\u001b[0m\u001b[1;32m    226\u001b[0m \u001b[0;34m\u001b[0m\u001b[0m\n\u001b[1;32m    227\u001b[0m     \u001b[0;32mdef\u001b[0m \u001b[0m__len__\u001b[0m\u001b[0;34m(\u001b[0m\u001b[0mself\u001b[0m\u001b[0;34m)\u001b[0m\u001b[0;34m:\u001b[0m\u001b[0;34m\u001b[0m\u001b[0;34m\u001b[0m\u001b[0m\n",
      "\u001b[0;32m~/anaconda3/lib/python3.7/site-packages/sklearn/ensemble/forest.py\u001b[0m in \u001b[0;36m_parallel_build_trees\u001b[0;34m(tree, forest, X, y, sample_weight, tree_idx, n_trees, verbose, class_weight)\u001b[0m\n\u001b[1;32m    118\u001b[0m         \u001b[0mtree\u001b[0m\u001b[0;34m.\u001b[0m\u001b[0mfit\u001b[0m\u001b[0;34m(\u001b[0m\u001b[0mX\u001b[0m\u001b[0;34m,\u001b[0m \u001b[0my\u001b[0m\u001b[0;34m,\u001b[0m \u001b[0msample_weight\u001b[0m\u001b[0;34m=\u001b[0m\u001b[0mcurr_sample_weight\u001b[0m\u001b[0;34m,\u001b[0m \u001b[0mcheck_input\u001b[0m\u001b[0;34m=\u001b[0m\u001b[0;32mFalse\u001b[0m\u001b[0;34m)\u001b[0m\u001b[0;34m\u001b[0m\u001b[0;34m\u001b[0m\u001b[0m\n\u001b[1;32m    119\u001b[0m     \u001b[0;32melse\u001b[0m\u001b[0;34m:\u001b[0m\u001b[0;34m\u001b[0m\u001b[0;34m\u001b[0m\u001b[0m\n\u001b[0;32m--> 120\u001b[0;31m         \u001b[0mtree\u001b[0m\u001b[0;34m.\u001b[0m\u001b[0mfit\u001b[0m\u001b[0;34m(\u001b[0m\u001b[0mX\u001b[0m\u001b[0;34m,\u001b[0m \u001b[0my\u001b[0m\u001b[0;34m,\u001b[0m \u001b[0msample_weight\u001b[0m\u001b[0;34m=\u001b[0m\u001b[0msample_weight\u001b[0m\u001b[0;34m,\u001b[0m \u001b[0mcheck_input\u001b[0m\u001b[0;34m=\u001b[0m\u001b[0;32mFalse\u001b[0m\u001b[0;34m)\u001b[0m\u001b[0;34m\u001b[0m\u001b[0;34m\u001b[0m\u001b[0m\n\u001b[0m\u001b[1;32m    121\u001b[0m \u001b[0;34m\u001b[0m\u001b[0m\n\u001b[1;32m    122\u001b[0m     \u001b[0;32mreturn\u001b[0m \u001b[0mtree\u001b[0m\u001b[0;34m\u001b[0m\u001b[0;34m\u001b[0m\u001b[0m\n",
      "\u001b[0;32m~/anaconda3/lib/python3.7/site-packages/sklearn/tree/tree.py\u001b[0m in \u001b[0;36mfit\u001b[0;34m(self, X, y, sample_weight, check_input, X_idx_sorted)\u001b[0m\n\u001b[1;32m    814\u001b[0m             \u001b[0msample_weight\u001b[0m\u001b[0;34m=\u001b[0m\u001b[0msample_weight\u001b[0m\u001b[0;34m,\u001b[0m\u001b[0;34m\u001b[0m\u001b[0;34m\u001b[0m\u001b[0m\n\u001b[1;32m    815\u001b[0m             \u001b[0mcheck_input\u001b[0m\u001b[0;34m=\u001b[0m\u001b[0mcheck_input\u001b[0m\u001b[0;34m,\u001b[0m\u001b[0;34m\u001b[0m\u001b[0;34m\u001b[0m\u001b[0m\n\u001b[0;32m--> 816\u001b[0;31m             X_idx_sorted=X_idx_sorted)\n\u001b[0m\u001b[1;32m    817\u001b[0m         \u001b[0;32mreturn\u001b[0m \u001b[0mself\u001b[0m\u001b[0;34m\u001b[0m\u001b[0;34m\u001b[0m\u001b[0m\n\u001b[1;32m    818\u001b[0m \u001b[0;34m\u001b[0m\u001b[0m\n",
      "\u001b[0;32m~/anaconda3/lib/python3.7/site-packages/sklearn/tree/tree.py\u001b[0m in \u001b[0;36mfit\u001b[0;34m(self, X, y, sample_weight, check_input, X_idx_sorted)\u001b[0m\n\u001b[1;32m    378\u001b[0m                                            min_impurity_split)\n\u001b[1;32m    379\u001b[0m \u001b[0;34m\u001b[0m\u001b[0m\n\u001b[0;32m--> 380\u001b[0;31m         \u001b[0mbuilder\u001b[0m\u001b[0;34m.\u001b[0m\u001b[0mbuild\u001b[0m\u001b[0;34m(\u001b[0m\u001b[0mself\u001b[0m\u001b[0;34m.\u001b[0m\u001b[0mtree_\u001b[0m\u001b[0;34m,\u001b[0m \u001b[0mX\u001b[0m\u001b[0;34m,\u001b[0m \u001b[0my\u001b[0m\u001b[0;34m,\u001b[0m \u001b[0msample_weight\u001b[0m\u001b[0;34m,\u001b[0m \u001b[0mX_idx_sorted\u001b[0m\u001b[0;34m)\u001b[0m\u001b[0;34m\u001b[0m\u001b[0;34m\u001b[0m\u001b[0m\n\u001b[0m\u001b[1;32m    381\u001b[0m \u001b[0;34m\u001b[0m\u001b[0m\n\u001b[1;32m    382\u001b[0m         \u001b[0;32mif\u001b[0m \u001b[0mself\u001b[0m\u001b[0;34m.\u001b[0m\u001b[0mn_outputs_\u001b[0m \u001b[0;34m==\u001b[0m \u001b[0;36m1\u001b[0m\u001b[0;34m:\u001b[0m\u001b[0;34m\u001b[0m\u001b[0;34m\u001b[0m\u001b[0m\n",
      "\u001b[0;31mKeyboardInterrupt\u001b[0m: "
     ]
    }
   ],
   "source": [
    "etc_best = fmin(fn=etc_grid,\n",
    "            space=etc_space,\n",
    "            algo=tpe.suggest,\n",
    "            max_evals=20)"
   ]
  },
  {
   "cell_type": "markdown",
   "metadata": {},
   "source": [
    "### Decision tree"
   ]
  },
  {
   "cell_type": "code",
   "execution_count": 22,
   "metadata": {},
   "outputs": [],
   "source": [
    "model_fn(DecisionTreeClassifier)"
   ]
  },
  {
   "cell_type": "code",
   "execution_count": 23,
   "metadata": {},
   "outputs": [
    {
     "name": "stdout",
     "output_type": "stream",
     "text": [
      "AUC: 0.6425932869797563\n",
      "AUC: 0.6699192472670885\n",
      "AUC: 0.6599168855337131\n",
      "AUC: 0.6667743082398413\n",
      "AUC: 0.6452824144108406\n"
     ]
    }
   ],
   "source": [
    "score_mean = 0\n",
    "for train_idx, validation_idx in tscv.split(train_features, train_target):\n",
    "    model = DecisionTreeClassifier()\n",
    "\n",
    "    X_train, X_validation = train_features.iloc[train_idx, :], train_features.iloc[validation_idx, :]\n",
    "    y_train, y_validation = train_target.iloc[train_idx], train_target.iloc[validation_idx]\n",
    "\n",
    "    model.fit(X_train, y_train)\n",
    "\n",
    "    y_pred_train = model.predict_proba(X_validation)[:,1]\n",
    "    score = roc_auc_score(y_validation, y_pred_train)\n",
    "    score_mean += score\n",
    "    print(f'AUC: {score}')"
   ]
  },
  {
   "cell_type": "markdown",
   "metadata": {},
   "source": [
    "### Adaboost"
   ]
  },
  {
   "cell_type": "code",
   "execution_count": 24,
   "metadata": {},
   "outputs": [],
   "source": [
    "model_fn(AdaBoostClassifier)"
   ]
  },
  {
   "cell_type": "code",
   "execution_count": 25,
   "metadata": {},
   "outputs": [
    {
     "name": "stdout",
     "output_type": "stream",
     "text": [
      "AUC: 0.837240486694629\n",
      "AUC: 0.8602790351120537\n",
      "AUC: 0.8479921977907815\n",
      "AUC: 0.8541190045897462\n",
      "AUC: 0.8606400757548586\n"
     ]
    }
   ],
   "source": [
    "score_mean = 0\n",
    "for train_idx, validation_idx in tscv.split(train_features, train_target):\n",
    "    model = AdaBoostClassifier()\n",
    "\n",
    "    X_train, X_validation = train_features.iloc[train_idx, :], train_features.iloc[validation_idx, :]\n",
    "    y_train, y_validation = train_target.iloc[train_idx], train_target.iloc[validation_idx]\n",
    "\n",
    "    model.fit(X_train, y_train)\n",
    "\n",
    "    y_pred_train = model.predict_proba(X_validation)[:,1]\n",
    "    score = roc_auc_score(y_validation, y_pred_train)\n",
    "    score_mean += score\n",
    "    print(f'AUC: {score}')"
   ]
  },
  {
   "cell_type": "markdown",
   "metadata": {},
   "source": [
    "### LGBM"
   ]
  },
  {
   "cell_type": "code",
   "execution_count": 27,
   "metadata": {},
   "outputs": [],
   "source": [
    "lgb_space = {\n",
    "    'boosting_type': 'gbdt',\n",
    "    'objective': 'binary',\n",
    "    'max_depth': hp.quniform('max_depth', 7, 25, 1),\n",
    "    'learning_rate': hp.uniform('learning_rate', 0.03, 0.2),\n",
    "    'reg_alpha':  hp.uniform('reg_alpha', 0.01, 0.9),\n",
    "    'reg_lambda': hp.uniform('reg_lambda', 0.1, 1.0),\n",
    "    'colsample_bytree': hp.uniform('colsample_bytree', 0.3, 1.0),\n",
    "    'gamma': hp.uniform('gamma', 0.0, 0.8),\n",
    "    'num_leaves': hp.choice('num_leaves', list(range(20, 300, 20))),       \n",
    "    'min_child_samples': hp.choice('min_child_samples', list(range(10, 100, 3))),\n",
    "    'feature_fraction': hp.choice('feature_fraction', [.5, .6, .7, .8, .9]),\n",
    "    'bagging_fraction': hp.choice('bagging_fraction', [.5, .6, .7, .8, .9]),\n",
    "    'metric': 'auc',\n",
    "    'verbosity': 2, \n",
    "    'bagging_seed': 11,\n",
    "    'random_state': 0\n",
    "}"
   ]
  },
  {
   "cell_type": "code",
   "execution_count": 28,
   "metadata": {},
   "outputs": [],
   "source": [
    "def lgb_grid(params):\n",
    "    print(\"############## New Run ################\")\n",
    "    print(\"PARAMETERS: \")\n",
    "    print(f\"params  = {params}\")\n",
    "    params = {\n",
    "        'max_depth': int(params['max_depth']),\n",
    "        'gamma': \"{:.3f}\".format(params['gamma']),\n",
    "        'reg_alpha': \"{:.3f}\".format(params['reg_alpha']),\n",
    "        'learning_rate': \"{:.3f}\".format(params['learning_rate']),\n",
    "        'gamma': \"{:.3f}\".format(params['gamma']),\n",
    "        'num_leaves': int(format(params['num_leaves'])),\n",
    "        'min_child_samples': int(format(params['min_child_samples'])),\n",
    "        'feature_fraction': '{:.3f}'.format(params['feature_fraction']),\n",
    "        'bagging_fraction': '{:.3f}'.format(params['bagging_fraction'])\n",
    "    }\n",
    "    \n",
    "    n_splits = 5\n",
    "    tscv = TimeSeriesSplit(n_splits=n_splits)\n",
    "    score_mean = 0\n",
    "    print(\"CV SCORE: \")\n",
    "    for train_idx, validation_idx in tscv.split(train_features, train_target):\n",
    "        model = lgb.LGBMClassifier(**params)\n",
    "\n",
    "        X_train, X_validation = train_features.iloc[train_idx, :], train_features.iloc[validation_idx, :]\n",
    "        y_train, y_validation = train_target.iloc[train_idx], train_target.iloc[validation_idx]\n",
    "\n",
    "        model.fit(X_train, y_train)\n",
    "\n",
    "        y_pred_train = model.predict_proba(X_validation)[:,1]\n",
    "        score = roc_auc_score(y_validation, y_pred_train)\n",
    "        score_mean += score\n",
    "        print(f'AUC: {score}')\n",
    "    del X_train, X_validation, y_train, y_validation, y_pred_train    \n",
    "    gc.collect()\n",
    "    print(f'Mean AUC: {score_mean / 5} \\n')\n",
    "    return -(score_mean / 5)"
   ]
  },
  {
   "cell_type": "code",
   "execution_count": 29,
   "metadata": {
    "scrolled": true
   },
   "outputs": [
    {
     "name": "stdout",
     "output_type": "stream",
     "text": [
      "############## New Run ################             \n",
      "PARAMETERS:                                         \n",
      "params  = {'bagging_fraction': 0.6, 'bagging_seed': 11, 'boosting_type': 'gbdt', 'colsample_bytree': 0.8268678324284169, 'feature_fraction': 0.5, 'gamma': 0.11884074228478392, 'learning_rate': 0.173267744134551, 'max_depth': 24.0, 'metric': 'auc', 'min_child_samples': 76, 'num_leaves': 60, 'objective': 'binary', 'random_state': 0, 'reg_alpha': 0.6991739187569014, 'reg_lambda': 0.6678428807556946, 'verbosity': 2}\n",
      "CV SCORE:                                           \n",
      "AUC: 0.8678263377617448                             \n",
      "AUC: 0.899476533986335                              \n",
      "AUC: 0.8908991251337606                             \n",
      "AUC: 0.9094153270912935                             \n",
      "AUC: 0.9119449009263911                             \n",
      "Mean AUC: 0.8959124449799051                        \n",
      "\n",
      "############## New Run ################                                       \n",
      "PARAMETERS:                                                                   \n",
      "params  = {'bagging_fraction': 0.7, 'bagging_seed': 11, 'boosting_type': 'gbdt', 'colsample_bytree': 0.8724662551520124, 'feature_fraction': 0.9, 'gamma': 0.23531915635844128, 'learning_rate': 0.16380164649240286, 'max_depth': 21.0, 'metric': 'auc', 'min_child_samples': 61, 'num_leaves': 220, 'objective': 'binary', 'random_state': 0, 'reg_alpha': 0.7812709741870373, 'reg_lambda': 0.29487734981423996, 'verbosity': 2}\n",
      "CV SCORE:                                                                     \n",
      "AUC: 0.8775785887111147                                                       \n",
      "AUC: 0.8992886226074384                                                       \n",
      "AUC: 0.885426121655204                                                        \n",
      "AUC: 0.911885711003769                                                        \n",
      "AUC: 0.919126482843321                                                        \n",
      "Mean AUC: 0.8986611053641693                                                  \n",
      "\n",
      "############## New Run ################                                       \n",
      "PARAMETERS:                                                                   \n",
      "params  = {'bagging_fraction': 0.9, 'bagging_seed': 11, 'boosting_type': 'gbdt', 'colsample_bytree': 0.6780410025439361, 'feature_fraction': 0.8, 'gamma': 0.32656302765601614, 'learning_rate': 0.10869463200076503, 'max_depth': 21.0, 'metric': 'auc', 'min_child_samples': 91, 'num_leaves': 200, 'objective': 'binary', 'random_state': 0, 'reg_alpha': 0.7946118597969338, 'reg_lambda': 0.4954867748164349, 'verbosity': 2}\n",
      "CV SCORE:                                                                     \n",
      "AUC: 0.8838357264790601                                                       \n",
      "AUC: 0.9042861891541023                                                       \n",
      "AUC: 0.8970993668046063                                                       \n",
      "AUC: 0.9171966571922839                                                       \n",
      "AUC: 0.9229178688563807                                                       \n",
      "Mean AUC: 0.9050671616972867                                                  \n",
      "\n",
      "############## New Run ################                                        \n",
      "PARAMETERS:                                                                    \n",
      "params  = {'bagging_fraction': 0.5, 'bagging_seed': 11, 'boosting_type': 'gbdt', 'colsample_bytree': 0.6041598592620838, 'feature_fraction': 0.8, 'gamma': 0.1500944179098359, 'learning_rate': 0.05380012229839103, 'max_depth': 11.0, 'metric': 'auc', 'min_child_samples': 19, 'num_leaves': 100, 'objective': 'binary', 'random_state': 0, 'reg_alpha': 0.06888923444591007, 'reg_lambda': 0.9711890364078279, 'verbosity': 2}\n",
      "CV SCORE:                                                                      \n",
      "AUC: 0.8861144871305298                                                        \n",
      "AUC: 0.9065212292787277                                                        \n",
      "AUC: 0.8962891419235951                                                        \n",
      "AUC: 0.9103408152395346                                                        \n",
      "AUC: 0.9120797663290467                                                        \n",
      "Mean AUC: 0.9022690879802868                                                   \n",
      "\n",
      "############## New Run ################                                        \n",
      "PARAMETERS:                                                                    \n",
      "params  = {'bagging_fraction': 0.7, 'bagging_seed': 11, 'boosting_type': 'gbdt', 'colsample_bytree': 0.869226369770955, 'feature_fraction': 0.6, 'gamma': 0.20459158746507794, 'learning_rate': 0.09354971223024378, 'max_depth': 8.0, 'metric': 'auc', 'min_child_samples': 31, 'num_leaves': 20, 'objective': 'binary', 'random_state': 0, 'reg_alpha': 0.5472947041937839, 'reg_lambda': 0.940068871054546, 'verbosity': 2}\n",
      "CV SCORE:                                                                      \n",
      "AUC: 0.881895730635111                                                         \n",
      "AUC: 0.8956746760799018                                                        \n",
      "AUC: 0.8860870684344965                                                        \n",
      "AUC: 0.8960748753849442                                                        \n",
      "AUC: 0.895896111626757                                                         \n",
      "Mean AUC: 0.8911256924322422                                                   \n",
      "\n",
      "############## New Run ################                                        \n",
      "PARAMETERS:                                                                   \n",
      "params  = {'bagging_fraction': 0.7, 'bagging_seed': 11, 'boosting_type': 'gbdt', 'colsample_bytree': 0.9181981778243988, 'feature_fraction': 0.9, 'gamma': 0.6373698535588633, 'learning_rate': 0.08424190392786282, 'max_depth': 23.0, 'metric': 'auc', 'min_child_samples': 52, 'num_leaves': 260, 'objective': 'binary', 'random_state': 0, 'reg_alpha': 0.37576165865645356, 'reg_lambda': 0.3283290759650095, 'verbosity': 2}\n",
      "CV SCORE:                                                                     \n",
      "AUC: 0.8778838642594297                                                       \n",
      "AUC: 0.9089271712868331                                                       \n",
      "AUC: 0.899143146330724                                                        \n",
      "AUC: 0.9215747355197706                                                       \n",
      "AUC: 0.9272402902966409                                                       \n",
      "Mean AUC: 0.9069538415386796                                                  \n",
      "\n",
      "############## New Run ################                                        \n",
      "PARAMETERS:                                                                    \n",
      "params  = {'bagging_fraction': 0.7, 'bagging_seed': 11, 'boosting_type': 'gbdt', 'colsample_bytree': 0.34660491360765966, 'feature_fraction': 0.6, 'gamma': 0.7395135090293312, 'learning_rate': 0.10877182018099622, 'max_depth': 16.0, 'metric': 'auc', 'min_child_samples': 37, 'num_leaves': 140, 'objective': 'binary', 'random_state': 0, 'reg_alpha': 0.12901135047844658, 'reg_lambda': 0.5472067001671747, 'verbosity': 2}\n",
      "CV SCORE:                                                                      \n",
      "AUC: 0.8789182099458763                                                        \n",
      "AUC: 0.9049992953078471                                                        \n",
      "AUC: 0.8907515222869817                                                        \n",
      "AUC: 0.9171835515440235                                                        \n",
      "AUC: 0.9213600750986076                                                        \n",
      "Mean AUC: 0.9026425308366672                                                   \n",
      "\n",
      "############## New Run ################                                        \n",
      "PARAMETERS:                                                                    \n",
      "params  = {'bagging_fraction': 0.6, 'bagging_seed': 11, 'boosting_type': 'gbdt', 'colsample_bytree': 0.3153738934019659, 'feature_fraction': 0.9, 'gamma': 0.7003047445896899, 'learning_rate': 0.17609711904777967, 'max_depth': 19.0, 'metric': 'auc', 'min_child_samples': 34, 'num_leaves': 60, 'objective': 'binary', 'random_state': 0, 'reg_alpha': 0.4460646405489699, 'reg_lambda': 0.600276508279411, 'verbosity': 2}\n"
     ]
    },
    {
     "name": "stdout",
     "output_type": "stream",
     "text": [
      "CV SCORE:                                                                      \n",
      "AUC: 0.8612958082294765                                                        \n",
      "AUC: 0.8956835457737965                                                        \n",
      "AUC: 0.8805415078030998                                                        \n",
      "AUC: 0.9131724886414996                                                        \n",
      "AUC: 0.9063641622002886                                                        \n",
      "Mean AUC: 0.8914115025296322                                                   \n",
      "\n",
      "############## New Run ################                                        \n",
      "PARAMETERS:                                                                    \n",
      "params  = {'bagging_fraction': 0.5, 'bagging_seed': 11, 'boosting_type': 'gbdt', 'colsample_bytree': 0.5112254012045548, 'feature_fraction': 0.5, 'gamma': 0.5106186558870042, 'learning_rate': 0.11565196092669452, 'max_depth': 13.0, 'metric': 'auc', 'min_child_samples': 52, 'num_leaves': 20, 'objective': 'binary', 'random_state': 0, 'reg_alpha': 0.6887028070018876, 'reg_lambda': 0.10174843975442184, 'verbosity': 2}\n",
      "CV SCORE:                                                                      \n",
      "AUC: 0.8806219656756901                                                        \n",
      "AUC: 0.8984702382924935                                                        \n",
      "AUC: 0.886790170069075                                                         \n",
      "AUC: 0.8996825841487286                                                        \n",
      "AUC: 0.9008639121130234                                                        \n",
      "Mean AUC: 0.8932857740598023                                                   \n",
      "\n",
      "############## New Run ################                                        \n",
      "PARAMETERS:                                                                    \n",
      "params  = {'bagging_fraction': 0.8, 'bagging_seed': 11, 'boosting_type': 'gbdt', 'colsample_bytree': 0.5482709800619154, 'feature_fraction': 0.5, 'gamma': 0.04464200040088411, 'learning_rate': 0.05578526771432455, 'max_depth': 24.0, 'metric': 'auc', 'min_child_samples': 52, 'num_leaves': 80, 'objective': 'binary', 'random_state': 0, 'reg_alpha': 0.04347085315433666, 'reg_lambda': 0.24384455928550242, 'verbosity': 2}\n",
      "CV SCORE:                                                                      \n",
      "AUC: 0.8893015970453559                                                        \n",
      "AUC: 0.9092421779497452                                                        \n",
      "AUC: 0.8984445363839628                                                        \n",
      "AUC: 0.9096404670367934                                                        \n",
      "AUC: 0.9089231151097014                                                        \n",
      "Mean AUC: 0.9031103787051118                                                   \n",
      "\n",
      "############## New Run ################                                         \n",
      "PARAMETERS:                                                                     \n",
      "params  = {'bagging_fraction': 0.7, 'bagging_seed': 11, 'boosting_type': 'gbdt', 'colsample_bytree': 0.8692504664432843, 'feature_fraction': 0.7, 'gamma': 0.03434758656550798, 'learning_rate': 0.1679931802885315, 'max_depth': 15.0, 'metric': 'auc', 'min_child_samples': 79, 'num_leaves': 280, 'objective': 'binary', 'random_state': 0, 'reg_alpha': 0.1298093854162677, 'reg_lambda': 0.43133322387682593, 'verbosity': 2}\n",
      "CV SCORE:                                                                       \n",
      "AUC: 0.8769969393474862                                                         \n",
      "AUC: 0.8945578519614793                                                         \n",
      "AUC: 0.8780591837616124                                                         \n",
      "AUC: 0.9056342408959674                                                         \n",
      "AUC: 0.9139617249663868                                                         \n",
      "Mean AUC: 0.8938419881865866                                                    \n",
      "\n",
      "############## New Run ################                                         \n",
      "PARAMETERS:                                                                     \n",
      "params  = {'bagging_fraction': 0.5, 'bagging_seed': 11, 'boosting_type': 'gbdt', 'colsample_bytree': 0.5526991498125822, 'feature_fraction': 0.8, 'gamma': 0.7396903530409199, 'learning_rate': 0.1894284998904317, 'max_depth': 18.0, 'metric': 'auc', 'min_child_samples': 76, 'num_leaves': 80, 'objective': 'binary', 'random_state': 0, 'reg_alpha': 0.18436545765988058, 'reg_lambda': 0.4973028282230647, 'verbosity': 2}\n",
      "CV SCORE:                                                                       \n",
      "AUC: 0.8764928900719485                                                         \n",
      "AUC: 0.8917270499183971                                                         \n",
      "AUC: 0.88246844474045                                                           \n",
      "AUC: 0.9095276364688303                                                         \n",
      "AUC: 0.9159617539499795                                                         \n",
      "Mean AUC: 0.8952355550299211                                                    \n",
      "\n",
      "############## New Run ################                                         \n",
      "PARAMETERS:                                                                     \n",
      "params  = {'bagging_fraction': 0.9, 'bagging_seed': 11, 'boosting_type': 'gbdt', 'colsample_bytree': 0.4581504447966934, 'feature_fraction': 0.5, 'gamma': 0.33792954188657076, 'learning_rate': 0.1218869823937296, 'max_depth': 14.0, 'metric': 'auc', 'min_child_samples': 64, 'num_leaves': 240, 'objective': 'binary', 'random_state': 0, 'reg_alpha': 0.6547034010432522, 'reg_lambda': 0.2667388068474267, 'verbosity': 2}\n",
      "CV SCORE:                                                                       \n",
      "AUC: 0.8807075931398483                                                         \n",
      "AUC: 0.9029628172456305                                                         \n",
      "AUC: 0.8923635041364277                                                         \n",
      "AUC: 0.9205504961042705                                                         \n",
      "AUC: 0.9203642458177678                                                         \n",
      "Mean AUC: 0.903389731288789                                                     \n",
      "\n",
      "############## New Run ################                                         \n",
      "PARAMETERS:                                                                     \n",
      "params  = {'bagging_fraction': 0.7, 'bagging_seed': 11, 'boosting_type': 'gbdt', 'colsample_bytree': 0.9131635092035719, 'feature_fraction': 0.5, 'gamma': 0.5257589618403768, 'learning_rate': 0.1373398073230208, 'max_depth': 12.0, 'metric': 'auc', 'min_child_samples': 67, 'num_leaves': 120, 'objective': 'binary', 'random_state': 0, 'reg_alpha': 0.39501379872884856, 'reg_lambda': 0.6485128623891334, 'verbosity': 2}\n",
      "CV SCORE:                                                                       \n",
      "AUC: 0.8786894217800586                                                         \n",
      "AUC: 0.9004635404135923                                                         \n",
      "AUC: 0.8890024988560873                                                         \n",
      "AUC: 0.910490799239275                                                          \n",
      "AUC: 0.9160501204507431                                                         \n",
      "Mean AUC: 0.8989392761479513                                                    \n",
      "\n",
      "############## New Run ################                                         \n",
      "PARAMETERS:                                                                     \n",
      "params  = {'bagging_fraction': 0.8, 'bagging_seed': 11, 'boosting_type': 'gbdt', 'colsample_bytree': 0.8414790806267569, 'feature_fraction': 0.8, 'gamma': 0.47067748763860773, 'learning_rate': 0.19471231283248655, 'max_depth': 23.0, 'metric': 'auc', 'min_child_samples': 64, 'num_leaves': 160, 'objective': 'binary', 'random_state': 0, 'reg_alpha': 0.27279366143297545, 'reg_lambda': 0.26597763478971204, 'verbosity': 2}\n",
      "CV SCORE:                                                                       \n",
      "AUC: 0.8768731270065181                                                         \n",
      "AUC: 0.8937994846463679                                                         \n",
      "AUC: 0.8737618885182729                                                         \n",
      "AUC: 0.9039128176481676                                                         \n",
      "AUC: 0.9140148842706148                                                         \n",
      "Mean AUC: 0.8924724404179882                                                    \n",
      "\n",
      "############## New Run ################                                         \n",
      "PARAMETERS:                                                                     \n",
      "params  = {'bagging_fraction': 0.8, 'bagging_seed': 11, 'boosting_type': 'gbdt', 'colsample_bytree': 0.5336409277025799, 'feature_fraction': 0.5, 'gamma': 0.4863298884884606, 'learning_rate': 0.19306662517466475, 'max_depth': 23.0, 'metric': 'auc', 'min_child_samples': 40, 'num_leaves': 180, 'objective': 'binary', 'random_state': 0, 'reg_alpha': 0.7158889465593972, 'reg_lambda': 0.9373839558095511, 'verbosity': 2}\n",
      "CV SCORE:                                                                       \n",
      "AUC: 0.8725989800266548                                                         \n",
      "AUC: 0.8974094330872409                                                         \n",
      "AUC: 0.8798976113963063                                                         \n",
      "AUC: 0.9059541616113342                                                         \n",
      "AUC: 0.915490587795128                                                          \n",
      "Mean AUC: 0.8942701547833328                                                    \n",
      "\n",
      "############## New Run ################                                         \n",
      "PARAMETERS:                                                                     \n",
      "params  = {'bagging_fraction': 0.6, 'bagging_seed': 11, 'boosting_type': 'gbdt', 'colsample_bytree': 0.6258048200787742, 'feature_fraction': 0.9, 'gamma': 0.5422094882887816, 'learning_rate': 0.18025417716274753, 'max_depth': 20.0, 'metric': 'auc', 'min_child_samples': 85, 'num_leaves': 120, 'objective': 'binary', 'random_state': 0, 'reg_alpha': 0.04682623109431744, 'reg_lambda': 0.6044644772706453, 'verbosity': 2}\n",
      "CV SCORE:                                                                       \n",
      "AUC: 0.865730356489381                                                          \n",
      "AUC: 0.8933599458098656                                                         \n",
      "AUC: 0.8765458157226096                                                         \n",
      "AUC: 0.9065644269172496                                                         \n",
      "AUC: 0.9168296756252092                                                         \n",
      "Mean AUC: 0.8918060441128629                                                    \n",
      "\n",
      "############## New Run ################                                         \n",
      "PARAMETERS:                                                                     \n",
      "params  = {'bagging_fraction': 0.5, 'bagging_seed': 11, 'boosting_type': 'gbdt', 'colsample_bytree': 0.8917818346534399, 'feature_fraction': 0.5, 'gamma': 0.08782279589085587, 'learning_rate': 0.1533454776960842, 'max_depth': 19.0, 'metric': 'auc', 'min_child_samples': 58, 'num_leaves': 220, 'objective': 'binary', 'random_state': 0, 'reg_alpha': 0.05063613367474377, 'reg_lambda': 0.31818730309112364, 'verbosity': 2}\n",
      "CV SCORE:                                                                       \n",
      "AUC: 0.8788925986422729                                                         \n",
      "AUC: 0.8908317004766132                                                         \n",
      "AUC: 0.8821957633507037                                                         \n",
      "AUC: 0.9109465058108065                                                         \n",
      "AUC: 0.9175932334426222                                                         \n",
      "Mean AUC: 0.8960919603446037                                                    \n",
      "\n",
      "############## New Run ################                                         \n",
      "PARAMETERS:                                                                     \n",
      "params  = {'bagging_fraction': 0.8, 'bagging_seed': 11, 'boosting_type': 'gbdt', 'colsample_bytree': 0.9317967069206732, 'feature_fraction': 0.6, 'gamma': 0.24451045728245369, 'learning_rate': 0.03127815006747251, 'max_depth': 8.0, 'metric': 'auc', 'min_child_samples': 28, 'num_leaves': 100, 'objective': 'binary', 'random_state': 0, 'reg_alpha': 0.8430331871388499, 'reg_lambda': 0.32968353078288914, 'verbosity': 2}\n",
      "CV SCORE:                                                                       \n",
      "AUC: 0.8887489161770644                                                         \n",
      "AUC: 0.9006879372711433                                                         \n",
      "AUC: 0.8865041739821613                                                         \n",
      "AUC: 0.8961226974701892                                                         \n",
      "AUC: 0.8975318119557641                                                         \n",
      "Mean AUC: 0.8939191073712645                                                    \n",
      "\n",
      "############## New Run ################                                         \n",
      "PARAMETERS:                                                                     \n",
      "params  = {'bagging_fraction': 0.7, 'bagging_seed': 11, 'boosting_type': 'gbdt', 'colsample_bytree': 0.558073582656812, 'feature_fraction': 0.5, 'gamma': 0.6406928190453428, 'learning_rate': 0.11689553171781351, 'max_depth': 23.0, 'metric': 'auc', 'min_child_samples': 67, 'num_leaves': 80, 'objective': 'binary', 'random_state': 0, 'reg_alpha': 0.6447806906785589, 'reg_lambda': 0.7348574946632334, 'verbosity': 2}\n",
      "CV SCORE:                                                                       \n",
      "AUC: 0.8788485482174055                                                         \n",
      "AUC: 0.9041707173081924                                                         \n",
      "AUC: 0.8923608552290443                                                         \n",
      "AUC: 0.9149338559808013                                                         \n",
      "AUC: 0.9167995287855184                                                         \n",
      "Mean AUC: 0.9014227011041924                                                    \n",
      "\n",
      "100%|██████████| 20/20 [57:17<00:00, 243.20s/it, best loss: -0.9069538415386796]\n"
     ]
    }
   ],
   "source": [
    "lgb_best = fmin(fn=lgb_grid,\n",
    "            space=lgb_space,\n",
    "            algo=tpe.suggest,\n",
    "            max_evals=20)"
   ]
  },
  {
   "cell_type": "code",
   "execution_count": 30,
   "metadata": {},
   "outputs": [
    {
     "data": {
      "text/plain": [
       "{'bagging_fraction': 0.7,\n",
       " 'colsample_bytree': 0.4016942936888648,\n",
       " 'feature_fraction': 0.7,\n",
       " 'gamma': 0.0027646374511606456,\n",
       " 'learning_rate': 0.07306088200408586,\n",
       " 'max_depth': 19.0,\n",
       " 'min_child_samples': 16,\n",
       " 'num_leaves': 240,\n",
       " 'reg_alpha': 0.26096845550603054,\n",
       " 'reg_lambda': 0.8730362197991705}"
      ]
     },
     "execution_count": 30,
     "metadata": {},
     "output_type": "execute_result"
    }
   ],
   "source": [
    "lgb_best_params = space_eval(lgb_space, lgb_best)\n",
    "lgb_best_params"
   ]
  },
  {
   "cell_type": "code",
   "execution_count": 31,
   "metadata": {},
   "outputs": [
    {
     "name": "stdout",
     "output_type": "stream",
     "text": [
      "############## New Run ################\n",
      "PARAMETERS: \n",
      "params  = {'bagging_fraction': 0.7, 'colsample_bytree': 0.4016942936888648, 'feature_fraction': 0.7, 'gamma': 0.0027646374511606456, 'learning_rate': 0.07306088200408586, 'max_depth': 19.0, 'min_child_samples': 16, 'num_leaves': 240, 'reg_alpha': 0.26096845550603054, 'reg_lambda': 0.8730362197991705}\n",
      "CV SCORE: \n",
      "AUC: 0.8840829092579178\n",
      "AUC: 0.9104428561255219\n",
      "AUC: 0.8993004713835214\n",
      "AUC: 0.9205492045829409\n",
      "AUC: 0.9244486833378995\n",
      "Mean AUC: 0.9077648249375603 \n",
      "\n"
     ]
    },
    {
     "data": {
      "text/plain": [
       "-0.9077648249375603"
      ]
     },
     "execution_count": 31,
     "metadata": {},
     "output_type": "execute_result"
    }
   ],
   "source": [
    "lgb_grid(lgb_best_params)"
   ]
  },
  {
   "cell_type": "markdown",
   "metadata": {},
   "source": [
    "## Ensemble model -- Stacking"
   ]
  },
  {
   "cell_type": "code",
   "execution_count": 35,
   "metadata": {},
   "outputs": [],
   "source": [
    "clfs = [lgb.LGBMClassifier(**lgb_params),\n",
    "        xgb.XGBClassifier(**xgb_params), \n",
    "        RandomForestClassifier(**rf_params),\n",
    "        ExtraTreesClassifier(), \n",
    "        DecisionTreeClassifier(), \n",
    "        AdaBoostClassifier()]\n",
    "lr = LogisticRegression()\n",
    "sclf = StackingClassifier(classifiers=clfs, \n",
    "                          meta_classifier=lr)"
   ]
  },
  {
   "cell_type": "code",
   "execution_count": 36,
   "metadata": {},
   "outputs": [],
   "source": [
    "%%time\n",
    "scores = []\n",
    "score = 0\n",
    "for clf, label in zip(clfs + [sclf], \n",
    "                      ['LGBM', \n",
    "                       'Xgboost',\n",
    "                       'Random Forest', \n",
    "                       'Extra Trees',\n",
    "                       'DecisionTree',\n",
    "                       'Adaboost',\n",
    "                       'StackingClassifier']):\n",
    "    \n",
    "    for i, (train_idx, validation_idx) in enumerate(tscv.split(train_features, train_target)):\n",
    "        \n",
    "        print(f'[{label}] Start training {i+1} fold')\n",
    "    \n",
    "        X_train, X_validation = train_features.iloc[train_idx, :], train_features.iloc[validation_idx, :]\n",
    "        y_train, y_validation = train_target.iloc[train_idx], train_target.iloc[validation_idx]\n",
    " \n",
    "        clf.fit(X_train, y_train)  \n",
    " \n",
    "        y_pred_train = clf.predict_proba(X_validation)[:,1]\n",
    "        score = roc_auc_score(y_validation, y_pred_train)\n",
    "        scores.append(score)\n",
    "        print('            Validation AUC: ', score)\n",
    "\n",
    "    print(\"[%s] Accuracy: %0.4f (+/- %0.2f)\" % (label, np.mean(scores), np.std(scores)))"
   ]
  },
  {
   "cell_type": "code",
   "execution_count": 37,
   "metadata": {},
   "outputs": [
    {
     "data": {
      "text/html": [
       "<div>\n",
       "<style scoped>\n",
       "    .dataframe tbody tr th:only-of-type {\n",
       "        vertical-align: middle;\n",
       "    }\n",
       "\n",
       "    .dataframe tbody tr th {\n",
       "        vertical-align: top;\n",
       "    }\n",
       "\n",
       "    .dataframe thead th {\n",
       "        text-align: right;\n",
       "    }\n",
       "</style>\n",
       "<table border=\"1\" class=\"dataframe\">\n",
       "  <thead>\n",
       "    <tr style=\"text-align: right;\">\n",
       "      <th></th>\n",
       "      <th>TransactionID</th>\n",
       "      <th>TransactionAmt</th>\n",
       "      <th>ProductCD</th>\n",
       "      <th>card1</th>\n",
       "      <th>card2</th>\n",
       "      <th>card3</th>\n",
       "      <th>card4</th>\n",
       "      <th>card5</th>\n",
       "      <th>card6</th>\n",
       "      <th>addr1</th>\n",
       "      <th>...</th>\n",
       "      <th>DeviceInfo</th>\n",
       "      <th>Month</th>\n",
       "      <th>Weekday</th>\n",
       "      <th>Day</th>\n",
       "      <th>Hour</th>\n",
       "      <th>TransactionAmt_to_mean_card1</th>\n",
       "      <th>TransactionAmt_to_mean_card4</th>\n",
       "      <th>D15_to_mean_addr1</th>\n",
       "      <th>P_emaildomain_2</th>\n",
       "      <th>R_emaildomain_2</th>\n",
       "    </tr>\n",
       "  </thead>\n",
       "  <tbody>\n",
       "    <tr>\n",
       "      <th>0</th>\n",
       "      <td>2987000</td>\n",
       "      <td>68.5</td>\n",
       "      <td>4</td>\n",
       "      <td>4248</td>\n",
       "      <td>0</td>\n",
       "      <td>51</td>\n",
       "      <td>2</td>\n",
       "      <td>43</td>\n",
       "      <td>2</td>\n",
       "      <td>216</td>\n",
       "      <td>...</td>\n",
       "      <td>0</td>\n",
       "      <td>12</td>\n",
       "      <td>5</td>\n",
       "      <td>2</td>\n",
       "      <td>0</td>\n",
       "      <td>0.194580</td>\n",
       "      <td>0.257812</td>\n",
       "      <td>0.000000</td>\n",
       "      <td>0</td>\n",
       "      <td>0</td>\n",
       "    </tr>\n",
       "    <tr>\n",
       "      <th>1</th>\n",
       "      <td>2987001</td>\n",
       "      <td>29.0</td>\n",
       "      <td>4</td>\n",
       "      <td>9979</td>\n",
       "      <td>305</td>\n",
       "      <td>51</td>\n",
       "      <td>3</td>\n",
       "      <td>3</td>\n",
       "      <td>2</td>\n",
       "      <td>226</td>\n",
       "      <td>...</td>\n",
       "      <td>0</td>\n",
       "      <td>12</td>\n",
       "      <td>5</td>\n",
       "      <td>2</td>\n",
       "      <td>0</td>\n",
       "      <td>0.123779</td>\n",
       "      <td>0.218994</td>\n",
       "      <td>0.000000</td>\n",
       "      <td>2</td>\n",
       "      <td>0</td>\n",
       "    </tr>\n",
       "    <tr>\n",
       "      <th>2</th>\n",
       "      <td>2987002</td>\n",
       "      <td>59.0</td>\n",
       "      <td>4</td>\n",
       "      <td>11850</td>\n",
       "      <td>391</td>\n",
       "      <td>51</td>\n",
       "      <td>4</td>\n",
       "      <td>67</td>\n",
       "      <td>3</td>\n",
       "      <td>231</td>\n",
       "      <td>...</td>\n",
       "      <td>0</td>\n",
       "      <td>12</td>\n",
       "      <td>5</td>\n",
       "      <td>2</td>\n",
       "      <td>0</td>\n",
       "      <td>0.607910</td>\n",
       "      <td>0.443115</td>\n",
       "      <td>1.611328</td>\n",
       "      <td>2</td>\n",
       "      <td>0</td>\n",
       "    </tr>\n",
       "    <tr>\n",
       "      <th>3</th>\n",
       "      <td>2987003</td>\n",
       "      <td>50.0</td>\n",
       "      <td>4</td>\n",
       "      <td>8796</td>\n",
       "      <td>468</td>\n",
       "      <td>51</td>\n",
       "      <td>3</td>\n",
       "      <td>18</td>\n",
       "      <td>3</td>\n",
       "      <td>377</td>\n",
       "      <td>...</td>\n",
       "      <td>0</td>\n",
       "      <td>12</td>\n",
       "      <td>5</td>\n",
       "      <td>2</td>\n",
       "      <td>0</td>\n",
       "      <td>0.405029</td>\n",
       "      <td>0.377686</td>\n",
       "      <td>0.686035</td>\n",
       "      <td>2</td>\n",
       "      <td>0</td>\n",
       "    </tr>\n",
       "    <tr>\n",
       "      <th>4</th>\n",
       "      <td>2987004</td>\n",
       "      <td>50.0</td>\n",
       "      <td>1</td>\n",
       "      <td>11687</td>\n",
       "      <td>415</td>\n",
       "      <td>51</td>\n",
       "      <td>3</td>\n",
       "      <td>3</td>\n",
       "      <td>2</td>\n",
       "      <td>321</td>\n",
       "      <td>...</td>\n",
       "      <td>1566</td>\n",
       "      <td>12</td>\n",
       "      <td>5</td>\n",
       "      <td>2</td>\n",
       "      <td>0</td>\n",
       "      <td>0.515625</td>\n",
       "      <td>0.377686</td>\n",
       "      <td>-999.000000</td>\n",
       "      <td>2</td>\n",
       "      <td>0</td>\n",
       "    </tr>\n",
       "  </tbody>\n",
       "</table>\n",
       "<p>5 rows × 117 columns</p>\n",
       "</div>"
      ],
      "text/plain": [
       "   TransactionID  TransactionAmt  ProductCD  card1  card2  card3  card4  \\\n",
       "0        2987000            68.5          4   4248      0     51      2   \n",
       "1        2987001            29.0          4   9979    305     51      3   \n",
       "2        2987002            59.0          4  11850    391     51      4   \n",
       "3        2987003            50.0          4   8796    468     51      3   \n",
       "4        2987004            50.0          1  11687    415     51      3   \n",
       "\n",
       "   card5  card6  addr1  ...  DeviceInfo  Month  Weekday  Day  Hour  \\\n",
       "0     43      2    216  ...           0     12        5    2     0   \n",
       "1      3      2    226  ...           0     12        5    2     0   \n",
       "2     67      3    231  ...           0     12        5    2     0   \n",
       "3     18      3    377  ...           0     12        5    2     0   \n",
       "4      3      2    321  ...        1566     12        5    2     0   \n",
       "\n",
       "   TransactionAmt_to_mean_card1  TransactionAmt_to_mean_card4  \\\n",
       "0                      0.194580                      0.257812   \n",
       "1                      0.123779                      0.218994   \n",
       "2                      0.607910                      0.443115   \n",
       "3                      0.405029                      0.377686   \n",
       "4                      0.515625                      0.377686   \n",
       "\n",
       "   D15_to_mean_addr1  P_emaildomain_2  R_emaildomain_2  \n",
       "0           0.000000                0                0  \n",
       "1           0.000000                2                0  \n",
       "2           1.611328                2                0  \n",
       "3           0.686035                2                0  \n",
       "4        -999.000000                2                0  \n",
       "\n",
       "[5 rows x 117 columns]"
      ]
     },
     "execution_count": 37,
     "metadata": {},
     "output_type": "execute_result"
    }
   ],
   "source": [
    "train_features.head()"
   ]
  },
  {
   "cell_type": "markdown",
   "metadata": {},
   "source": [
    "## Reference\n",
    "- https://www.kaggle.com/smerllo/identify-unique-cards-id"
   ]
  },
  {
   "cell_type": "code",
   "execution_count": 38,
   "metadata": {},
   "outputs": [],
   "source": []
  }
 ],
 "metadata": {
  "kernelspec": {
   "display_name": "Python 3",
   "language": "python",
   "name": "python3"
  },
  "language_info": {
   "codemirror_mode": {
    "name": "ipython",
    "version": 3
   },
   "file_extension": ".py",
   "mimetype": "text/x-python",
   "name": "python",
   "nbconvert_exporter": "python",
   "pygments_lexer": "ipython3",
   "version": "3.7.3"
  },
  "toc": {
   "base_numbering": 1,
   "nav_menu": {},
   "number_sections": true,
   "sideBar": true,
   "skip_h1_title": false,
   "title_cell": "Table of Contents",
   "title_sidebar": "Contents",
   "toc_cell": false,
   "toc_position": {},
   "toc_section_display": true,
   "toc_window_display": false
  },
  "varInspector": {
   "cols": {
    "lenName": 16,
    "lenType": 16,
    "lenVar": 40
   },
   "kernels_config": {
    "python": {
     "delete_cmd_postfix": "",
     "delete_cmd_prefix": "del ",
     "library": "var_list.py",
     "varRefreshCmd": "print(var_dic_list())"
    },
    "r": {
     "delete_cmd_postfix": ") ",
     "delete_cmd_prefix": "rm(",
     "library": "var_list.r",
     "varRefreshCmd": "cat(var_dic_list()) "
    }
   },
   "types_to_exclude": [
    "module",
    "function",
    "builtin_function_or_method",
    "instance",
    "_Feature"
   ],
   "window_display": false
  }
 },
 "nbformat": 4,
 "nbformat_minor": 2
}

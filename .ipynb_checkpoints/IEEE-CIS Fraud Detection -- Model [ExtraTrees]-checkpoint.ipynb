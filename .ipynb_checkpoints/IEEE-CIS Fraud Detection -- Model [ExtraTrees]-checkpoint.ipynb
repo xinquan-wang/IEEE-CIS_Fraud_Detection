{
 "cells": [
  {
   "cell_type": "markdown",
   "metadata": {},
   "source": [
    "# IEEE-CIS Fraud Detection -- Model [ExtraTrees]"
   ]
  },
  {
   "cell_type": "code",
   "execution_count": 1,
   "metadata": {},
   "outputs": [],
   "source": [
    "import pandas as pd\n",
    "import numpy as np\n",
    "import gc\n",
    "import warnings\n",
    "warnings.filterwarnings('ignore')"
   ]
  },
  {
   "cell_type": "code",
   "execution_count": 3,
   "metadata": {},
   "outputs": [],
   "source": [
    "train_features = pd.read_csv('./Data/train_features.csv' )\n",
    "test_features = pd.read_csv('./Data/test_features.csv')\n",
    "train_target = pd.read_csv('./Data/train_target.csv', header=None)"
   ]
  },
  {
   "cell_type": "markdown",
   "metadata": {},
   "source": [
    "## Model"
   ]
  },
  {
   "cell_type": "code",
   "execution_count": 4,
   "metadata": {},
   "outputs": [
    {
     "name": "stderr",
     "output_type": "stream",
     "text": [
      "/Users/wangxinquan/anaconda3/lib/python3.7/site-packages/sklearn/externals/joblib/__init__.py:15: DeprecationWarning: sklearn.externals.joblib is deprecated in 0.21 and will be removed in 0.23. Please import this functionality directly from joblib, which can be installed with: pip install joblib. If this warning is raised when loading pickled models, you may need to re-serialize those models with scikit-learn 0.21+.\n",
      "  warnings.warn(msg, category=DeprecationWarning)\n"
     ]
    }
   ],
   "source": [
    "from sklearn.model_selection import KFold\n",
    "from sklearn.metrics import roc_auc_score, auc\n",
    "from sklearn.ensemble import ExtraTreesClassifier\n",
    "from sklearn.externals import joblib"
   ]
  },
  {
   "cell_type": "code",
   "execution_count": 5,
   "metadata": {},
   "outputs": [],
   "source": [
    "# etc params\n",
    "etc_params = {'n_estimators': 100,\n",
    "             'max_depth': 8,\n",
    "             'min_samples_split': 100,\n",
    "             'min_samples_leaf': 70}"
   ]
  },
  {
   "cell_type": "code",
   "execution_count": 6,
   "metadata": {},
   "outputs": [],
   "source": [
    "def model_fn(clf, params):\n",
    "    print(\"############## New Run ################\")\n",
    "    print(\"PARAMETERS: \")\n",
    "    print(f\"params  = {params}\")\n",
    "    \n",
    "    n_splits = 5\n",
    "    tscv = TimeSeriesSplit(n_splits=n_splits)\n",
    "    score_mean = 0\n",
    "    print(\"CV SCORE: \")\n",
    "    for train_idx, validation_idx in tscv.split(train_features, train_target):\n",
    "        model = clf(**params)\n",
    "\n",
    "        X_train, X_validation = train_features.iloc[train_idx, :], train_features.iloc[validation_idx, :]\n",
    "        y_train, y_validation = train_target.iloc[train_idx], train_target.iloc[validation_idx]\n",
    "\n",
    "        model.fit(X_train, y_train)\n",
    "\n",
    "        y_pred_train = model.predict_proba(X_validation)[:,1]\n",
    "        score = roc_auc_score(y_validation, y_pred_train)\n",
    "        score_mean += score\n",
    "        print(f'AUC: {score}')\n",
    "    del X_train, X_validation, y_train, y_validation, clf, y_pred_train    \n",
    "    gc.collect()\n",
    "    joblib.dump(model, \"./Model/LGB_model.m\")\n",
    "    print(f'Mean AUC: {score_mean / 5} \\n')\n",
    "    return -(score_mean / 5)"
   ]
  },
  {
   "cell_type": "code",
   "execution_count": 7,
   "metadata": {},
   "outputs": [
    {
     "name": "stdout",
     "output_type": "stream",
     "text": [
      "############## New Run ################\n",
      "PARAMETERS: \n",
      "params  = {'n_estimators': 100, 'max_depth': 8, 'min_samples_split': 100, 'min_samples_leaf': 70}\n",
      "CV SCORE: \n",
      "AUC: 0.8188898938775161\n",
      "AUC: 0.8379024086631095\n",
      "AUC: 0.8195859879752434\n",
      "AUC: 0.8269533239208633\n",
      "AUC: 0.819769515878774\n",
      "Mean AUC: 0.8246202260631014 \n",
      "\n"
     ]
    },
    {
     "data": {
      "text/plain": [
       "-0.8246202260631014"
      ]
     },
     "execution_count": 7,
     "metadata": {},
     "output_type": "execute_result"
    }
   ],
   "source": [
    "model_fn(ExtraTreesClassifier, etc_params)"
   ]
  },
  {
   "cell_type": "markdown",
   "metadata": {},
   "source": [
    "## Gridsearch for best params"
   ]
  },
  {
   "cell_type": "code",
   "execution_count": 5,
   "metadata": {},
   "outputs": [],
   "source": [
    "from hyperopt import fmin, hp, tpe, Trials, space_eval, STATUS_OK, STATUS_RUNNING"
   ]
  },
  {
   "cell_type": "markdown",
   "metadata": {},
   "source": [
    "###  ExtraTrees"
   ]
  },
  {
   "cell_type": "code",
   "execution_count": 6,
   "metadata": {},
   "outputs": [],
   "source": [
    "etc_space = {\n",
    "    \"max_depth\": hp.quniform('max_depth', 7, 50, 3),\n",
    "    \"min_samples_split\": hp.choice('min_samples_split', [5, 10, 15, 20, 25]),\n",
    "    \"min_samples_leaf\": hp.choice('min_samples_leaf', [5, 10, 15, 20, 25]),\n",
    "    \"criterion\": \"gini\",\n",
    "    \"n_estimators\": hp.quniform('n_estimators', 10, 500, 10),\n",
    "    \"max_features\": 'auto',\n",
    "    'random_state': 0}"
   ]
  },
  {
   "cell_type": "code",
   "execution_count": 7,
   "metadata": {},
   "outputs": [],
   "source": [
    "def etc_grid(params):\n",
    "    print(\"############## New Run ################\")\n",
    "    print(\"PARAMETERS: \")\n",
    "    print(f\"params  = {params}\")\n",
    "    params = {\n",
    "        'max_depth': int(params['max_depth']),\n",
    "        'min_samples_split': params['min_samples_split'],\n",
    "        'min_samples_leaf': params['min_samples_leaf'],\n",
    "        'criterion': params['criterion'],\n",
    "        'n_estimators': int(params['n_estimators']),\n",
    "        'max_features': params['max_features'],\n",
    "        'random_state': 0\n",
    "    }\n",
    "    \n",
    "    EPOCHS = 5\n",
    "    kf = KFold(n_splits = EPOCHS, shuffle = True)\n",
    "    score_mean = 0\n",
    "    print(\"CV SCORE: \")\n",
    "    for train_idx, validation_idx in kf.split(train_features, train_target):\n",
    "        model = ExtraTreesClassifier(**params)\n",
    "\n",
    "        X_train, X_validation = train_features.iloc[train_idx, :], train_features.iloc[validation_idx, :]\n",
    "        y_train, y_validation = train_target.iloc[train_idx], train_target.iloc[validation_idx]\n",
    "\n",
    "        model.fit(X_train, y_train)\n",
    "\n",
    "        y_pred_train = model.predict_proba(X_validation)[:,1]\n",
    "        score = roc_auc_score(y_validation, y_pred_train)\n",
    "        score_mean += score\n",
    "        print(f'AUC: {score}')\n",
    "    del X_train, X_validation, y_train, y_validation, y_pred_train    \n",
    "    gc.collect()\n",
    "    print(f'Mean AUC: {score_mean / EPOCHS} \\n')\n",
    "    return -(score_mean / EPOCHS)"
   ]
  },
  {
   "cell_type": "code",
   "execution_count": null,
   "metadata": {
    "scrolled": false
   },
   "outputs": [
    {
     "name": "stdout",
     "output_type": "stream",
     "text": [
      "############## New Run ################             \n",
      "PARAMETERS:                                         \n",
      "params  = {'criterion': 'gini', 'max_depth': 39.0, 'max_features': 'auto', 'min_samples_leaf': 20, 'min_samples_split': 25, 'n_estimators': 450.0, 'random_state': 0}\n",
      "CV SCORE:                                           \n",
      "  0%|          | 0/20 [00:00<?, ?it/s, best loss: ?]"
     ]
    }
   ],
   "source": [
    "%%time\n",
    "etc_best = fmin(fn=etc_grid,\n",
    "            space=etc_space,\n",
    "            algo=tpe.suggest,\n",
    "            max_evals=20)"
   ]
  },
  {
   "cell_type": "markdown",
   "metadata": {},
   "source": [
    "## Reference\n",
    "- https://www.kaggle.com/smerllo/identify-unique-cards-id"
   ]
  }
 ],
 "metadata": {
  "kernelspec": {
   "display_name": "Python 3",
   "language": "python",
   "name": "python3"
  },
  "language_info": {
   "codemirror_mode": {
    "name": "ipython",
    "version": 3
   },
   "file_extension": ".py",
   "mimetype": "text/x-python",
   "name": "python",
   "nbconvert_exporter": "python",
   "pygments_lexer": "ipython3",
   "version": "3.7.3"
  },
  "toc": {
   "base_numbering": 1,
   "nav_menu": {},
   "number_sections": true,
   "sideBar": true,
   "skip_h1_title": false,
   "title_cell": "Table of Contents",
   "title_sidebar": "Contents",
   "toc_cell": false,
   "toc_position": {},
   "toc_section_display": true,
   "toc_window_display": false
  },
  "varInspector": {
   "cols": {
    "lenName": 16,
    "lenType": 16,
    "lenVar": 40
   },
   "kernels_config": {
    "python": {
     "delete_cmd_postfix": "",
     "delete_cmd_prefix": "del ",
     "library": "var_list.py",
     "varRefreshCmd": "print(var_dic_list())"
    },
    "r": {
     "delete_cmd_postfix": ") ",
     "delete_cmd_prefix": "rm(",
     "library": "var_list.r",
     "varRefreshCmd": "cat(var_dic_list()) "
    }
   },
   "types_to_exclude": [
    "module",
    "function",
    "builtin_function_or_method",
    "instance",
    "_Feature"
   ],
   "window_display": false
  }
 },
 "nbformat": 4,
 "nbformat_minor": 2
}

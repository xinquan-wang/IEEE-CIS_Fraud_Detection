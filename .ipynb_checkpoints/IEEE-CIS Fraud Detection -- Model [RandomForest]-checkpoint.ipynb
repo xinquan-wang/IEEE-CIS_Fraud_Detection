{
 "cells": [
  {
   "cell_type": "markdown",
   "metadata": {},
   "source": [
    "# IEEE-CIS Fraud Detection -- Model [RandomForest]"
   ]
  },
  {
   "cell_type": "code",
   "execution_count": 1,
   "metadata": {},
   "outputs": [],
   "source": [
    "import pandas as pd\n",
    "import numpy as np\n",
    "import gc\n",
    "import warnings\n",
    "warnings.filterwarnings('ignore')"
   ]
  },
  {
   "cell_type": "code",
   "execution_count": 2,
   "metadata": {},
   "outputs": [],
   "source": [
    "import matplotlib.pyplot as plt\n",
    "import seaborn as sns\n",
    "plt.style.use('classic')\n",
    "sns.set_palette('deep')\n",
    "sns.set_style('white')\n",
    "%matplotlib inline"
   ]
  },
  {
   "cell_type": "code",
   "execution_count": 3,
   "metadata": {},
   "outputs": [],
   "source": [
    "train_features = pd.read_csv('./Data/train_features.csv' )\n",
    "test_features = pd.read_csv('./Data/test_features.csv')\n",
    "train_target = pd.read_csv('./Data/train_target.csv', header=None)"
   ]
  },
  {
   "cell_type": "markdown",
   "metadata": {},
   "source": [
    "## Model"
   ]
  },
  {
   "cell_type": "markdown",
   "metadata": {},
   "source": [
    "- Since the train and test data were collected in time series manner and there's existing a gap, split the train and validation data based using TimeSeriesSplit. "
   ]
  },
  {
   "cell_type": "code",
   "execution_count": 4,
   "metadata": {},
   "outputs": [
    {
     "name": "stderr",
     "output_type": "stream",
     "text": [
      "/Users/wangxinquan/anaconda3/lib/python3.7/site-packages/sklearn/externals/joblib/__init__.py:15: DeprecationWarning: sklearn.externals.joblib is deprecated in 0.21 and will be removed in 0.23. Please import this functionality directly from joblib, which can be installed with: pip install joblib. If this warning is raised when loading pickled models, you may need to re-serialize those models with scikit-learn 0.21+.\n",
      "  warnings.warn(msg, category=DeprecationWarning)\n"
     ]
    }
   ],
   "source": [
    "from sklearn.model_selection import TimeSeriesSplit\n",
    "from sklearn.model_selection import KFold\n",
    "from sklearn.metrics import roc_auc_score, auc\n",
    "from sklearn.ensemble import RandomForestClassifier\n",
    "from sklearn.externals import joblib"
   ]
  },
  {
   "cell_type": "code",
   "execution_count": 6,
   "metadata": {},
   "outputs": [],
   "source": [
    "# rf params\n",
    "rf_params = {'n_estimators': 500,\n",
    "             'max_depth': 8,\n",
    "             'min_samples_split': 100,\n",
    "             'min_samples_leaf': 70}"
   ]
  },
  {
   "cell_type": "code",
   "execution_count": 7,
   "metadata": {},
   "outputs": [],
   "source": [
    "def model_fn(clf, params):\n",
    "    print(\"############## New Run ################\")\n",
    "    print(\"PARAMETERS: \")\n",
    "    print(f\"params  = {params}\")\n",
    "    \n",
    "    n_splits = 5\n",
    "    tscv = TimeSeriesSplit(n_splits=n_splits)\n",
    "    score_mean = 0\n",
    "    print(\"CV SCORE: \")\n",
    "    for train_idx, validation_idx in tscv.split(train_features, train_target):\n",
    "        model = clf(**params)\n",
    "\n",
    "        X_train, X_validation = train_features.iloc[train_idx, :], train_features.iloc[validation_idx, :]\n",
    "        y_train, y_validation = train_target.iloc[train_idx], train_target.iloc[validation_idx]\n",
    "\n",
    "        model.fit(X_train, y_train)\n",
    "\n",
    "        y_pred_train = model.predict_proba(X_validation)[:,1]\n",
    "        score = roc_auc_score(y_validation, y_pred_train)\n",
    "        score_mean += score\n",
    "        print(f'AUC: {score}')\n",
    "    del X_train, X_validation, y_train, y_validation, clf, y_pred_train    \n",
    "    gc.collect()\n",
    "    joblib.dump(model, \"./Model/LGB_model.m\")\n",
    "    print(f'Mean AUC: {score_mean / 5} \\n')\n",
    "    return -(score_mean / 5)"
   ]
  },
  {
   "cell_type": "code",
   "execution_count": 8,
   "metadata": {},
   "outputs": [
    {
     "name": "stdout",
     "output_type": "stream",
     "text": [
      "############## New Run ################\n",
      "PARAMETERS: \n",
      "params  = {'n_estimators': 500, 'max_depth': 8, 'min_samples_split': 100, 'min_samples_leaf': 70}\n",
      "CV SCORE: \n",
      "AUC: 0.8530061277142115\n",
      "AUC: 0.8710899463214429\n",
      "AUC: 0.8525384488047617\n",
      "AUC: 0.8637924793034852\n",
      "AUC: 0.8578447296772242\n",
      "Mean AUC: 0.8596543463642252 \n",
      "\n"
     ]
    },
    {
     "data": {
      "text/plain": [
       "-0.8596543463642252"
      ]
     },
     "execution_count": 8,
     "metadata": {},
     "output_type": "execute_result"
    }
   ],
   "source": [
    "model_fn(RandomForestClassifier, rf_params)"
   ]
  },
  {
   "cell_type": "markdown",
   "metadata": {},
   "source": [
    "## Gridsearch for best params"
   ]
  },
  {
   "cell_type": "code",
   "execution_count": 9,
   "metadata": {},
   "outputs": [],
   "source": [
    "from hyperopt import fmin, hp, tpe, Trials, space_eval, STATUS_OK, STATUS_RUNNING"
   ]
  },
  {
   "cell_type": "markdown",
   "metadata": {},
   "source": [
    "### Random Forest"
   ]
  },
  {
   "cell_type": "code",
   "execution_count": 10,
   "metadata": {},
   "outputs": [],
   "source": [
    "rf_space = {\n",
    "    \"max_depth\": hp.quniform('max_depth', 7, 50, 3),\n",
    "    \"min_samples_split\": hp.choice('min_samples_split', [5, 10, 15, 20, 25]),\n",
    "    \"min_samples_leaf\": hp.choice('min_samples_leaf', [5, 10, 15, 20, 25]),\n",
    "    \"criterion\": \"gini\",\n",
    "    \"n_estimators\": hp.quniform('n_estimators', 10, 500, 10),\n",
    "    \"max_features\": 'auto',\n",
    "    'random_state': 0}"
   ]
  },
  {
   "cell_type": "code",
   "execution_count": 11,
   "metadata": {},
   "outputs": [],
   "source": [
    "def rf_grid(params):\n",
    "    print(\"############## New Run ################\")\n",
    "    print(\"PARAMETERS: \")\n",
    "    print(f\"params  = {params}\")\n",
    "    params = {\n",
    "        'max_depth': int(params['max_depth']),\n",
    "        'min_samples_split': params['min_samples_split'],\n",
    "        'min_samples_leaf': params['min_samples_leaf'],\n",
    "        'criterion': params['criterion'],\n",
    "        'n_estimators': int(params['n_estimators']),\n",
    "        'max_features': params['max_features'],\n",
    "        'random_state': 0\n",
    "    }\n",
    "    \n",
    "    n_splits = 5\n",
    "    tscv = TimeSeriesSplit(n_splits=n_splits)\n",
    "    score_mean = 0\n",
    "    print(\"CV SCORE: \")\n",
    "    for train_idx, validation_idx in tscv.split(train_features, train_target):\n",
    "        model = RandomForestClassifier(**params)\n",
    "\n",
    "        X_train, X_validation = train_features.iloc[train_idx, :], train_features.iloc[validation_idx, :]\n",
    "        y_train, y_validation = train_target.iloc[train_idx], train_target.iloc[validation_idx]\n",
    "\n",
    "        model.fit(X_train, y_train)\n",
    "\n",
    "        y_pred_train = model.predict_proba(X_validation)[:,1]\n",
    "        score = roc_auc_score(y_validation, y_pred_train)\n",
    "        score_mean += score\n",
    "        print(f'AUC: {score}')\n",
    "    del X_train, X_validation, y_train, y_validation, y_pred_train    \n",
    "    gc.collect()\n",
    "    print(f'Mean AUC: {score_mean / 5} \\n')\n",
    "    return -(score_mean / 5)"
   ]
  },
  {
   "cell_type": "code",
   "execution_count": null,
   "metadata": {
    "scrolled": false
   },
   "outputs": [
    {
     "name": "stdout",
     "output_type": "stream",
     "text": [
      "############## New Run ################             \n",
      "PARAMETERS:                                         \n",
      "params  = {'criterion': 'gini', 'max_depth': 27.0, 'max_features': 'auto', 'min_samples_leaf': 5, 'min_samples_split': 5, 'n_estimators': 180.0, 'random_state': 0}\n",
      "CV SCORE:                                           \n",
      "AUC: 0.8766482301311187                             \n",
      "AUC: 0.8975698631695969                             \n",
      "AUC: 0.8815804264610305                             \n",
      "AUC: 0.9003285080435519                             \n",
      "AUC: 0.8933052708794614                             \n",
      "Mean AUC: 0.8898864597369519                        \n",
      "\n",
      "############## New Run ################                                           \n",
      "PARAMETERS:                                                                       \n",
      "params  = {'criterion': 'gini', 'max_depth': 30.0, 'max_features': 'auto', 'min_samples_leaf': 15, 'min_samples_split': 15, 'n_estimators': 60.0, 'random_state': 0}\n",
      "CV SCORE:                                                                         \n",
      "AUC: 0.8748283524455673                                                           \n",
      "AUC: 0.8937517243544089                                                           \n",
      "AUC: 0.8777260170774858                                                           \n",
      "AUC: 0.8991899317624847                                                           \n",
      "AUC: 0.8878646887035443                                                           \n",
      "Mean AUC: 0.8866721428686981                                                      \n",
      "\n",
      "############## New Run ################                                           \n",
      "PARAMETERS:                                                                       \n",
      "params  = {'criterion': 'gini', 'max_depth': 24.0, 'max_features': 'auto', 'min_samples_leaf': 5, 'min_samples_split': 10, 'n_estimators': 210.0, 'random_state': 0}\n",
      "CV SCORE:                                                                         \n",
      "AUC: 0.8775771708062727                                                           \n",
      "AUC: 0.8971843128658717                                                           \n",
      "AUC: 0.8820100935570605                                                           \n",
      "AUC: 0.8989101112093795                                                           \n",
      "AUC: 0.8914469659639996                                                           \n",
      "Mean AUC: 0.8894257308805168                                                        \n",
      "\n",
      "############## New Run ################                                             \n",
      "PARAMETERS:                                                                         \n",
      "params  = {'criterion': 'gini', 'max_depth': 12.0, 'max_features': 'auto', 'min_samples_leaf': 5, 'min_samples_split': 20, 'n_estimators': 120.0, 'random_state': 0}\n",
      "CV SCORE:                                                                           \n",
      "AUC: 0.8648693146991219                                                             \n",
      "AUC: 0.8868468941982749                                                             \n",
      "AUC: 0.866353318391663                                                              \n",
      "AUC: 0.8760552924851654                                                             \n",
      "AUC: 0.8716395629286616                                                             \n",
      "Mean AUC: 0.8731528765405774                                                        \n",
      "\n",
      "############## New Run ################                                             \n",
      "PARAMETERS:                                                                         \n",
      "params  = {'criterion': 'gini', 'max_depth': 33.0, 'max_features': 'auto', 'min_samples_leaf': 15, 'min_samples_split': 20, 'n_estimators': 230.0, 'random_state': 0}\n",
      "CV SCORE:                                                                           \n",
      "AUC: 0.8783045400944258                                                             \n",
      "AUC: 0.8964009699133664                                                             \n",
      "AUC: 0.8828054501925201                                                             \n",
      "AUC: 0.9015395512714237                                                             \n",
      "AUC: 0.8925481782991069                                                             \n",
      "Mean AUC: 0.8903197379541685                                                        \n",
      "\n",
      "############## New Run ################                                             \n",
      "PARAMETERS:                                                                         \n",
      "params  = {'criterion': 'gini', 'max_depth': 18.0, 'max_features': 'auto', 'min_samples_leaf': 15, 'min_samples_split': 5, 'n_estimators': 370.0, 'random_state': 0}\n",
      "CV SCORE:                                                                           \n",
      "AUC: 0.8761482565372123                                                             \n",
      "AUC: 0.8931045095936715                                                             \n",
      "AUC: 0.8781143297178124                                                             \n",
      "AUC: 0.8930140242435219                                                             \n",
      "AUC: 0.8871611860301736                                                             \n",
      "Mean AUC: 0.8855084612244782                                                        \n",
      "\n",
      "############## New Run ################                                             \n",
      "PARAMETERS:                                                                         \n",
      "params  = {'criterion': 'gini', 'max_depth': 36.0, 'max_features': 'auto', 'min_samples_leaf': 10, 'min_samples_split': 25, 'n_estimators': 30.0, 'random_state': 0}\n",
      "CV SCORE:                                                                           \n",
      "AUC: 0.8699333125653722                                                             \n",
      "AUC: 0.8906958020899574                                                             \n",
      "AUC: 0.8719337873268493                                                             \n",
      "AUC: 0.8947638079824277                                                             \n",
      "AUC: 0.8844902237406344                                                             \n",
      "Mean AUC: 0.8823633867410482                                                        \n",
      "\n",
      "############## New Run ################                                             \n",
      "PARAMETERS:                                                                         \n",
      "params  = {'criterion': 'gini', 'max_depth': 6.0, 'max_features': 'auto', 'min_samples_leaf': 25, 'min_samples_split': 20, 'n_estimators': 90.0, 'random_state': 0}\n",
      "CV SCORE:                                                                           \n",
      "AUC: 0.8438779456448532                                                             \n",
      "AUC: 0.8632065746615787                                                             \n",
      "AUC: 0.8467844034120195                                                             \n",
      "AUC: 0.8563668187128051                                                             \n",
      "AUC: 0.8491312722611943                                                             \n",
      "Mean AUC: 0.8518734029384902                                                        \n",
      "\n",
      "############## New Run ################                                             \n",
      "PARAMETERS:                                                                         \n",
      "params  = {'criterion': 'gini', 'max_depth': 36.0, 'max_features': 'auto', 'min_samples_leaf': 20, 'min_samples_split': 5, 'n_estimators': 250.0, 'random_state': 0}\n",
      "CV SCORE:                                                                           \n",
      "AUC: 0.877366125525933                                                              \n",
      "AUC: 0.8957476000316192                                                             \n",
      " 40%|████      | 8/20 [3:00:35<3:40:34, 1102.86s/it, best loss: -0.8903197379541685]"
     ]
    }
   ],
   "source": [
    "rf_best = fmin(fn=rf_grid,\n",
    "            space=rf_space,\n",
    "            algo=tpe.suggest,\n",
    "            max_evals=20)"
   ]
  },
  {
   "cell_type": "markdown",
   "metadata": {},
   "source": [
    "### Random forest"
   ]
  },
  {
   "cell_type": "code",
   "execution_count": 19,
   "metadata": {},
   "outputs": [
    {
     "name": "stdout",
     "output_type": "stream",
     "text": [
      "############## New Run ################\n",
      "PARAMETERS: \n",
      "params  = {'n_estimators': 100, 'max_depth': 21, 'oob_score': True, 'min_samples_split': 100, 'min_samples_leaf': 30}\n",
      "CV SCORE: \n",
      "AUC: 0.8728489858985613\n",
      "AUC: 0.8874333842638913\n",
      "AUC: 0.8765140087882214\n",
      "AUC: 0.8904808068160666\n",
      "AUC: 0.8867049732530324\n",
      "Mean AUC: 0.8827964318039546 \n",
      "\n"
     ]
    },
    {
     "data": {
      "text/plain": [
       "-0.8827964318039546"
      ]
     },
     "execution_count": 19,
     "metadata": {},
     "output_type": "execute_result"
    }
   ],
   "source": [
    "model_fn(RandomForestClassifier, rf_params)"
   ]
  },
  {
   "cell_type": "code",
   "execution_count": 30,
   "metadata": {},
   "outputs": [
    {
     "data": {
      "text/plain": [
       "{'bagging_fraction': 0.7,\n",
       " 'colsample_bytree': 0.4016942936888648,\n",
       " 'feature_fraction': 0.7,\n",
       " 'gamma': 0.0027646374511606456,\n",
       " 'learning_rate': 0.07306088200408586,\n",
       " 'max_depth': 19.0,\n",
       " 'min_child_samples': 16,\n",
       " 'num_leaves': 240,\n",
       " 'reg_alpha': 0.26096845550603054,\n",
       " 'reg_lambda': 0.8730362197991705}"
      ]
     },
     "execution_count": 30,
     "metadata": {},
     "output_type": "execute_result"
    }
   ],
   "source": [
    "rf_best_params = space_eval(rf_space, rf_best)\n",
    "rf_grid(rf_best_params)"
   ]
  },
  {
   "cell_type": "code",
   "execution_count": 31,
   "metadata": {},
   "outputs": [
    {
     "name": "stdout",
     "output_type": "stream",
     "text": [
      "############## New Run ################\n",
      "PARAMETERS: \n",
      "params  = {'bagging_fraction': 0.7, 'colsample_bytree': 0.4016942936888648, 'feature_fraction': 0.7, 'gamma': 0.0027646374511606456, 'learning_rate': 0.07306088200408586, 'max_depth': 19.0, 'min_child_samples': 16, 'num_leaves': 240, 'reg_alpha': 0.26096845550603054, 'reg_lambda': 0.8730362197991705}\n",
      "CV SCORE: \n",
      "AUC: 0.8840829092579178\n",
      "AUC: 0.9104428561255219\n",
      "AUC: 0.8993004713835214\n",
      "AUC: 0.9205492045829409\n",
      "AUC: 0.9244486833378995\n",
      "Mean AUC: 0.9077648249375603 \n",
      "\n"
     ]
    },
    {
     "data": {
      "text/plain": [
       "-0.9077648249375603"
      ]
     },
     "execution_count": 31,
     "metadata": {},
     "output_type": "execute_result"
    }
   ],
   "source": []
  },
  {
   "cell_type": "code",
   "execution_count": null,
   "metadata": {},
   "outputs": [],
   "source": [
    "submission_sample = pd.read_csv('./Data/sample_submission.csv')\n",
    "test_pred = lgb_model.predict_proba(test_features)[:,1]\n",
    "submission_sample['isFraud'] = test_pred\n",
    "submission_sample.to_csv('./Output/LGBM_model_3.csv', index=False)"
   ]
  },
  {
   "cell_type": "code",
   "execution_count": null,
   "metadata": {},
   "outputs": [],
   "source": [
    "from ml import simple"
   ]
  },
  {
   "cell_type": "code",
   "execution_count": null,
   "metadata": {},
   "outputs": [],
   "source": [
    "train_target.columns = ['isFraud']\n",
    "train = pd.concat([train_features, train_target], axis=1)\n",
    "submission_sample = pd.read_csv('./Data/sample_submission.csv')\n",
    "test = pd.concat([submission_sample, test_features], axis=1)\n",
    "data = simple.Data(train, test, 'TransactionID', 'isFraud')"
   ]
  },
  {
   "cell_type": "code",
   "execution_count": null,
   "metadata": {},
   "outputs": [],
   "source": [
    "sub = simple.Model(data, 'LGB', lgb_best_params, 0.2, 4).PRED\n",
    "sub['isFraud'] = sub['isFraud'].clip(0,1)\n",
    "sub.to_csv('./Output/LGB_simple.csv', index=False)"
   ]
  },
  {
   "cell_type": "markdown",
   "metadata": {},
   "source": [
    "## Reference\n",
    "- https://www.kaggle.com/smerllo/identify-unique-cards-id"
   ]
  },
  {
   "cell_type": "code",
   "execution_count": 38,
   "metadata": {},
   "outputs": [],
   "source": []
  }
 ],
 "metadata": {
  "kernelspec": {
   "display_name": "Python 3",
   "language": "python",
   "name": "python3"
  },
  "language_info": {
   "codemirror_mode": {
    "name": "ipython",
    "version": 3
   },
   "file_extension": ".py",
   "mimetype": "text/x-python",
   "name": "python",
   "nbconvert_exporter": "python",
   "pygments_lexer": "ipython3",
   "version": "3.7.3"
  },
  "toc": {
   "base_numbering": 1,
   "nav_menu": {},
   "number_sections": true,
   "sideBar": true,
   "skip_h1_title": false,
   "title_cell": "Table of Contents",
   "title_sidebar": "Contents",
   "toc_cell": false,
   "toc_position": {},
   "toc_section_display": true,
   "toc_window_display": false
  },
  "varInspector": {
   "cols": {
    "lenName": 16,
    "lenType": 16,
    "lenVar": 40
   },
   "kernels_config": {
    "python": {
     "delete_cmd_postfix": "",
     "delete_cmd_prefix": "del ",
     "library": "var_list.py",
     "varRefreshCmd": "print(var_dic_list())"
    },
    "r": {
     "delete_cmd_postfix": ") ",
     "delete_cmd_prefix": "rm(",
     "library": "var_list.r",
     "varRefreshCmd": "cat(var_dic_list()) "
    }
   },
   "types_to_exclude": [
    "module",
    "function",
    "builtin_function_or_method",
    "instance",
    "_Feature"
   ],
   "window_display": false
  }
 },
 "nbformat": 4,
 "nbformat_minor": 2
}

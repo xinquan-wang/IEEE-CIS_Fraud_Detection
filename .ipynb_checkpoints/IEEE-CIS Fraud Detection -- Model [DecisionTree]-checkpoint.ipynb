{
 "cells": [
  {
   "cell_type": "markdown",
   "metadata": {},
   "source": [
    "# IEEE-CIS Fraud Detection -- Model [DecisionTree]"
   ]
  },
  {
   "cell_type": "code",
   "execution_count": 1,
   "metadata": {},
   "outputs": [],
   "source": [
    "import pandas as pd\n",
    "import numpy as np\n",
    "import gc\n",
    "import warnings\n",
    "warnings.filterwarnings('ignore')"
   ]
  },
  {
   "cell_type": "code",
   "execution_count": 2,
   "metadata": {},
   "outputs": [],
   "source": [
    "import matplotlib.pyplot as plt\n",
    "import seaborn as sns\n",
    "plt.style.use('classic')\n",
    "sns.set_palette('deep')\n",
    "sns.set_style('white')\n",
    "%matplotlib inline"
   ]
  },
  {
   "cell_type": "code",
   "execution_count": 38,
   "metadata": {},
   "outputs": [],
   "source": [
    "train_features = pd.read_csv('./Data/train_features.csv' )\n",
    "test_features = pd.read_csv('./Data/test_features.csv')\n",
    "train_target = pd.read_csv('./Data/train_target.csv', header=None)"
   ]
  },
  {
   "cell_type": "markdown",
   "metadata": {},
   "source": [
    "## TimeSeriesSplit"
   ]
  },
  {
   "cell_type": "markdown",
   "metadata": {},
   "source": [
    "- Since the train and test data were collected in time series manner and there's existing a gap, split the train and validation data based using TimeSeriesSplit. "
   ]
  },
  {
   "cell_type": "code",
   "execution_count": 30,
   "metadata": {},
   "outputs": [],
   "source": [
    "from sklearn.model_selection import TimeSeriesSplit\n",
    "from sklearn.model_selection import KFold\n",
    "from sklearn.metrics import roc_auc_score, auc\n",
    "from sklearn.tree import DecisionTreeClassifier\n",
    "from sklearn.externals import joblib\n",
    "from sklearn.preprocessing import StandardScaler"
   ]
  },
  {
   "cell_type": "code",
   "execution_count": 10,
   "metadata": {},
   "outputs": [],
   "source": [
    "# dt params\n",
    "dt_params = {\n",
    "             'max_depth': 8,\n",
    "             'min_samples_split': 100,\n",
    "             'min_samples_leaf': 70,\n",
    "             'class_weight': 'balanced'}"
   ]
  },
  {
   "cell_type": "code",
   "execution_count": 11,
   "metadata": {},
   "outputs": [],
   "source": [
    "def model_fn(clf, params):\n",
    "    print(\"############## New Run ################\")\n",
    "    print(\"PARAMETERS: \")\n",
    "    print(f\"params  = {params}\")\n",
    "    \n",
    "    n_splits = 5\n",
    "    tscv = TimeSeriesSplit(n_splits=n_splits)\n",
    "    score_mean = 0\n",
    "    print(\"CV SCORE: \")\n",
    "    for train_idx, validation_idx in tscv.split(train_features, train_target):\n",
    "        model = clf(**params)\n",
    "\n",
    "        X_train, X_validation = train_features.iloc[train_idx, :], train_features.iloc[validation_idx, :]\n",
    "        y_train, y_validation = train_target.iloc[train_idx], train_target.iloc[validation_idx]\n",
    "\n",
    "        model.fit(X_train, y_train)\n",
    "\n",
    "        y_pred_train = model.predict_proba(X_validation)[:,1]\n",
    "        score = roc_auc_score(y_validation, y_pred_train)\n",
    "        score_mean += score\n",
    "        print(f'AUC: {score}')\n",
    "    del X_train, X_validation, y_train, y_validation, clf, y_pred_train    \n",
    "    gc.collect()\n",
    "    joblib.dump(model, \"./Model/LGB_model.m\")\n",
    "    print(f'Mean AUC: {score_mean / 5} \\n')\n",
    "    return -(score_mean / 5)"
   ]
  },
  {
   "cell_type": "code",
   "execution_count": 12,
   "metadata": {},
   "outputs": [
    {
     "name": "stdout",
     "output_type": "stream",
     "text": [
      "############## New Run ################\n",
      "PARAMETERS: \n",
      "params  = {'max_depth': 8, 'min_samples_split': 100, 'min_samples_leaf': 70, 'class_weight': 'balanced'}\n",
      "CV SCORE: \n",
      "AUC: 0.7966722596760338\n",
      "AUC: 0.8174472989634196\n",
      "AUC: 0.8305594519312686\n",
      "AUC: 0.8365704699770519\n",
      "AUC: 0.834451124390845\n",
      "Mean AUC: 0.8231401209877237 \n",
      "\n"
     ]
    },
    {
     "data": {
      "text/plain": [
       "-0.8231401209877237"
      ]
     },
     "execution_count": 12,
     "metadata": {},
     "output_type": "execute_result"
    }
   ],
   "source": [
    "model_fn(DecisionTreeClassifier, dt_params)"
   ]
  },
  {
   "cell_type": "markdown",
   "metadata": {},
   "source": [
    "### Gridsearch for best params"
   ]
  },
  {
   "cell_type": "code",
   "execution_count": 14,
   "metadata": {},
   "outputs": [],
   "source": [
    "from hyperopt import fmin, hp, tpe, Trials, space_eval, STATUS_OK, STATUS_RUNNING"
   ]
  },
  {
   "cell_type": "code",
   "execution_count": 27,
   "metadata": {},
   "outputs": [],
   "source": [
    "dt_space = {\n",
    "    \"max_depth\": hp.quniform('max_depth', 7, 150, 3),\n",
    "    \"min_samples_split\": hp.choice('min_samples_split', [5, 10, 15, 20, 25, 30, 35, 40, 45, 50]),\n",
    "    \"min_samples_leaf\": hp.choice('min_samples_leaf', [5, 10, 15, 20, 25, 30, 35, 40, 45, 50]),\n",
    "    \"criterion\": \"gini\",\n",
    "    \"max_features\": 'auto',\n",
    "    'class_weight': 'balanced',\n",
    "    'splitter': 'random',\n",
    "    'random_state': 0}"
   ]
  },
  {
   "cell_type": "code",
   "execution_count": 28,
   "metadata": {},
   "outputs": [],
   "source": [
    "def dt_grid(params):\n",
    "    print(\"############## New Run ################\")\n",
    "    print(\"PARAMETERS: \")\n",
    "    print(f\"params  = {params}\")\n",
    "    params = {\n",
    "        'max_depth': int(params['max_depth']),\n",
    "        'min_samples_split': params['min_samples_split'],\n",
    "        'min_samples_leaf': params['min_samples_leaf'],\n",
    "        'criterion': params['criterion'],\n",
    "        'max_features': params['max_features'],\n",
    "        'random_state': 0\n",
    "    }\n",
    "    \n",
    "    n_splits = 5\n",
    "    tscv = TimeSeriesSplit(n_splits=n_splits)\n",
    "    score_mean = 0\n",
    "    print(\"CV SCORE: \")\n",
    "    for train_idx, validation_idx in tscv.split(train_features, train_target):\n",
    "        model = DecisionTreeClassifier(**params)\n",
    "\n",
    "        X_train, X_validation = train_features.iloc[train_idx, :], train_features.iloc[validation_idx, :]\n",
    "        y_train, y_validation = train_target.iloc[train_idx], train_target.iloc[validation_idx]\n",
    "\n",
    "        model.fit(X_train, y_train)\n",
    "\n",
    "        y_pred_train = model.predict_proba(X_validation)[:,1]\n",
    "        score = roc_auc_score(y_validation, y_pred_train)\n",
    "        score_mean += score\n",
    "        print(f'AUC: {score}')\n",
    "    del X_train, X_validation, y_train, y_validation, y_pred_train    \n",
    "    gc.collect()\n",
    "    print(f'Mean AUC: {score_mean / 5} \\n')\n",
    "    return -(score_mean / 5)"
   ]
  },
  {
   "cell_type": "code",
   "execution_count": 35,
   "metadata": {
    "scrolled": true
   },
   "outputs": [
    {
     "name": "stdout",
     "output_type": "stream",
     "text": [
      "############## New Run ################             \n",
      "PARAMETERS:                                         \n",
      "params  = {'class_weight': 'balanced', 'criterion': 'gini', 'max_depth': 93.0, 'max_features': 'auto', 'min_samples_leaf': 35, 'min_samples_split': 35, 'random_state': 0, 'splitter': 'random'}\n",
      "CV SCORE:                                           \n",
      "AUC: 0.7624137568917329                             \n",
      "AUC: 0.7712018470481414                             \n",
      "AUC: 0.7764937158667164                             \n",
      "AUC: 0.7820828145126059                             \n",
      "AUC: 0.7748564836640683                             \n",
      "Mean AUC: 0.773409723596653                         \n",
      "\n",
      "############## New Run ################                                      \n",
      "PARAMETERS:                                                                  \n",
      "params  = {'class_weight': 'balanced', 'criterion': 'gini', 'max_depth': 135.0, 'max_features': 'auto', 'min_samples_leaf': 40, 'min_samples_split': 35, 'random_state': 0, 'splitter': 'random'}\n",
      "CV SCORE:                                                                    \n",
      "AUC: 0.7559954564352045                                                      \n",
      "AUC: 0.7958745347131981                                                      \n",
      "AUC: 0.778418331788462                                                       \n",
      "AUC: 0.7993115458209633                                                      \n",
      "AUC: 0.7824361795136668                                                      \n",
      "Mean AUC: 0.782407209654299                                                  \n",
      "\n",
      "############## New Run ################                                      \n",
      "PARAMETERS:                                                                  \n",
      "params  = {'class_weight': 'balanced', 'criterion': 'gini', 'max_depth': 54.0, 'max_features': 'auto', 'min_samples_leaf': 35, 'min_samples_split': 20, 'random_state': 0, 'splitter': 'random'}\n",
      "CV SCORE:                                                                    \n",
      "AUC: 0.7624137568917329                                                      \n",
      "AUC: 0.7712018470481414                                                      \n",
      "AUC: 0.7764937158667164                                                      \n",
      "AUC: 0.7820828145126059                                                      \n",
      "AUC: 0.7748564836640683                                                      \n",
      "Mean AUC: 0.773409723596653                                                  \n",
      "\n",
      "############## New Run ################                                      \n",
      "PARAMETERS:                                                                  \n",
      "params  = {'class_weight': 'balanced', 'criterion': 'gini', 'max_depth': 126.0, 'max_features': 'auto', 'min_samples_leaf': 50, 'min_samples_split': 30, 'random_state': 0, 'splitter': 'random'}\n",
      "CV SCORE:                                                                    \n",
      "AUC: 0.7613950526667719                                                      \n",
      "AUC: 0.7866262577880105                                                      \n",
      "AUC: 0.7839827240035928                                                      \n",
      "AUC: 0.8009131095892618                                                      \n",
      "AUC: 0.8030392729353635                                                      \n",
      "Mean AUC: 0.7871912833966                                                    \n",
      "\n",
      "############## New Run ################                                      \n",
      "PARAMETERS:                                                                \n",
      "params  = {'class_weight': 'balanced', 'criterion': 'gini', 'max_depth': 36.0, 'max_features': 'auto', 'min_samples_leaf': 30, 'min_samples_split': 35, 'random_state': 0, 'splitter': 'random'}\n",
      "CV SCORE:                                                                  \n",
      "AUC: 0.7411043177644033                                                    \n",
      "AUC: 0.7484532927769094                                                    \n",
      "AUC: 0.7699393739842049                                                    \n",
      "AUC: 0.7927848642589032                                                    \n",
      "AUC: 0.7797612519613412                                                    \n",
      "Mean AUC: 0.7664086201491525                                               \n",
      "\n",
      "############## New Run ################                                    \n",
      "PARAMETERS:                                                                \n",
      "params  = {'class_weight': 'balanced', 'criterion': 'gini', 'max_depth': 78.0, 'max_features': 'auto', 'min_samples_leaf': 30, 'min_samples_split': 30, 'random_state': 0, 'splitter': 'random'}\n",
      "CV SCORE:                                                                  \n",
      "AUC: 0.7460597982228578                                                    \n",
      "AUC: 0.7653588183546493                                                    \n",
      "AUC: 0.7588353031439106                                                    \n",
      "AUC: 0.7925752311604108                                                    \n",
      "AUC: 0.783544247416388                                                     \n",
      "Mean AUC: 0.7692746796596432                                               \n",
      "\n",
      "############## New Run ################                                    \n",
      "PARAMETERS:                                                                \n",
      "params  = {'class_weight': 'balanced', 'criterion': 'gini', 'max_depth': 69.0, 'max_features': 'auto', 'min_samples_leaf': 25, 'min_samples_split': 10, 'random_state': 0, 'splitter': 'random'}\n",
      "CV SCORE:                                                                  \n",
      "AUC: 0.745268950670175                                                     \n",
      "AUC: 0.7673616378022305                                                    \n",
      "AUC: 0.7660558194602322                                                    \n",
      "AUC: 0.7823614738419882                                                    \n",
      "AUC: 0.7788731213862786                                                    \n",
      "Mean AUC: 0.767984200632181                                                \n",
      "\n",
      "############## New Run ################                                    \n",
      "PARAMETERS:                                                                \n",
      "params  = {'class_weight': 'balanced', 'criterion': 'gini', 'max_depth': 51.0, 'max_features': 'auto', 'min_samples_leaf': 25, 'min_samples_split': 45, 'random_state': 0, 'splitter': 'random'}\n",
      "CV SCORE:                                                                  \n",
      "AUC: 0.745268950670175                                                     \n",
      "AUC: 0.7673616378022305                                                    \n",
      "AUC: 0.7660558194602322                                                    \n",
      "AUC: 0.7683404619869735                                                    \n",
      "AUC: 0.7788731213862786                                                    \n",
      "Mean AUC: 0.765179998261178                                                \n",
      "\n",
      "############## New Run ################                                    \n",
      "PARAMETERS:                                                                \n",
      "params  = {'class_weight': 'balanced', 'criterion': 'gini', 'max_depth': 123.0, 'max_features': 'auto', 'min_samples_leaf': 35, 'min_samples_split': 30, 'random_state': 0, 'splitter': 'random'}\n",
      "CV SCORE:                                                                  \n",
      "AUC: 0.7624137568917329                                                    \n",
      "AUC: 0.7712018470481414                                                    \n",
      "AUC: 0.7764937158667164                                                    \n",
      "AUC: 0.7820828145126059                                                    \n",
      "AUC: 0.7748564836640683                                                    \n",
      "Mean AUC: 0.773409723596653                                                \n",
      "\n",
      "############## New Run ################                                    \n",
      "PARAMETERS:                                                                \n",
      "params  = {'class_weight': 'balanced', 'criterion': 'gini', 'max_depth': 51.0, 'max_features': 'auto', 'min_samples_leaf': 30, 'min_samples_split': 20, 'random_state': 0, 'splitter': 'random'}\n",
      "CV SCORE:                                                                  \n"
     ]
    },
    {
     "name": "stdout",
     "output_type": "stream",
     "text": [
      "AUC: 0.7460597982228578                                                    \n",
      "AUC: 0.7653588183546493                                                    \n",
      "AUC: 0.7588353031439106                                                    \n",
      "AUC: 0.7925752311604108                                                    \n",
      "AUC: 0.783544247416388                                                     \n",
      "Mean AUC: 0.7692746796596432                                               \n",
      "\n",
      "############## New Run ################                                     \n",
      "PARAMETERS:                                                                 \n",
      "params  = {'class_weight': 'balanced', 'criterion': 'gini', 'max_depth': 99.0, 'max_features': 'auto', 'min_samples_leaf': 45, 'min_samples_split': 5, 'random_state': 0, 'splitter': 'random'}\n",
      "CV SCORE:                                                                   \n",
      "AUC: 0.7759223334293397                                                     \n",
      "AUC: 0.7820862018821716                                                     \n",
      "AUC: 0.7783331056991193                                                     \n",
      "AUC: 0.8021829528336811                                                     \n",
      "AUC: 0.8034441417551461                                                     \n",
      "Mean AUC: 0.7883937471198915                                                \n",
      "\n",
      "############## New Run ################                                        \n",
      "PARAMETERS:                                                                    \n",
      "params  = {'class_weight': 'balanced', 'criterion': 'gini', 'max_depth': 123.0, 'max_features': 'auto', 'min_samples_leaf': 10, 'min_samples_split': 15, 'random_state': 0, 'splitter': 'random'}\n",
      "CV SCORE:                                                                      \n",
      "AUC: 0.7139513112841204                                                        \n",
      "AUC: 0.7318671492991845                                                        \n",
      "AUC: 0.7231478726458709                                                        \n",
      "AUC: 0.7463580372841419                                                        \n",
      "AUC: 0.7357336334971176                                                        \n",
      "Mean AUC: 0.7302116008020871                                                   \n",
      "\n",
      "############## New Run ################                                        \n",
      "PARAMETERS:                                                                    \n",
      "params  = {'class_weight': 'balanced', 'criterion': 'gini', 'max_depth': 123.0, 'max_features': 'auto', 'min_samples_leaf': 40, 'min_samples_split': 50, 'random_state': 0, 'splitter': 'random'}\n",
      "CV SCORE:                                                                      \n",
      "AUC: 0.7559954564352045                                                        \n",
      "AUC: 0.7958745347131981                                                        \n",
      "AUC: 0.778418331788462                                                         \n",
      "AUC: 0.7993115458209633                                                        \n",
      "AUC: 0.7824361795136668                                                        \n",
      "Mean AUC: 0.782407209654299                                                    \n",
      "\n",
      "############## New Run ################                                        \n",
      "PARAMETERS:                                                                    \n",
      "params  = {'class_weight': 'balanced', 'criterion': 'gini', 'max_depth': 48.0, 'max_features': 'auto', 'min_samples_leaf': 45, 'min_samples_split': 50, 'random_state': 0, 'splitter': 'random'}\n",
      "CV SCORE:                                                                      \n",
      "AUC: 0.7759223334293397                                                        \n",
      "AUC: 0.7820862018821716                                                        \n",
      "AUC: 0.7783331056991193                                                        \n",
      "AUC: 0.8021829528336811                                                        \n",
      "AUC: 0.8034441417551461                                                        \n",
      "Mean AUC: 0.7883937471198915                                                   \n",
      "\n",
      "############## New Run ################                                        \n",
      "PARAMETERS:                                                                    \n",
      "params  = {'class_weight': 'balanced', 'criterion': 'gini', 'max_depth': 81.0, 'max_features': 'auto', 'min_samples_leaf': 45, 'min_samples_split': 45, 'random_state': 0, 'splitter': 'random'}\n",
      "CV SCORE:                                                                      \n",
      "AUC: 0.7759223334293397                                                        \n",
      "AUC: 0.7820862018821716                                                        \n",
      "AUC: 0.7783331056991193                                                        \n",
      "AUC: 0.8021829528336811                                                        \n",
      "AUC: 0.8034441417551461                                                        \n",
      "Mean AUC: 0.7883937471198915                                                   \n",
      "\n",
      "############## New Run ################                                        \n",
      "PARAMETERS:                                                                    \n",
      "params  = {'class_weight': 'balanced', 'criterion': 'gini', 'max_depth': 138.0, 'max_features': 'auto', 'min_samples_leaf': 10, 'min_samples_split': 35, 'random_state': 0, 'splitter': 'random'}\n",
      "CV SCORE:                                                                      \n",
      "AUC: 0.7217038490699175                                                        \n",
      "AUC: 0.741984615749009                                                         \n",
      "AUC: 0.7306565199252731                                                        \n",
      "AUC: 0.7708952085881688                                                        \n",
      "AUC: 0.7454074961471432                                                        \n",
      "Mean AUC: 0.7421295378959023                                                   \n",
      "\n",
      "############## New Run ################                                        \n",
      "PARAMETERS:                                                                    \n",
      "params  = {'class_weight': 'balanced', 'criterion': 'gini', 'max_depth': 48.0, 'max_features': 'auto', 'min_samples_leaf': 5, 'min_samples_split': 10, 'random_state': 0, 'splitter': 'random'}\n",
      "CV SCORE:                                                                      \n",
      "AUC: 0.6770051062886268                                                        \n",
      "AUC: 0.7181790428340277                                                        \n",
      "AUC: 0.6783816385506483                                                        \n",
      "AUC: 0.7098033358947837                                                        \n",
      "AUC: 0.7023415840187668                                                        \n",
      "Mean AUC: 0.6971421415173708                                                   \n",
      "\n",
      "############## New Run ################                                        \n",
      "PARAMETERS:                                                                    \n",
      "params  = {'class_weight': 'balanced', 'criterion': 'gini', 'max_depth': 144.0, 'max_features': 'auto', 'min_samples_leaf': 50, 'min_samples_split': 50, 'random_state': 0, 'splitter': 'random'}\n",
      "CV SCORE:                                                                      \n",
      "AUC: 0.7613950526667719                                                        \n",
      "AUC: 0.7866262577880105                                                        \n",
      "AUC: 0.7839827240035928                                                        \n",
      "AUC: 0.8009131095892618                                                        \n",
      "AUC: 0.8030392729353635                                                        \n",
      "Mean AUC: 0.7871912833966                                                      \n",
      "\n",
      "############## New Run ################                                        \n",
      "PARAMETERS:                                                                    \n",
      "params  = {'class_weight': 'balanced', 'criterion': 'gini', 'max_depth': 87.0, 'max_features': 'auto', 'min_samples_leaf': 25, 'min_samples_split': 45, 'random_state': 0, 'splitter': 'random'}\n",
      "CV SCORE:                                                                      \n"
     ]
    },
    {
     "name": "stdout",
     "output_type": "stream",
     "text": [
      "AUC: 0.745268950670175                                                         \n",
      "AUC: 0.7673616378022305                                                        \n",
      "AUC: 0.7660558194602322                                                        \n",
      "AUC: 0.7823614738419882                                                        \n",
      "AUC: 0.7788731213862786                                                        \n",
      "Mean AUC: 0.767984200632181                                                    \n",
      "\n",
      "############## New Run ################                                        \n",
      "PARAMETERS:                                                                    \n",
      "params  = {'class_weight': 'balanced', 'criterion': 'gini', 'max_depth': 87.0, 'max_features': 'auto', 'min_samples_leaf': 40, 'min_samples_split': 35, 'random_state': 0, 'splitter': 'random'}\n",
      "CV SCORE:                                                                      \n",
      "AUC: 0.7559954564352045                                                        \n",
      "AUC: 0.7958745347131981                                                        \n",
      "AUC: 0.778418331788462                                                         \n",
      "AUC: 0.7993115458209633                                                        \n",
      "AUC: 0.7824361795136668                                                        \n",
      "Mean AUC: 0.782407209654299                                                    \n",
      "\n",
      "100%|██████████| 20/20 [05:33<00:00, 16.72s/it, best loss: -0.7883937471198915]\n"
     ]
    }
   ],
   "source": [
    "dt_best = fmin(fn=dt_grid,\n",
    "            space=dt_space,\n",
    "            algo=tpe.suggest,\n",
    "            max_evals=20)"
   ]
  },
  {
   "cell_type": "markdown",
   "metadata": {},
   "source": [
    "## Train_test_split"
   ]
  },
  {
   "cell_type": "code",
   "execution_count": 36,
   "metadata": {},
   "outputs": [],
   "source": [
    "sample_submission = pd.read_csv('./Data/sample_submission.csv')"
   ]
  },
  {
   "cell_type": "code",
   "execution_count": 46,
   "metadata": {},
   "outputs": [
    {
     "name": "stdout",
     "output_type": "stream",
     "text": [
      "CV SCORE: \n",
      "ROC AUC 0.863980883554148\n",
      "ROC AUC 0.864490755976214\n",
      "ROC AUC 0.8593593771095372\n",
      "ROC AUC 0.8670200293479176\n",
      "ROC AUC 0.8681954287742606\n",
      "Mean AUC: 0.8646092949524155 \n",
      "\n",
      "CPU times: user 2min 47s, sys: 14.4 s, total: 3min 2s\n",
      "Wall time: 4min 2s\n"
     ]
    }
   ],
   "source": [
    "%%time\n",
    "from sklearn.model_selection import KFold\n",
    "from sklearn.metrics import roc_auc_score\n",
    "\n",
    "EPOCHS = 5\n",
    "kf = KFold(n_splits = EPOCHS, shuffle = True)\n",
    "y_preds = np.zeros(sample_submission.shape[0])\n",
    "y_oof = np.zeros(train_features.shape[0])\n",
    "score_mean = 0\n",
    "print(\"CV SCORE: \")\n",
    "for tr_idx, val_idx in kf.split(train_features, train_target):\n",
    "    clf = DecisionTreeClassifier(**dt_params)\n",
    "    \n",
    "    X_tr, X_vl = train_features.iloc[tr_idx, :], train_features.iloc[val_idx, :]\n",
    "    y_tr, y_vl = train_target.iloc[tr_idx], train_target.iloc[val_idx]\n",
    "    clf.fit(X_tr, y_tr)\n",
    "    y_pred_train = clf.predict_proba(X_vl)[:,1]\n",
    "    y_oof[val_idx] = y_pred_train\n",
    "    score = roc_auc_score(y_vl, y_pred_train)\n",
    "    score_mean += score\n",
    "    print('ROC AUC {}'.format(score))\n",
    "print(f'Mean AUC: {score_mean / EPOCHS} \\n')"
   ]
  },
  {
   "cell_type": "markdown",
   "metadata": {},
   "source": [
    "### GridSearch"
   ]
  },
  {
   "cell_type": "code",
   "execution_count": 47,
   "metadata": {},
   "outputs": [],
   "source": [
    "def lgb_grid(params):\n",
    "    print(\"############## New Run ################\")\n",
    "    print(\"PARAMETERS: \")\n",
    "    print(f\"params  = {params}\")\n",
    "    params = {\n",
    "        'max_depth': int(params['max_depth']),\n",
    "        'min_samples_split': params['min_samples_split'],\n",
    "        'min_samples_leaf': params['min_samples_leaf'],\n",
    "        'criterion': params['criterion'],\n",
    "        'max_features': params['max_features'],\n",
    "        'random_state': 0\n",
    "    }\n",
    "    \n",
    "    EPOCHS = 5\n",
    "    kf = KFold(n_splits = EPOCHS, shuffle = True)\n",
    "    y_preds = np.zeros(sample_submission.shape[0])\n",
    "    y_oof = np.zeros(train_features.shape[0])\n",
    "    score_mean = 0\n",
    "    print(\"CV SCORE: \")\n",
    "    for tr_idx, val_idx in kf.split(train_features, train_target):\n",
    "        clf = DecisionTreeClassifier(\n",
    "            **params\n",
    "        )\n",
    "\n",
    "        X_tr, X_vl = train_features.iloc[tr_idx, :], train_features.iloc[val_idx, :]\n",
    "        y_tr, y_vl = train_target.iloc[tr_idx], train_target.iloc[val_idx]\n",
    "        clf.fit(X_tr, y_tr)\n",
    "        y_pred_train = clf.predict_proba(X_vl)[:,1]\n",
    "        y_oof[val_idx] = y_pred_train\n",
    "        score = roc_auc_score(y_vl, y_pred_train)\n",
    "        score_mean += score\n",
    "        print(f'AUC: {score}')\n",
    "        \n",
    "    print(f'Mean AUC: {score_mean / EPOCHS} \\n')\n",
    "    joblib.dump(clf, \"./Model/DT_model_cv.m\")\n",
    "    return -(score_mean / EPOCHS)"
   ]
  },
  {
   "cell_type": "code",
   "execution_count": null,
   "metadata": {},
   "outputs": [
    {
     "name": "stdout",
     "output_type": "stream",
     "text": [
      "############## New Run ################             \n",
      "PARAMETERS:                                         \n",
      "params  = {'class_weight': 'balanced', 'criterion': 'gini', 'max_depth': 102.0, 'max_features': 'auto', 'min_samples_leaf': 10, 'min_samples_split': 35, 'random_state': 0, 'splitter': 'random'}\n",
      "CV SCORE:                                           \n",
      "AUC: 0.7217038490699175                             \n",
      "AUC: 0.741984615749009                              \n",
      "AUC: 0.7306565199252731                             \n",
      "AUC: 0.7708952085881688                             \n",
      "  0%|          | 0/20 [00:30<?, ?it/s, best loss: ?]"
     ]
    }
   ],
   "source": [
    "dt_best = fmin(fn=dt_grid,\n",
    "            space=dt_space,\n",
    "            algo=tpe.suggest,\n",
    "            max_evals=20)"
   ]
  },
  {
   "cell_type": "markdown",
   "metadata": {},
   "source": [
    "### Adaboost"
   ]
  },
  {
   "cell_type": "code",
   "execution_count": 24,
   "metadata": {},
   "outputs": [],
   "source": [
    "model_fn(AdaBoostClassifier)"
   ]
  },
  {
   "cell_type": "code",
   "execution_count": 25,
   "metadata": {},
   "outputs": [
    {
     "name": "stdout",
     "output_type": "stream",
     "text": [
      "AUC: 0.837240486694629\n",
      "AUC: 0.8602790351120537\n",
      "AUC: 0.8479921977907815\n",
      "AUC: 0.8541190045897462\n",
      "AUC: 0.8606400757548586\n"
     ]
    }
   ],
   "source": [
    "score_mean = 0\n",
    "for train_idx, validation_idx in tscv.split(train_features, train_target):\n",
    "    model = AdaBoostClassifier()\n",
    "\n",
    "    X_train, X_validation = train_features.iloc[train_idx, :], train_features.iloc[validation_idx, :]\n",
    "    y_train, y_validation = train_target.iloc[train_idx], train_target.iloc[validation_idx]\n",
    "\n",
    "    model.fit(X_train, y_train)\n",
    "\n",
    "    y_pred_train = model.predict_proba(X_validation)[:,1]\n",
    "    score = roc_auc_score(y_validation, y_pred_train)\n",
    "    score_mean += score\n",
    "    print(f'AUC: {score}')"
   ]
  },
  {
   "cell_type": "code",
   "execution_count": 30,
   "metadata": {},
   "outputs": [
    {
     "data": {
      "text/plain": [
       "{'bagging_fraction': 0.7,\n",
       " 'colsample_bytree': 0.4016942936888648,\n",
       " 'feature_fraction': 0.7,\n",
       " 'gamma': 0.0027646374511606456,\n",
       " 'learning_rate': 0.07306088200408586,\n",
       " 'max_depth': 19.0,\n",
       " 'min_child_samples': 16,\n",
       " 'num_leaves': 240,\n",
       " 'reg_alpha': 0.26096845550603054,\n",
       " 'reg_lambda': 0.8730362197991705}"
      ]
     },
     "execution_count": 30,
     "metadata": {},
     "output_type": "execute_result"
    }
   ],
   "source": [
    "lgb_best_params = space_eval(lgb_space, lgb_best)\n",
    "lgb_best_params"
   ]
  },
  {
   "cell_type": "code",
   "execution_count": 31,
   "metadata": {},
   "outputs": [
    {
     "name": "stdout",
     "output_type": "stream",
     "text": [
      "############## New Run ################\n",
      "PARAMETERS: \n",
      "params  = {'bagging_fraction': 0.7, 'colsample_bytree': 0.4016942936888648, 'feature_fraction': 0.7, 'gamma': 0.0027646374511606456, 'learning_rate': 0.07306088200408586, 'max_depth': 19.0, 'min_child_samples': 16, 'num_leaves': 240, 'reg_alpha': 0.26096845550603054, 'reg_lambda': 0.8730362197991705}\n",
      "CV SCORE: \n",
      "AUC: 0.8840829092579178\n",
      "AUC: 0.9104428561255219\n",
      "AUC: 0.8993004713835214\n",
      "AUC: 0.9205492045829409\n",
      "AUC: 0.9244486833378995\n",
      "Mean AUC: 0.9077648249375603 \n",
      "\n"
     ]
    },
    {
     "data": {
      "text/plain": [
       "-0.9077648249375603"
      ]
     },
     "execution_count": 31,
     "metadata": {},
     "output_type": "execute_result"
    }
   ],
   "source": [
    "lgb_grid(lgb_best_params)"
   ]
  },
  {
   "cell_type": "markdown",
   "metadata": {},
   "source": [
    "## Ensemble model -- Stacking"
   ]
  },
  {
   "cell_type": "code",
   "execution_count": 35,
   "metadata": {},
   "outputs": [],
   "source": [
    "clfs = [lgb.LGBMClassifier(**lgb_params),\n",
    "        xgb.XGBClassifier(**xgb_params), \n",
    "        RandomForestClassifier(**rf_params),\n",
    "        ExtraTreesClassifier(), \n",
    "        DecisionTreeClassifier(), \n",
    "        AdaBoostClassifier()]\n",
    "lr = LogisticRegression()\n",
    "sclf = StackingClassifier(classifiers=clfs, \n",
    "                          meta_classifier=lr)"
   ]
  },
  {
   "cell_type": "code",
   "execution_count": 36,
   "metadata": {},
   "outputs": [],
   "source": [
    "%%time\n",
    "scores = []\n",
    "score = 0\n",
    "for clf, label in zip(clfs + [sclf], \n",
    "                      ['LGBM', \n",
    "                       'Xgboost',\n",
    "                       'Random Forest', \n",
    "                       'Extra Trees',\n",
    "                       'DecisionTree',\n",
    "                       'Adaboost',\n",
    "                       'StackingClassifier']):\n",
    "    \n",
    "    for i, (train_idx, validation_idx) in enumerate(tscv.split(train_features, train_target)):\n",
    "        \n",
    "        print(f'[{label}] Start training {i+1} fold')\n",
    "    \n",
    "        X_train, X_validation = train_features.iloc[train_idx, :], train_features.iloc[validation_idx, :]\n",
    "        y_train, y_validation = train_target.iloc[train_idx], train_target.iloc[validation_idx]\n",
    " \n",
    "        clf.fit(X_train, y_train)  \n",
    " \n",
    "        y_pred_train = clf.predict_proba(X_validation)[:,1]\n",
    "        score = roc_auc_score(y_validation, y_pred_train)\n",
    "        scores.append(score)\n",
    "        print('            Validation AUC: ', score)\n",
    "\n",
    "    print(\"[%s] Accuracy: %0.4f (+/- %0.2f)\" % (label, np.mean(scores), np.std(scores)))"
   ]
  },
  {
   "cell_type": "code",
   "execution_count": 37,
   "metadata": {},
   "outputs": [
    {
     "data": {
      "text/html": [
       "<div>\n",
       "<style scoped>\n",
       "    .dataframe tbody tr th:only-of-type {\n",
       "        vertical-align: middle;\n",
       "    }\n",
       "\n",
       "    .dataframe tbody tr th {\n",
       "        vertical-align: top;\n",
       "    }\n",
       "\n",
       "    .dataframe thead th {\n",
       "        text-align: right;\n",
       "    }\n",
       "</style>\n",
       "<table border=\"1\" class=\"dataframe\">\n",
       "  <thead>\n",
       "    <tr style=\"text-align: right;\">\n",
       "      <th></th>\n",
       "      <th>TransactionID</th>\n",
       "      <th>TransactionAmt</th>\n",
       "      <th>ProductCD</th>\n",
       "      <th>card1</th>\n",
       "      <th>card2</th>\n",
       "      <th>card3</th>\n",
       "      <th>card4</th>\n",
       "      <th>card5</th>\n",
       "      <th>card6</th>\n",
       "      <th>addr1</th>\n",
       "      <th>...</th>\n",
       "      <th>DeviceInfo</th>\n",
       "      <th>Month</th>\n",
       "      <th>Weekday</th>\n",
       "      <th>Day</th>\n",
       "      <th>Hour</th>\n",
       "      <th>TransactionAmt_to_mean_card1</th>\n",
       "      <th>TransactionAmt_to_mean_card4</th>\n",
       "      <th>D15_to_mean_addr1</th>\n",
       "      <th>P_emaildomain_2</th>\n",
       "      <th>R_emaildomain_2</th>\n",
       "    </tr>\n",
       "  </thead>\n",
       "  <tbody>\n",
       "    <tr>\n",
       "      <th>0</th>\n",
       "      <td>2987000</td>\n",
       "      <td>68.5</td>\n",
       "      <td>4</td>\n",
       "      <td>4248</td>\n",
       "      <td>0</td>\n",
       "      <td>51</td>\n",
       "      <td>2</td>\n",
       "      <td>43</td>\n",
       "      <td>2</td>\n",
       "      <td>216</td>\n",
       "      <td>...</td>\n",
       "      <td>0</td>\n",
       "      <td>12</td>\n",
       "      <td>5</td>\n",
       "      <td>2</td>\n",
       "      <td>0</td>\n",
       "      <td>0.194580</td>\n",
       "      <td>0.257812</td>\n",
       "      <td>0.000000</td>\n",
       "      <td>0</td>\n",
       "      <td>0</td>\n",
       "    </tr>\n",
       "    <tr>\n",
       "      <th>1</th>\n",
       "      <td>2987001</td>\n",
       "      <td>29.0</td>\n",
       "      <td>4</td>\n",
       "      <td>9979</td>\n",
       "      <td>305</td>\n",
       "      <td>51</td>\n",
       "      <td>3</td>\n",
       "      <td>3</td>\n",
       "      <td>2</td>\n",
       "      <td>226</td>\n",
       "      <td>...</td>\n",
       "      <td>0</td>\n",
       "      <td>12</td>\n",
       "      <td>5</td>\n",
       "      <td>2</td>\n",
       "      <td>0</td>\n",
       "      <td>0.123779</td>\n",
       "      <td>0.218994</td>\n",
       "      <td>0.000000</td>\n",
       "      <td>2</td>\n",
       "      <td>0</td>\n",
       "    </tr>\n",
       "    <tr>\n",
       "      <th>2</th>\n",
       "      <td>2987002</td>\n",
       "      <td>59.0</td>\n",
       "      <td>4</td>\n",
       "      <td>11850</td>\n",
       "      <td>391</td>\n",
       "      <td>51</td>\n",
       "      <td>4</td>\n",
       "      <td>67</td>\n",
       "      <td>3</td>\n",
       "      <td>231</td>\n",
       "      <td>...</td>\n",
       "      <td>0</td>\n",
       "      <td>12</td>\n",
       "      <td>5</td>\n",
       "      <td>2</td>\n",
       "      <td>0</td>\n",
       "      <td>0.607910</td>\n",
       "      <td>0.443115</td>\n",
       "      <td>1.611328</td>\n",
       "      <td>2</td>\n",
       "      <td>0</td>\n",
       "    </tr>\n",
       "    <tr>\n",
       "      <th>3</th>\n",
       "      <td>2987003</td>\n",
       "      <td>50.0</td>\n",
       "      <td>4</td>\n",
       "      <td>8796</td>\n",
       "      <td>468</td>\n",
       "      <td>51</td>\n",
       "      <td>3</td>\n",
       "      <td>18</td>\n",
       "      <td>3</td>\n",
       "      <td>377</td>\n",
       "      <td>...</td>\n",
       "      <td>0</td>\n",
       "      <td>12</td>\n",
       "      <td>5</td>\n",
       "      <td>2</td>\n",
       "      <td>0</td>\n",
       "      <td>0.405029</td>\n",
       "      <td>0.377686</td>\n",
       "      <td>0.686035</td>\n",
       "      <td>2</td>\n",
       "      <td>0</td>\n",
       "    </tr>\n",
       "    <tr>\n",
       "      <th>4</th>\n",
       "      <td>2987004</td>\n",
       "      <td>50.0</td>\n",
       "      <td>1</td>\n",
       "      <td>11687</td>\n",
       "      <td>415</td>\n",
       "      <td>51</td>\n",
       "      <td>3</td>\n",
       "      <td>3</td>\n",
       "      <td>2</td>\n",
       "      <td>321</td>\n",
       "      <td>...</td>\n",
       "      <td>1566</td>\n",
       "      <td>12</td>\n",
       "      <td>5</td>\n",
       "      <td>2</td>\n",
       "      <td>0</td>\n",
       "      <td>0.515625</td>\n",
       "      <td>0.377686</td>\n",
       "      <td>-999.000000</td>\n",
       "      <td>2</td>\n",
       "      <td>0</td>\n",
       "    </tr>\n",
       "  </tbody>\n",
       "</table>\n",
       "<p>5 rows × 117 columns</p>\n",
       "</div>"
      ],
      "text/plain": [
       "   TransactionID  TransactionAmt  ProductCD  card1  card2  card3  card4  \\\n",
       "0        2987000            68.5          4   4248      0     51      2   \n",
       "1        2987001            29.0          4   9979    305     51      3   \n",
       "2        2987002            59.0          4  11850    391     51      4   \n",
       "3        2987003            50.0          4   8796    468     51      3   \n",
       "4        2987004            50.0          1  11687    415     51      3   \n",
       "\n",
       "   card5  card6  addr1  ...  DeviceInfo  Month  Weekday  Day  Hour  \\\n",
       "0     43      2    216  ...           0     12        5    2     0   \n",
       "1      3      2    226  ...           0     12        5    2     0   \n",
       "2     67      3    231  ...           0     12        5    2     0   \n",
       "3     18      3    377  ...           0     12        5    2     0   \n",
       "4      3      2    321  ...        1566     12        5    2     0   \n",
       "\n",
       "   TransactionAmt_to_mean_card1  TransactionAmt_to_mean_card4  \\\n",
       "0                      0.194580                      0.257812   \n",
       "1                      0.123779                      0.218994   \n",
       "2                      0.607910                      0.443115   \n",
       "3                      0.405029                      0.377686   \n",
       "4                      0.515625                      0.377686   \n",
       "\n",
       "   D15_to_mean_addr1  P_emaildomain_2  R_emaildomain_2  \n",
       "0           0.000000                0                0  \n",
       "1           0.000000                2                0  \n",
       "2           1.611328                2                0  \n",
       "3           0.686035                2                0  \n",
       "4        -999.000000                2                0  \n",
       "\n",
       "[5 rows x 117 columns]"
      ]
     },
     "execution_count": 37,
     "metadata": {},
     "output_type": "execute_result"
    }
   ],
   "source": [
    "train_features.head()"
   ]
  },
  {
   "cell_type": "markdown",
   "metadata": {},
   "source": [
    "## Reference\n",
    "- https://www.kaggle.com/smerllo/identify-unique-cards-id"
   ]
  },
  {
   "cell_type": "code",
   "execution_count": 38,
   "metadata": {},
   "outputs": [],
   "source": []
  }
 ],
 "metadata": {
  "kernelspec": {
   "display_name": "Python 3",
   "language": "python",
   "name": "python3"
  },
  "language_info": {
   "codemirror_mode": {
    "name": "ipython",
    "version": 3
   },
   "file_extension": ".py",
   "mimetype": "text/x-python",
   "name": "python",
   "nbconvert_exporter": "python",
   "pygments_lexer": "ipython3",
   "version": "3.7.3"
  },
  "toc": {
   "base_numbering": 1,
   "nav_menu": {},
   "number_sections": true,
   "sideBar": true,
   "skip_h1_title": false,
   "title_cell": "Table of Contents",
   "title_sidebar": "Contents",
   "toc_cell": false,
   "toc_position": {},
   "toc_section_display": true,
   "toc_window_display": false
  },
  "varInspector": {
   "cols": {
    "lenName": 16,
    "lenType": 16,
    "lenVar": 40
   },
   "kernels_config": {
    "python": {
     "delete_cmd_postfix": "",
     "delete_cmd_prefix": "del ",
     "library": "var_list.py",
     "varRefreshCmd": "print(var_dic_list())"
    },
    "r": {
     "delete_cmd_postfix": ") ",
     "delete_cmd_prefix": "rm(",
     "library": "var_list.r",
     "varRefreshCmd": "cat(var_dic_list()) "
    }
   },
   "types_to_exclude": [
    "module",
    "function",
    "builtin_function_or_method",
    "instance",
    "_Feature"
   ],
   "window_display": false
  }
 },
 "nbformat": 4,
 "nbformat_minor": 2
}

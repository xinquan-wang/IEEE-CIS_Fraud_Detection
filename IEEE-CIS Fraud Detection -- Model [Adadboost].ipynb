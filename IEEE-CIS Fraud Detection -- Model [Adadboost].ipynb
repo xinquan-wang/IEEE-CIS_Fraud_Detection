{
 "cells": [
  {
   "cell_type": "markdown",
   "metadata": {},
   "source": [
    "# IEEE-CIS Fraud Detection -- Model [Adaboost]"
   ]
  },
  {
   "cell_type": "code",
   "execution_count": 1,
   "metadata": {},
   "outputs": [],
   "source": [
    "import pandas as pd\n",
    "import numpy as np\n",
    "import gc\n",
    "import warnings\n",
    "warnings.filterwarnings('ignore')"
   ]
  },
  {
   "cell_type": "code",
   "execution_count": 2,
   "metadata": {},
   "outputs": [],
   "source": [
    "import matplotlib.pyplot as plt\n",
    "import seaborn as sns\n",
    "plt.style.use('classic')\n",
    "sns.set_palette('deep')\n",
    "sns.set_style('white')\n",
    "%matplotlib inline"
   ]
  },
  {
   "cell_type": "code",
   "execution_count": 3,
   "metadata": {},
   "outputs": [],
   "source": [
    "train_features = pd.read_csv('./Data/train_features.csv' )\n",
    "test_features = pd.read_csv('./Data/test_features.csv')\n",
    "train_target = pd.read_csv('./Data/train_target.csv', header=None)"
   ]
  },
  {
   "cell_type": "markdown",
   "metadata": {},
   "source": [
    "## Model"
   ]
  },
  {
   "cell_type": "code",
   "execution_count": 8,
   "metadata": {},
   "outputs": [],
   "source": [
    "from sklearn.model_selection import KFold\n",
    "from sklearn.metrics import roc_auc_score, auc\n",
    "from sklearn.ensemble import AdaBoostClassifier\n",
    "from sklearn.externals import joblib"
   ]
  },
  {
   "cell_type": "code",
   "execution_count": 11,
   "metadata": {},
   "outputs": [],
   "source": [
    "# ada params\n",
    "ada_params = {\n",
    "    'n_estimators': 100,\n",
    "    'learning_rate': 0.8,\n",
    "    'random_state': 0\n",
    "    }"
   ]
  },
  {
   "cell_type": "code",
   "execution_count": 18,
   "metadata": {},
   "outputs": [],
   "source": [
    "def model_fn(clf, params):\n",
    "    print(\"############## New Run ################\")\n",
    "    print(\"PARAMETERS: \")\n",
    "    print(f\"params  = {params}\")\n",
    "    \n",
    "    EPOCHS = 5\n",
    "    kf = KFold(n_splits = EPOCHS, shuffle = True)\n",
    "    y_oof = np.zeros(train_features.shape[0])\n",
    "    score_mean = 0\n",
    "    print(\"CV SCORE: \")\n",
    "    for train_idx, validation_idx in kf.split(train_features, train_target):\n",
    "        model = clf(**params)\n",
    "\n",
    "        X_train, X_validation = train_features.iloc[train_idx, :], train_features.iloc[validation_idx, :]\n",
    "        y_train, y_validation = train_target.iloc[train_idx], train_target.iloc[validation_idx]\n",
    "\n",
    "        model.fit(X_train, y_train)\n",
    "\n",
    "        y_pred_train = model.predict_proba(X_validation)[:,1]\n",
    "        score = roc_auc_score(y_validation, y_pred_train)\n",
    "        score_mean += score\n",
    "        print(f'AUC: {score}')\n",
    "    \n",
    "    print(f'Mean AUC: {score_mean / EPOCHS} \\n')\n",
    "    return -(score_mean / EPOCHS)"
   ]
  },
  {
   "cell_type": "code",
   "execution_count": 19,
   "metadata": {},
   "outputs": [
    {
     "name": "stdout",
     "output_type": "stream",
     "text": [
      "############## New Run ################\n",
      "PARAMETERS: \n",
      "params  = {'n_estimators': 100, 'learning_rate': 0.8, 'random_state': 0}\n",
      "CV SCORE: \n",
      "AUC: 0.8773607268760287\n",
      "AUC: 0.8749044535107535\n",
      "AUC: 0.8859727954435082\n",
      "AUC: 0.8773056258410896\n",
      "AUC: 0.8790144924205275\n",
      "Mean AUC: 0.8789116188183815 \n",
      "\n"
     ]
    },
    {
     "data": {
      "text/plain": [
       "-0.8789116188183815"
      ]
     },
     "execution_count": 19,
     "metadata": {},
     "output_type": "execute_result"
    }
   ],
   "source": [
    "model_fn(AdaBoostClassifier, ada_params)"
   ]
  },
  {
   "cell_type": "markdown",
   "metadata": {},
   "source": [
    "### Gridsearch for best params"
   ]
  },
  {
   "cell_type": "code",
   "execution_count": 14,
   "metadata": {},
   "outputs": [],
   "source": [
    "from hyperopt import fmin, hp, tpe, Trials, space_eval, STATUS_OK, STATUS_RUNNING"
   ]
  },
  {
   "cell_type": "code",
   "execution_count": 27,
   "metadata": {},
   "outputs": [],
   "source": [
    "sample_submission = pd.read_csv('./Data/sample_submission.csv')"
   ]
  },
  {
   "cell_type": "code",
   "execution_count": 29,
   "metadata": {},
   "outputs": [],
   "source": [
    "ada_space = {\n",
    "    \"n_estimators\": hp.quniform('n_estimators', 10, 500, 10),\n",
    "    'learning_rate': hp.uniform('learning_rate', 0.03, 0.2),\n",
    "    'random_state': 0}"
   ]
  },
  {
   "cell_type": "code",
   "execution_count": 32,
   "metadata": {},
   "outputs": [],
   "source": [
    "def ada_grid(params):\n",
    "    print(\"############## New Run ################\")\n",
    "    print(\"PARAMETERS: \")\n",
    "    print(f\"params  = {params}\")\n",
    "    params = {\n",
    "        \"n_estimators\": int(params['n_estimators']),\n",
    "        'learning_rate': params['learning_rate'],\n",
    "        'random_state': 0\n",
    "    }\n",
    "    \n",
    "    EPOCHS = 5\n",
    "    kf = KFold(n_splits = EPOCHS, shuffle = True)\n",
    "    y_preds = np.zeros(sample_submission.shape[0])\n",
    "    y_oof = np.zeros(train_features.shape[0])\n",
    "    score_mean = 0\n",
    "    print(\"CV SCORE: \")\n",
    "    for tr_idx, val_idx in kf.split(train_features, train_target):\n",
    "        clf = AdaBoostClassifier(\n",
    "            **params,\n",
    "        )\n",
    "\n",
    "        X_tr, X_vl = train_features.iloc[tr_idx, :], train_features.iloc[val_idx, :]\n",
    "        y_tr, y_vl = train_target.iloc[tr_idx], train_target.iloc[val_idx]\n",
    "        clf.fit(X_tr, y_tr)\n",
    "        y_pred_train = clf.predict_proba(X_vl)[:,1]\n",
    "        y_oof[val_idx] = y_pred_train\n",
    "        score = roc_auc_score(y_vl, y_pred_train)\n",
    "        score_mean += score\n",
    "        print(f'AUC: {score}')\n",
    "        \n",
    "    print(f'Mean AUC: {score_mean / EPOCHS} \\n')\n",
    "    joblib.dump(clf, \"./Model/ada_model_cv.m\")\n",
    "    return -(score_mean / EPOCHS)"
   ]
  },
  {
   "cell_type": "code",
   "execution_count": null,
   "metadata": {
    "scrolled": true
   },
   "outputs": [
    {
     "name": "stdout",
     "output_type": "stream",
     "text": [
      "############## New Run ################             \n",
      "PARAMETERS:                                         \n",
      "params  = {'learning_rate': 0.09454924305674534, 'n_estimators': 120.0, 'random_state': 0}\n",
      "CV SCORE:                                           \n",
      "  0%|          | 0/20 [00:00<?, ?it/s, best loss: ?]"
     ]
    }
   ],
   "source": [
    "ada_best = fmin(fn=ada_grid,\n",
    "            space=ada_space,\n",
    "            algo=tpe.suggest,\n",
    "            max_evals=20)"
   ]
  },
  {
   "cell_type": "markdown",
   "metadata": {},
   "source": [
    "## Reference\n",
    "- https://www.kaggle.com/smerllo/identify-unique-cards-id"
   ]
  }
 ],
 "metadata": {
  "kernelspec": {
   "display_name": "Python 3",
   "language": "python",
   "name": "python3"
  },
  "language_info": {
   "codemirror_mode": {
    "name": "ipython",
    "version": 3
   },
   "file_extension": ".py",
   "mimetype": "text/x-python",
   "name": "python",
   "nbconvert_exporter": "python",
   "pygments_lexer": "ipython3",
   "version": "3.7.3"
  },
  "toc": {
   "base_numbering": 1,
   "nav_menu": {},
   "number_sections": true,
   "sideBar": true,
   "skip_h1_title": false,
   "title_cell": "Table of Contents",
   "title_sidebar": "Contents",
   "toc_cell": false,
   "toc_position": {},
   "toc_section_display": true,
   "toc_window_display": false
  },
  "varInspector": {
   "cols": {
    "lenName": 16,
    "lenType": 16,
    "lenVar": 40
   },
   "kernels_config": {
    "python": {
     "delete_cmd_postfix": "",
     "delete_cmd_prefix": "del ",
     "library": "var_list.py",
     "varRefreshCmd": "print(var_dic_list())"
    },
    "r": {
     "delete_cmd_postfix": ") ",
     "delete_cmd_prefix": "rm(",
     "library": "var_list.r",
     "varRefreshCmd": "cat(var_dic_list()) "
    }
   },
   "types_to_exclude": [
    "module",
    "function",
    "builtin_function_or_method",
    "instance",
    "_Feature"
   ],
   "window_display": false
  }
 },
 "nbformat": 4,
 "nbformat_minor": 2
}

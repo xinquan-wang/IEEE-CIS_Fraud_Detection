{
 "cells": [
  {
   "cell_type": "markdown",
   "metadata": {},
   "source": [
    "# IEEE-CIS Fraud Detection -- Sampling"
   ]
  },
  {
   "cell_type": "code",
   "execution_count": 1,
   "metadata": {},
   "outputs": [],
   "source": [
    "import pandas as pd\n",
    "import numpy as np\n",
    "import gc\n",
    "import warnings\n",
    "warnings.filterwarnings('ignore')"
   ]
  },
  {
   "cell_type": "code",
   "execution_count": 2,
   "metadata": {},
   "outputs": [],
   "source": [
    "def reduce_mem_usage(df):\n",
    "    \"\"\" iterate through all the columns of a dataframe and modify the data type\n",
    "        to reduce memory usage.        \n",
    "    \"\"\"\n",
    "    start_mem = df.memory_usage().sum() / 1024**2\n",
    "    print('Memory usage of dataframe is {:.2f} MB'.format(start_mem))\n",
    "    \n",
    "    for col in df.columns:\n",
    "        col_type = df[col].dtype\n",
    "        \n",
    "        if col_type != object:\n",
    "            c_min = df[col].min()\n",
    "            c_max = df[col].max()\n",
    "            if str(col_type)[:3] == 'int':\n",
    "                if c_min > np.iinfo(np.int8).min and c_max < np.iinfo(np.int8).max:\n",
    "                    df[col] = df[col].astype(np.int8)\n",
    "                elif c_min > np.iinfo(np.int16).min and c_max < np.iinfo(np.int16).max:\n",
    "                    df[col] = df[col].astype(np.int16)\n",
    "                elif c_min > np.iinfo(np.int32).min and c_max < np.iinfo(np.int32).max:\n",
    "                    df[col] = df[col].astype(np.int32)\n",
    "                elif c_min > np.iinfo(np.int64).min and c_max < np.iinfo(np.int64).max:\n",
    "                    df[col] = df[col].astype(np.int64)  \n",
    "            else:\n",
    "                if c_min > np.finfo(np.float16).min and c_max < np.finfo(np.float16).max:\n",
    "                    df[col] = df[col].astype(np.float16)\n",
    "                elif c_min > np.finfo(np.float32).min and c_max < np.finfo(np.float32).max:\n",
    "                    df[col] = df[col].astype(np.float32)\n",
    "                else:\n",
    "                    df[col] = df[col].astype(np.float64)\n",
    "        else:\n",
    "            df[col] = df[col].astype('category')\n",
    "\n",
    "    end_mem = df.memory_usage().sum() / 1024**2\n",
    "    print('Memory usage after optimization is: {:.2f} MB'.format(end_mem))\n",
    "    print('Decreased by {:.1f}%'.format(100 * (start_mem - end_mem) / start_mem))\n",
    "    \n",
    "    return df"
   ]
  },
  {
   "cell_type": "code",
   "execution_count": 3,
   "metadata": {},
   "outputs": [
    {
     "name": "stdout",
     "output_type": "stream",
     "text": [
      "CPU times: user 31.6 s, sys: 4.14 s, total: 35.8 s\n",
      "Wall time: 39 s\n"
     ]
    }
   ],
   "source": [
    "%%time\n",
    "train_features = pd.read_csv('./Data/train_features.csv' )\n",
    "test_features = pd.read_csv('./Data/test_features.csv')\n",
    "train_target = pd.read_csv('./Data/train_target.csv', header=None)"
   ]
  },
  {
   "cell_type": "code",
   "execution_count": 7,
   "metadata": {},
   "outputs": [
    {
     "data": {
      "text/plain": [
       "(590540, 151)"
      ]
     },
     "execution_count": 7,
     "metadata": {},
     "output_type": "execute_result"
    }
   ],
   "source": [
    "train_features.shape"
   ]
  },
  {
   "cell_type": "code",
   "execution_count": 8,
   "metadata": {},
   "outputs": [
    {
     "data": {
      "text/plain": [
       "(590540, 1)"
      ]
     },
     "execution_count": 8,
     "metadata": {},
     "output_type": "execute_result"
    }
   ],
   "source": [
    "train_target.shape"
   ]
  },
  {
   "cell_type": "code",
   "execution_count": 49,
   "metadata": {},
   "outputs": [
    {
     "data": {
      "text/plain": [
       "569877"
      ]
     },
     "execution_count": 49,
     "metadata": {},
     "output_type": "execute_result"
    }
   ],
   "source": [
    "sum(train_target.values == 0)[0]"
   ]
  },
  {
   "cell_type": "markdown",
   "metadata": {},
   "source": [
    "## Oversampling using KmeansSMOTE"
   ]
  },
  {
   "cell_type": "code",
   "execution_count": 55,
   "metadata": {},
   "outputs": [],
   "source": [
    "from imblearn.over_sampling import KMeansSMOTE\n",
    "from sklearn.model_selection import StratifiedKFold\n",
    "from sklearn.metrics import roc_auc_score\n",
    "import lightgbm as lgb"
   ]
  },
  {
   "cell_type": "code",
   "execution_count": 52,
   "metadata": {},
   "outputs": [
    {
     "name": "stdout",
     "output_type": "stream",
     "text": [
      "Before OverSampling, counts of label '1': 20663\n",
      "Before OverSampling, counts of label '0': 569877 \n",
      "\n",
      "After OverSampling, the shape of X_train: (655362, 151)\n",
      "After OverSampling, the shape of y_train: (655362, 1) \n",
      "\n"
     ]
    }
   ],
   "source": [
    "print(\"Before OverSampling, counts of label '1': {}\".format(sum(train_target.values == 1)[0]))\n",
    "print(\"Before OverSampling, counts of label '0': {} \\n\".format(sum(train_target.values == 0)[0]))\n",
    "\n",
    "sm = KMeansSMOTE(random_state=0, \n",
    "                 sampling_strategy=0.15,  \n",
    "                 k_neighbors=10,\n",
    "                 cluster_balance_threshold=0.02, \n",
    "                 n_jobs=4)\n",
    "X_train, y_train = sm.fit_sample(train_features, train_target)\n",
    "\n",
    "X_train = pd.DataFrame(X_train)\n",
    "X_train.columns = train_features.columns\n",
    "y_train = pd.DataFrame(y_train)\n",
    "\n",
    "print('After OverSampling, the shape of X_train: {}'.format(X_train.shape))\n",
    "print('After OverSampling, the shape of y_train: {} \\n'.format(y_train.shape))"
   ]
  },
  {
   "cell_type": "code",
   "execution_count": 54,
   "metadata": {},
   "outputs": [],
   "source": [
    "sample_submission = pd.read_csv('./Data/sample_submission.csv')"
   ]
  },
  {
   "cell_type": "code",
   "execution_count": 59,
   "metadata": {},
   "outputs": [],
   "source": [
    "params = {\n",
    "    'bagging_fraction': 0.6, \n",
    "    'bagging_seed': 11, \n",
    "    'boosting_type': 'gbdt', \n",
    "    'colsample_bytree': 0.4077306238013061, \n",
    "    'feature_fraction': 0.9, \n",
    "    'gamma': 0.3094147774766888, \n",
    "    'learning_rate': 0.11890674333969257, \n",
    "    'max_depth': 18, \n",
    "    'metric': 'auc', \n",
    "    'min_child_samples': 97, \n",
    "    'num_leaves': 280, \n",
    "    'objective': 'binary', \n",
    "    'random_state': 0, \n",
    "    'reg_alpha': 0.5478265344202043, \n",
    "    'reg_lambda': 0.5895122262747918\n",
    "}"
   ]
  },
  {
   "cell_type": "code",
   "execution_count": 60,
   "metadata": {},
   "outputs": [
    {
     "name": "stdout",
     "output_type": "stream",
     "text": [
      "AUC: 0.9907136060253378\n",
      "AUC: 0.9914512627195954\n",
      "AUC: 0.9900456334572294\n",
      "AUC: 0.9904544472212236\n",
      "AUC: 0.9906513993808189\n",
      "Mean AUC: 0.9906632697608411 \n",
      "\n",
      "CPU times: user 19min 34s, sys: 1min 47s, total: 21min 22s\n",
      "Wall time: 8min 27s\n"
     ]
    },
    {
     "data": {
      "text/plain": [
       "0"
      ]
     },
     "execution_count": 60,
     "metadata": {},
     "output_type": "execute_result"
    }
   ],
   "source": [
    "%%time\n",
    "score_mean = 0\n",
    "EPOCHS = 5\n",
    "\n",
    "y_preds = np.zeros(sample_submission.shape[0])\n",
    "\n",
    "kf = StratifiedKFold(n_splits=EPOCHS, random_state=0, shuffle=True)\n",
    "y_oof = np.zeros(X_train.shape[0])\n",
    "gc.collect()\n",
    "\n",
    "for tr_idx, val_idx in kf.split(X_train, y_train):\n",
    "    clf = lgb.LGBMClassifier(**params)\n",
    "    \n",
    "    X_tr, X_vl = X_train.iloc[tr_idx, :], X_train.iloc[val_idx, :]\n",
    "    y_tr, y_vl = y_train.iloc[tr_idx], y_train.iloc[val_idx]\n",
    "    clf.fit(X_tr, y_tr)\n",
    "    y_pred_train = clf.predict_proba(X_vl)[:,1]\n",
    "    y_oof[val_idx] = y_pred_train\n",
    "    score = roc_auc_score(y_vl, y_pred_train)\n",
    "    score_mean += score\n",
    "    print(f'AUC: {score}')\n",
    "    y_preds += clf.predict_proba(test_features)[:,1] / EPOCHS\n",
    "    del clf\n",
    "    gc.collect()\n",
    "print(f'Mean AUC: {score_mean / EPOCHS} \\n')\n",
    "gc.collect()"
   ]
  },
  {
   "cell_type": "code",
   "execution_count": 236,
   "metadata": {},
   "outputs": [],
   "source": [
    "sample_submission1a = sample_submission.copy()\n",
    "sample_submission1a['isFraud'] = y_preds\n",
    "sample_submission1a.to_csv('./Output/lgb_oversample.csv', index=False)"
   ]
  },
  {
   "cell_type": "markdown",
   "metadata": {},
   "source": [
    "## Undersampling"
   ]
  },
  {
   "cell_type": "code",
   "execution_count": 209,
   "metadata": {},
   "outputs": [],
   "source": [
    "train_target.columns = ['isFraud']"
   ]
  },
  {
   "cell_type": "code",
   "execution_count": 210,
   "metadata": {},
   "outputs": [],
   "source": [
    "train = pd.concat([train_target, train_features], axis=1)"
   ]
  },
  {
   "cell_type": "code",
   "execution_count": 234,
   "metadata": {},
   "outputs": [
    {
     "name": "stdout",
     "output_type": "stream",
     "text": [
      "[0.1    0.1025 0.105  0.1075 0.11   0.1125 0.115  0.1175 0.12   0.1225\n",
      " 0.125  0.1275 0.13   0.1325 0.135  0.1375 0.14   0.1425 0.145  0.1475\n",
      " 0.15   0.1525 0.155  0.1575]\n",
      "Start training: [fraction: 0.1]\n",
      "ROC AUC 0.9526943355246104\n",
      "ROC AUC 0.954508547431833\n",
      "ROC AUC 0.9549319169855457\n",
      "ROC AUC 0.9522231170965088\n",
      "ROC AUC oof 0.9535918586768876\n",
      "Start training: [fraction: 0.10250000000000001]\n",
      "ROC AUC 0.9549133394993667\n",
      "ROC AUC 0.9535543359757561\n",
      "ROC AUC 0.9558618529611794\n",
      "ROC AUC 0.9538485077029685\n",
      "ROC AUC oof 0.9545289026903727\n",
      "Start training: [fraction: 0.10500000000000001]\n",
      "ROC AUC 0.9519505492514818\n",
      "ROC AUC 0.9563891982258281\n",
      "ROC AUC 0.9536050363702857\n",
      "ROC AUC 0.9556324686637829\n",
      "ROC AUC oof 0.9543769219742348\n",
      "Start training: [fraction: 0.10750000000000001]\n",
      "ROC AUC 0.953870188256037\n",
      "ROC AUC 0.95301231549233\n",
      "ROC AUC 0.952770323654918\n",
      "ROC AUC 0.9568381446860208\n",
      "ROC AUC oof 0.9541003640265109\n",
      "Start training: [fraction: 0.11]\n",
      "ROC AUC 0.950360956519213\n",
      "ROC AUC 0.955104232685658\n",
      "ROC AUC 0.9511300689731876\n",
      "ROC AUC 0.9548021042314736\n",
      "ROC AUC oof 0.9528452686466017\n",
      "Start training: [fraction: 0.1125]\n",
      "ROC AUC 0.9560445831293494\n",
      "ROC AUC 0.9528512747871248\n",
      "ROC AUC 0.9542748747570188\n",
      "ROC AUC 0.9548298306626929\n",
      "ROC AUC oof 0.9545229855010433\n",
      "Start training: [fraction: 0.115]\n",
      "ROC AUC 0.9533717989506207\n",
      "ROC AUC 0.9558759180557067\n",
      "ROC AUC 0.9571212668129053\n",
      "ROC AUC 0.9533849400449239\n",
      "ROC AUC oof 0.9549310135251756\n",
      "Start training: [fraction: 0.11750000000000001]\n",
      "ROC AUC 0.9574618109156507\n",
      "ROC AUC 0.9549579758470396\n",
      "ROC AUC 0.9540263259775456\n",
      "ROC AUC 0.9536691452092882\n",
      "ROC AUC oof 0.9549937731492434\n",
      "Start training: [fraction: 0.12000000000000001]\n",
      "ROC AUC 0.9541482929347296\n",
      "ROC AUC 0.9572029740368933\n",
      "ROC AUC 0.9556925107488925\n",
      "ROC AUC 0.9545513610063053\n",
      "ROC AUC oof 0.9553702844582334\n",
      "Start training: [fraction: 0.1225]\n",
      "ROC AUC 0.9512477391023675\n",
      "ROC AUC 0.9580266998371092\n",
      "ROC AUC 0.954299005761414\n",
      "ROC AUC 0.9559469103361697\n",
      "ROC AUC oof 0.954888842686182\n",
      "Start training: [fraction: 0.125]\n",
      "ROC AUC 0.954978220197642\n",
      "ROC AUC 0.9533761340356799\n",
      "ROC AUC 0.9560663896749106\n",
      "ROC AUC 0.9560789542579163\n",
      "ROC AUC oof 0.9551029215709927\n",
      "Start training: [fraction: 0.1275]\n",
      "ROC AUC 0.9585589744458649\n",
      "ROC AUC 0.9538005543242094\n",
      "ROC AUC 0.9529788399217012\n",
      "ROC AUC 0.956116371585296\n",
      "ROC AUC oof 0.9553517316008918\n",
      "Start training: [fraction: 0.13]\n",
      "ROC AUC 0.9508448655336631\n",
      "ROC AUC 0.9551437807682202\n",
      "ROC AUC 0.9561714305195996\n",
      "ROC AUC 0.9569061215303443\n",
      "ROC AUC oof 0.954762308983152\n",
      "Start training: [fraction: 0.1325]\n",
      "ROC AUC 0.9553429283706365\n",
      "ROC AUC 0.9551303976097602\n",
      "ROC AUC 0.9568091956054077\n",
      "ROC AUC 0.9549183866761443\n",
      "ROC AUC oof 0.9555158256053288\n",
      "Start training: [fraction: 0.135]\n",
      "ROC AUC 0.9575464848812099\n",
      "ROC AUC 0.9564586845517868\n",
      "ROC AUC 0.9555740121060398\n",
      "ROC AUC 0.9544141545602006\n",
      "ROC AUC oof 0.9559940147675456\n",
      "Start training: [fraction: 0.1375]\n",
      "ROC AUC 0.9576648431838362\n",
      "ROC AUC 0.9570453787743596\n",
      "ROC AUC 0.951144855665063\n",
      "ROC AUC 0.9589406939914368\n",
      "ROC AUC oof 0.9562053907998225\n",
      "Start training: [fraction: 0.14]\n",
      "ROC AUC 0.9580821275904097\n",
      "ROC AUC 0.9571973926970223\n",
      "ROC AUC 0.9548401279661047\n",
      "ROC AUC 0.9560894007407107\n",
      "ROC AUC oof 0.9565552942116416\n",
      "Start training: [fraction: 0.14250000000000002]\n",
      "ROC AUC 0.955245231766108\n",
      "ROC AUC 0.9559062244505947\n",
      "ROC AUC 0.9554032788593363\n",
      "ROC AUC 0.9560644631309442\n",
      "ROC AUC oof 0.9556517662236286\n",
      "Start training: [fraction: 0.14500000000000002]\n",
      "ROC AUC 0.9549707293609733\n",
      "ROC AUC 0.9559309968021882\n",
      "ROC AUC 0.9545378457947615\n",
      "ROC AUC 0.9572749475461573\n",
      "ROC AUC oof 0.9556241748305274\n",
      "Start training: [fraction: 0.14750000000000002]\n",
      "ROC AUC 0.9567990122646204\n",
      "ROC AUC 0.9553241536779805\n",
      "ROC AUC 0.9557212766107184\n",
      "ROC AUC 0.9592846275626327\n",
      "ROC AUC oof 0.9567579455931707\n",
      "Start training: [fraction: 0.15000000000000002]\n",
      "ROC AUC 0.959758143708699\n",
      "ROC AUC 0.9547345838438965\n",
      "ROC AUC 0.9561056408745785\n",
      "ROC AUC 0.9558384269051122\n",
      "ROC AUC oof 0.9565529127839396\n",
      "Start training: [fraction: 0.1525]\n",
      "ROC AUC 0.9540022395601663\n",
      "ROC AUC 0.9553178025254467\n",
      "ROC AUC 0.955389438496113\n",
      "ROC AUC 0.9572001070447131\n",
      "ROC AUC oof 0.9554735279806675\n",
      "Start training: [fraction: 0.155]\n",
      "ROC AUC 0.9570829364435085\n",
      "ROC AUC 0.9579793626582735\n",
      "ROC AUC 0.9548124224748886\n",
      "ROC AUC 0.9551002498563614\n",
      "ROC AUC oof 0.956226508700438\n",
      "Start training: [fraction: 0.1575]\n",
      "ROC AUC 0.9569015059488418\n",
      "ROC AUC 0.9550683776623152\n",
      "ROC AUC 0.9576426730760593\n",
      "ROC AUC 0.9568902020998136\n",
      "ROC AUC oof 0.9566271731522464\n",
      "CPU times: user 1h 40min 1s, sys: 10min 33s, total: 1h 50min 35s\n",
      "Wall time: 9h 9min 50s\n"
     ]
    }
   ],
   "source": [
    "%%time\n",
    "EPOCHS = 4\n",
    "TIMES = 24\n",
    "frac_inc = np.arange(0,TIMES,1)/400 + 0.1\n",
    "print(frac_inc)\n",
    "\n",
    "y_preds = np.zeros(sample_submission.shape[0])\n",
    "\n",
    "for i in range (TIMES):\n",
    "    kf = StratifiedKFold(n_splits=EPOCHS, random_state=i, shuffle=True)\n",
    "    \n",
    "    X_train = train[train['isFraud'] == 0].sample(frac = frac_inc[i]).append(train[train['isFraud'] == 1])\n",
    "    y_train = train_target.iloc[X_train.index]['isFraud']\n",
    "    X_train = X_train.drop('isFraud', axis=1)\n",
    "    \n",
    "    y_oof = np.zeros(X_train.shape[0])\n",
    "    gc.collect()\n",
    "    print(f\"Start training: [fraction: {frac_inc[i]}]\")\n",
    "    for tr_idx, val_idx in kf.split(X_train, y_train):\n",
    "        clf = lgb.LGBMClassifier(**params)\n",
    "    \n",
    "        X_tr, X_vl = X_train.iloc[tr_idx, :], X_train.iloc[val_idx, :]\n",
    "        y_tr, y_vl = y_train.iloc[tr_idx], y_train.iloc[val_idx]\n",
    "        clf.fit(X_tr, y_tr)\n",
    "        y_pred_train = clf.predict_proba(X_vl)[:,1]\n",
    "        #y_oof[val_idx] = y_pred_train\n",
    "        print('ROC AUC {}'.format(roc_auc_score(y_vl, y_pred_train)))\n",
    "        y_oof[val_idx] = y_pred_train    \n",
    "        y_preds += clf.predict_proba(test_features)[:,1] / EPOCHS   \n",
    "    print('ROC AUC oof {}'.format(roc_auc_score(y_train, y_oof))) "
   ]
  },
  {
   "cell_type": "code",
   "execution_count": 237,
   "metadata": {},
   "outputs": [],
   "source": [
    "sample_submission1 = sample_submission.copy()\n",
    "sample_submission1['isFraud'] = y_preds/TIMES\n",
    "sample_submission1.to_csv('./Output/lgb_undersample.csv', index=False)"
   ]
  },
  {
   "cell_type": "markdown",
   "metadata": {},
   "source": [
    "## Reference\n",
    "- https://www.kaggle.com/smerllo/identify-unique-cards-id"
   ]
  }
 ],
 "metadata": {
  "kernelspec": {
   "display_name": "Python 3",
   "language": "python",
   "name": "python3"
  },
  "language_info": {
   "codemirror_mode": {
    "name": "ipython",
    "version": 3
   },
   "file_extension": ".py",
   "mimetype": "text/x-python",
   "name": "python",
   "nbconvert_exporter": "python",
   "pygments_lexer": "ipython3",
   "version": "3.7.3"
  },
  "toc": {
   "base_numbering": 1,
   "nav_menu": {},
   "number_sections": true,
   "sideBar": true,
   "skip_h1_title": false,
   "title_cell": "Table of Contents",
   "title_sidebar": "Contents",
   "toc_cell": false,
   "toc_position": {},
   "toc_section_display": true,
   "toc_window_display": false
  },
  "varInspector": {
   "cols": {
    "lenName": 16,
    "lenType": 16,
    "lenVar": 40
   },
   "kernels_config": {
    "python": {
     "delete_cmd_postfix": "",
     "delete_cmd_prefix": "del ",
     "library": "var_list.py",
     "varRefreshCmd": "print(var_dic_list())"
    },
    "r": {
     "delete_cmd_postfix": ") ",
     "delete_cmd_prefix": "rm(",
     "library": "var_list.r",
     "varRefreshCmd": "cat(var_dic_list()) "
    }
   },
   "types_to_exclude": [
    "module",
    "function",
    "builtin_function_or_method",
    "instance",
    "_Feature"
   ],
   "window_display": false
  }
 },
 "nbformat": 4,
 "nbformat_minor": 2
}

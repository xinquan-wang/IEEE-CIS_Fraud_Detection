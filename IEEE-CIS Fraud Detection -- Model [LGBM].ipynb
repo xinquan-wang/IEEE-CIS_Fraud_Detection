{
 "cells": [
  {
   "cell_type": "markdown",
   "metadata": {},
   "source": [
    "# IEEE-CIS Fraud Detection -- Model [LGBM]"
   ]
  },
  {
   "cell_type": "code",
   "execution_count": 1,
   "metadata": {},
   "outputs": [],
   "source": [
    "import pandas as pd\n",
    "import numpy as np\n",
    "import gc\n",
    "import warnings\n",
    "warnings.filterwarnings('ignore')"
   ]
  },
  {
   "cell_type": "code",
   "execution_count": 2,
   "metadata": {},
   "outputs": [],
   "source": [
    "import matplotlib.pyplot as plt\n",
    "import seaborn as sns\n",
    "plt.style.use('classic')\n",
    "sns.set_palette('deep')\n",
    "sns.set_style('white')\n",
    "%matplotlib inline"
   ]
  },
  {
   "cell_type": "code",
   "execution_count": 31,
   "metadata": {},
   "outputs": [],
   "source": [
    "%%time\n",
    "train_features = pd.read_csv('./Data/train_features.csv' )\n",
    "test_features = pd.read_csv('./Data/test_features.csv')\n",
    "train_target = pd.read_csv('./Data/train_target.csv', header=None)"
   ]
  },
  {
   "cell_type": "markdown",
   "metadata": {},
   "source": [
    "## TimeSeriesSplit"
   ]
  },
  {
   "cell_type": "markdown",
   "metadata": {},
   "source": [
    "- Since the train and test data were collected in time series manner and there's existing a gap, split the train and validation data based using TimeSeriesSplit. "
   ]
  },
  {
   "cell_type": "code",
   "execution_count": 4,
   "metadata": {},
   "outputs": [
    {
     "name": "stderr",
     "output_type": "stream",
     "text": [
      "/Users/wangxinquan/anaconda3/lib/python3.7/site-packages/sklearn/externals/joblib/__init__.py:15: DeprecationWarning: sklearn.externals.joblib is deprecated in 0.21 and will be removed in 0.23. Please import this functionality directly from joblib, which can be installed with: pip install joblib. If this warning is raised when loading pickled models, you may need to re-serialize those models with scikit-learn 0.21+.\n",
      "  warnings.warn(msg, category=DeprecationWarning)\n"
     ]
    }
   ],
   "source": [
    "from sklearn.model_selection import TimeSeriesSplit\n",
    "from sklearn.model_selection import KFold\n",
    "from sklearn.metrics import roc_auc_score, auc\n",
    "import lightgbm as lgb\n",
    "from sklearn.externals import joblib"
   ]
  },
  {
   "cell_type": "code",
   "execution_count": 48,
   "metadata": {},
   "outputs": [],
   "source": [
    "# lgb params\n",
    "lgb_params = {\n",
    "    \"n_estimators\": 100,\n",
    "    \"boosting_type\": 'gbdt',\n",
    "    'num_leaves': 256,\n",
    "    'min_child_samples': 79,\n",
    "    'objective': 'binary',\n",
    "    'max_depth': 21,\n",
    "    'learning_rate': 0.05,\n",
    "    \"subsample_freq\": 3,\n",
    "    \"subsample\": 0.8,\n",
    "    \"bagging_seed\": 11,\n",
    "    \"metric\": 'auc',\n",
    "    \"verbosity\": 2,\n",
    "    'reg_alpha': 0.3,\n",
    "    'reg_lambda': 0.3,\n",
    "    'colsample_bytree': 0.8,\n",
    "    #'categorical_feature': cols_cat,\n",
    "    'random_state': 0\n",
    " }"
   ]
  },
  {
   "cell_type": "code",
   "execution_count": 6,
   "metadata": {},
   "outputs": [],
   "source": [
    "def model_fn(clf, params):\n",
    "    print(\"############## New Run ################\")\n",
    "    print(\"PARAMETERS: \")\n",
    "    print(f\"params  = {params}\")\n",
    "    \n",
    "    n_splits = 5\n",
    "    tscv = TimeSeriesSplit(n_splits=n_splits)\n",
    "    score_mean = 0\n",
    "    print(\"CV SCORE: \")\n",
    "    for train_idx, validation_idx in tscv.split(train_features, train_target):\n",
    "        model = clf(**params)\n",
    "\n",
    "        X_train, X_validation = train_features.iloc[train_idx, :], train_features.iloc[validation_idx, :]\n",
    "        y_train, y_validation = train_target.iloc[train_idx], train_target.iloc[validation_idx]\n",
    "\n",
    "        model.fit(X_train, y_train)\n",
    "\n",
    "        y_pred_train = model.predict_proba(X_validation)[:,1]\n",
    "        score = roc_auc_score(y_validation, y_pred_train)\n",
    "        score_mean += score\n",
    "        print(f'AUC: {score}')\n",
    "    del X_train, X_validation, y_train, y_validation, clf, y_pred_train    \n",
    "    gc.collect()\n",
    "    joblib.dump(model, \"./Model/LGB_model.m\")\n",
    "    print(f'Mean AUC: {score_mean / 5} \\n')\n",
    "    return -(score_mean / 5)"
   ]
  },
  {
   "cell_type": "code",
   "execution_count": 8,
   "metadata": {},
   "outputs": [
    {
     "name": "stdout",
     "output_type": "stream",
     "text": [
      "############## New Run ################\n",
      "PARAMETERS: \n",
      "params  = {'boosting_type': 'gbdt', 'num_leaves': 256, 'min_child_samples': 79, 'objective': 'binary', 'max_depth': 21, 'learning_rate': 0.05, 'subsample_freq': 3, 'subsample': 0.8, 'bagging_seed': 11, 'metric': 'auc', 'verbosity': 2, 'reg_alpha': 0.3, 'reg_lambda': 0.3, 'colsample_bytree': 0.8, 'random_state': 0}\n",
      "CV SCORE: \n",
      "AUC: 0.8931959839644754\n",
      "AUC: 0.9151498889479852\n",
      "AUC: 0.9056716577866415\n",
      "AUC: 0.9225438289790708\n",
      "AUC: 0.9219762382123193\n",
      "Mean AUC: 0.9117075195780984 \n",
      "\n"
     ]
    },
    {
     "data": {
      "text/plain": [
       "-0.9117075195780984"
      ]
     },
     "execution_count": 8,
     "metadata": {},
     "output_type": "execute_result"
    }
   ],
   "source": [
    "model_fn(lgb.LGBMClassifier, lgb_params)"
   ]
  },
  {
   "cell_type": "code",
   "execution_count": 9,
   "metadata": {},
   "outputs": [],
   "source": [
    "import matplotlib.pyplot as plt"
   ]
  },
  {
   "cell_type": "code",
   "execution_count": 10,
   "metadata": {},
   "outputs": [],
   "source": [
    "clf = joblib.load(\"./Model/LGB_model.m\")"
   ]
  },
  {
   "cell_type": "code",
   "execution_count": 11,
   "metadata": {},
   "outputs": [],
   "source": [
    "feature_importance = pd.concat([pd.DataFrame(train_features.columns.values), \n",
    "                               pd.DataFrame(clf.feature_importances_)], axis=1)"
   ]
  },
  {
   "cell_type": "code",
   "execution_count": 12,
   "metadata": {},
   "outputs": [],
   "source": [
    "feature_importance.columns = 'Feature_name', 'score'"
   ]
  },
  {
   "cell_type": "code",
   "execution_count": 13,
   "metadata": {},
   "outputs": [
    {
     "data": {
      "text/plain": [
       "Text(0.5, 1.0, 'Feature Importance')"
      ]
     },
     "execution_count": 13,
     "metadata": {},
     "output_type": "execute_result"
    },
    {
     "data": {
      "image/png": "[encoded data removed]",
      "text/plain": [
       "<Figure size 864x432 with 1 Axes>"
      ]
     },
     "metadata": {
      "needs_background": "light"
     },
     "output_type": "display_data"
    }
   ],
   "source": [
    "lgb.plot_importance(clf, max_num_features=30, figsize=(12,6)).set_title(\"Feature Importance\")"
   ]
  },
  {
   "cell_type": "markdown",
   "metadata": {},
   "source": [
    "### Gridsearch for best params"
   ]
  },
  {
   "cell_type": "code",
   "execution_count": 32,
   "metadata": {},
   "outputs": [],
   "source": [
    "from hyperopt import fmin, hp, tpe, Trials, space_eval, STATUS_OK, STATUS_RUNNING"
   ]
  },
  {
   "cell_type": "code",
   "execution_count": 52,
   "metadata": {},
   "outputs": [],
   "source": [
    "lgb_space = {\n",
    "    'boosting_type': 'gbdt',\n",
    "    'objective': 'binary',\n",
    "    'max_depth': hp.quniform('max_depth', 7, 25, 1),\n",
    "    'learning_rate': hp.uniform('learning_rate', 0.03, 0.2),\n",
    "    'reg_alpha':  hp.uniform('reg_alpha', 0.01, 0.9),\n",
    "    'reg_lambda': hp.uniform('reg_lambda', 0.1, 1.0),\n",
    "    'colsample_bytree': hp.uniform('colsample_bytree', 0.3, 1.0),\n",
    "    'gamma': hp.uniform('gamma', 0.0, 0.8),\n",
    "    'num_leaves': hp.choice('num_leaves', list(range(20, 300, 20))),       \n",
    "    'min_child_samples': hp.choice('min_child_samples', list(range(10, 100, 3))),\n",
    "    'feature_fraction': hp.choice('feature_fraction', [.5, .6, .7, .8, .9]),\n",
    "    'bagging_fraction': hp.choice('bagging_fraction', [.5, .6, .7, .8, .9]),\n",
    "    'metric': 'auc',\n",
    "    'verbosity': 2, \n",
    "    'bagging_seed': 11,\n",
    "    'random_state': 0\n",
    "}"
   ]
  },
  {
   "cell_type": "code",
   "execution_count": 35,
   "metadata": {},
   "outputs": [],
   "source": [
    "def lgb_grid(params):\n",
    "    print(\"############## New Run ################\")\n",
    "    print(\"PARAMETERS: \")\n",
    "    print(f\"params  = {params}\")\n",
    "    params = {\n",
    "        'max_depth': int(params['max_depth']),\n",
    "        'gamma': \"{:.3f}\".format(params['gamma']),\n",
    "        'reg_alpha': \"{:.3f}\".format(params['reg_alpha']),\n",
    "        'learning_rate': \"{:.3f}\".format(params['learning_rate']),\n",
    "        'gamma': \"{:.3f}\".format(params['gamma']),\n",
    "        'num_leaves': int(format(params['num_leaves'])),\n",
    "        'min_child_samples': int(format(params['min_child_samples'])),\n",
    "        'feature_fraction': '{:.3f}'.format(params['feature_fraction']),\n",
    "        'bagging_fraction': '{:.3f}'.format(params['bagging_fraction'])\n",
    "    }\n",
    "    \n",
    "    n_splits = 5\n",
    "    tscv = TimeSeriesSplit(n_splits=n_splits)\n",
    "    score_mean = 0\n",
    "    print(\"CV SCORE: \")\n",
    "    for train_idx, validation_idx in tscv.split(train_features, train_target):\n",
    "        model = lgb.LGBMClassifier(**params)\n",
    "\n",
    "        X_train, X_validation = train_features.iloc[train_idx, :], train_features.iloc[validation_idx, :]\n",
    "        y_train, y_validation = train_target.iloc[train_idx], train_target.iloc[validation_idx]\n",
    "\n",
    "        model.fit(X_train, y_train)\n",
    "\n",
    "        y_pred_train = model.predict_proba(X_validation)[:,1]\n",
    "        score = roc_auc_score(y_validation, y_pred_train)\n",
    "        score_mean += score\n",
    "        print(f'AUC: {score}')\n",
    "    del X_train, X_validation, y_train, y_validation, y_pred_train    \n",
    "    gc.collect()\n",
    "    print(f'Mean AUC: {score_mean / 5} \\n')\n",
    "    return -(score_mean / 5)"
   ]
  },
  {
   "cell_type": "code",
   "execution_count": 36,
   "metadata": {
    "scrolled": true
   },
   "outputs": [
    {
     "name": "stdout",
     "output_type": "stream",
     "text": [
      "############## New Run ################             \n",
      "PARAMETERS:                                         \n",
      "params  = {'bagging_fraction': 0.7, 'bagging_seed': 11, 'boosting_type': 'gbdt', 'colsample_bytree': 0.4095371408668488, 'feature_fraction': 0.6, 'gamma': 0.14760935451940488, 'learning_rate': 0.1825332024947744, 'max_depth': 20.0, 'metric': 'auc', 'min_child_samples': 10, 'num_leaves': 180, 'objective': 'binary', 'random_state': 0, 'reg_alpha': 0.1349525998032486, 'reg_lambda': 0.4913278724506912, 'verbosity': 2}\n",
      "CV SCORE:                                           \n",
      "AUC: 0.8810799266855451                             \n",
      "AUC: 0.8955983128857706                             \n",
      "AUC: 0.8752680687112944                             \n",
      "AUC: 0.8945181110837896                             \n",
      "AUC: 0.8968174992945084                             \n",
      "Mean AUC: 0.8886563837321816                        \n",
      "\n",
      "############## New Run ################                                        \n",
      "PARAMETERS:                                                                    \n",
      "params  = {'bagging_fraction': 0.7, 'bagging_seed': 11, 'boosting_type': 'gbdt', 'colsample_bytree': 0.9057998209616123, 'feature_fraction': 0.7, 'gamma': 0.46690315508862, 'learning_rate': 0.04435486105047661, 'max_depth': 24.0, 'metric': 'auc', 'min_child_samples': 19, 'num_leaves': 100, 'objective': 'binary', 'random_state': 0, 'reg_alpha': 0.20218046691423663, 'reg_lambda': 0.40272844329416324, 'verbosity': 2}\n",
      "CV SCORE:                                                                      \n",
      "AUC: 0.8916416359834392                                                        \n",
      "AUC: 0.9142953481935243                                                        \n",
      "AUC: 0.8996919641445501                                                        \n",
      "AUC: 0.9126688110731729                                                        \n",
      "AUC: 0.9113164377533883                                                        \n",
      "Mean AUC: 0.905922839429615                                                    \n",
      "\n",
      "############## New Run ################                                        \n",
      "PARAMETERS:                                                                   \n",
      "params  = {'bagging_fraction': 0.9, 'bagging_seed': 11, 'boosting_type': 'gbdt', 'colsample_bytree': 0.5292216615577344, 'feature_fraction': 0.6, 'gamma': 0.5249623579433722, 'learning_rate': 0.1516973829049843, 'max_depth': 14.0, 'metric': 'auc', 'min_child_samples': 97, 'num_leaves': 200, 'objective': 'binary', 'random_state': 0, 'reg_alpha': 0.6106811681474144, 'reg_lambda': 0.1911299026388975, 'verbosity': 2}\n",
      "CV SCORE:                                                                     \n",
      "AUC: 0.8770108799589934                                                       \n",
      "AUC: 0.8994763107097774                                                       \n",
      "AUC: 0.8967457104639075                                                       \n",
      "AUC: 0.9185664873834605                                                       \n",
      "AUC: 0.9205206227710382                                                       \n",
      "Mean AUC: 0.9024640022574355                                                  \n",
      "\n",
      "############## New Run ################                                       \n",
      "PARAMETERS:                                                                   \n",
      "params  = {'bagging_fraction': 0.9, 'bagging_seed': 11, 'boosting_type': 'gbdt', 'colsample_bytree': 0.43072418094275544, 'feature_fraction': 0.6, 'gamma': 0.6143886416236723, 'learning_rate': 0.152067924272672, 'max_depth': 9.0, 'metric': 'auc', 'min_child_samples': 19, 'num_leaves': 220, 'objective': 'binary', 'random_state': 0, 'reg_alpha': 0.5045357737996887, 'reg_lambda': 0.9949876360592305, 'verbosity': 2}\n",
      "CV SCORE:                                                                     \n",
      "AUC: 0.8775095628144116                                                       \n",
      "AUC: 0.9027348087918317                                                       \n",
      "AUC: 0.8942904367782526                                                       \n",
      "AUC: 0.9120083368016838                                                       \n",
      "AUC: 0.9131865006023698                                                       \n",
      "Mean AUC: 0.8999459291577099                                                  \n",
      "\n",
      "############## New Run ################                                       \n",
      "PARAMETERS:                                                                   \n",
      "params  = {'bagging_fraction': 0.6, 'bagging_seed': 11, 'boosting_type': 'gbdt', 'colsample_bytree': 0.38213781556270426, 'feature_fraction': 0.8, 'gamma': 0.7341957571897672, 'learning_rate': 0.05377906268028739, 'max_depth': 9.0, 'metric': 'auc', 'min_child_samples': 94, 'num_leaves': 240, 'objective': 'binary', 'random_state': 0, 'reg_alpha': 0.11763468318009411, 'reg_lambda': 0.42604178601071985, 'verbosity': 2}\n",
      "CV SCORE:                                                                     \n",
      "AUC: 0.891294020397712                                                        \n",
      "AUC: 0.9137742651021847                                                       \n",
      "AUC: 0.9005299109152115                                                       \n",
      "AUC: 0.9140445490437356                                                       \n",
      "AUC: 0.9152301118512033                                                       \n",
      "Mean AUC: 0.9069745714620094                                                  \n",
      "\n",
      "############## New Run ################                                        \n",
      "PARAMETERS:                                                                    \n",
      "params  = {'bagging_fraction': 0.9, 'bagging_seed': 11, 'boosting_type': 'gbdt', 'colsample_bytree': 0.6522267511970055, 'feature_fraction': 0.6, 'gamma': 0.6722018662464767, 'learning_rate': 0.14373991001094516, 'max_depth': 14.0, 'metric': 'auc', 'min_child_samples': 91, 'num_leaves': 280, 'objective': 'binary', 'random_state': 0, 'reg_alpha': 0.26142126189273607, 'reg_lambda': 0.5222988320093647, 'verbosity': 2}\n",
      "CV SCORE:                                                                      \n",
      "AUC: 0.880505640253787                                                         \n",
      "AUC: 0.9018848249682836                                                        \n",
      "AUC: 0.8888655890040871                                                        \n",
      "AUC: 0.9195340144077997                                                        \n",
      "AUC: 0.9209032938638717                                                        \n",
      "Mean AUC: 0.9023386724995659                                                   \n",
      "\n",
      "############## New Run ################                                        \n",
      "PARAMETERS:                                                                    \n",
      "params  = {'bagging_fraction': 0.6, 'bagging_seed': 11, 'boosting_type': 'gbdt', 'colsample_bytree': 0.5734754285120337, 'feature_fraction': 0.8, 'gamma': 0.5532965808142487, 'learning_rate': 0.11022463927637233, 'max_depth': 9.0, 'metric': 'auc', 'min_child_samples': 19, 'num_leaves': 240, 'objective': 'binary', 'random_state': 0, 'reg_alpha': 0.06713028020371317, 'reg_lambda': 0.971172871095569, 'verbosity': 2}\n",
      "CV SCORE:                                                                      \n",
      "AUC: 0.8775700304155213                                                        \n",
      "AUC: 0.9095629036262385                                                        \n",
      "AUC: 0.899180657722959                                                         \n",
      "AUC: 0.9154894535656872                                                        \n",
      "AUC: 0.9138587659887839                                                        \n",
      "Mean AUC: 0.9031323622638381                                                   \n",
      "\n",
      "############## New Run ################                                        \n",
      "PARAMETERS:                                                                    \n",
      "params  = {'bagging_fraction': 0.5, 'bagging_seed': 11, 'boosting_type': 'gbdt', 'colsample_bytree': 0.9005910484892952, 'feature_fraction': 0.7, 'gamma': 0.2914595719706382, 'learning_rate': 0.12650541723532266, 'max_depth': 10.0, 'metric': 'auc', 'min_child_samples': 88, 'num_leaves': 180, 'objective': 'binary', 'random_state': 0, 'reg_alpha': 0.11264380073156038, 'reg_lambda': 0.7739223254595838, 'verbosity': 2}\n"
     ]
    },
    {
     "name": "stdout",
     "output_type": "stream",
     "text": [
      "CV SCORE:                                                                      \n",
      "AUC: 0.8749970831217656                                                        \n",
      "AUC: 0.9083936160453272                                                        \n",
      "AUC: 0.8960964475139391                                                        \n",
      "AUC: 0.9136214183056547                                                        \n",
      "AUC: 0.9193935618791432                                                        \n",
      "Mean AUC: 0.9025004253731661                                                   \n",
      "\n",
      "############## New Run ################                                        \n",
      "PARAMETERS:                                                                    \n",
      "params  = {'bagging_fraction': 0.5, 'bagging_seed': 11, 'boosting_type': 'gbdt', 'colsample_bytree': 0.3530951849993526, 'feature_fraction': 0.9, 'gamma': 0.1490319658684503, 'learning_rate': 0.1257624584467069, 'max_depth': 8.0, 'metric': 'auc', 'min_child_samples': 64, 'num_leaves': 260, 'objective': 'binary', 'random_state': 0, 'reg_alpha': 0.5915869409105463, 'reg_lambda': 0.2765070902639377, 'verbosity': 2}\n",
      "CV SCORE:                                                                      \n",
      "AUC: 0.881744358166171                                                         \n",
      "AUC: 0.907743637094692                                                         \n",
      "AUC: 0.9007473403924624                                                        \n",
      "AUC: 0.9162906105923959                                                        \n",
      "AUC: 0.9211343354762626                                                        \n",
      "Mean AUC: 0.9055320563443967                                                   \n",
      "\n",
      "############## New Run ################                                        \n",
      "PARAMETERS:                                                                    \n",
      "params  = {'bagging_fraction': 0.6, 'bagging_seed': 11, 'boosting_type': 'gbdt', 'colsample_bytree': 0.7859430977043809, 'feature_fraction': 0.9, 'gamma': 0.46934917336132137, 'learning_rate': 0.13949300377729237, 'max_depth': 15.0, 'metric': 'auc', 'min_child_samples': 43, 'num_leaves': 120, 'objective': 'binary', 'random_state': 0, 'reg_alpha': 0.4923762211713777, 'reg_lambda': 0.1076931604004158, 'verbosity': 2}\n",
      "CV SCORE:                                                                      \n",
      "AUC: 0.8838004346367931                                                        \n",
      "AUC: 0.9057503401964369                                                        \n",
      "AUC: 0.8948147858470636                                                        \n",
      "AUC: 0.9158326803705041                                                        \n",
      "AUC: 0.9164726346899243                                                        \n",
      "Mean AUC: 0.9033341751481444                                                   \n",
      "\n",
      "############## New Run ################                                         \n",
      "PARAMETERS:                                                                     \n",
      "params  = {'bagging_fraction': 0.8, 'bagging_seed': 11, 'boosting_type': 'gbdt', 'colsample_bytree': 0.6765203062117489, 'feature_fraction': 0.5, 'gamma': 0.5375131125953322, 'learning_rate': 0.10528688998479627, 'max_depth': 17.0, 'metric': 'auc', 'min_child_samples': 73, 'num_leaves': 220, 'objective': 'binary', 'random_state': 0, 'reg_alpha': 0.6066101004606038, 'reg_lambda': 0.904957992447255, 'verbosity': 2}\n",
      "CV SCORE:                                                                       \n",
      "AUC: 0.8873452571458176                                                         \n",
      "AUC: 0.9116436217839264                                                         \n",
      "AUC: 0.9015900466053635                                                         \n",
      "AUC: 0.9196133098082866                                                         \n",
      "AUC: 0.9231476496391199                                                         \n",
      "Mean AUC: 0.9086679769965027                                                    \n",
      "\n",
      "############## New Run ################                                         \n",
      "PARAMETERS:                                                                     \n",
      "params  = {'bagging_fraction': 0.9, 'bagging_seed': 11, 'boosting_type': 'gbdt', 'colsample_bytree': 0.7410541637346257, 'feature_fraction': 0.6, 'gamma': 0.5111384074393422, 'learning_rate': 0.14767817698080102, 'max_depth': 24.0, 'metric': 'auc', 'min_child_samples': 52, 'num_leaves': 40, 'objective': 'binary', 'random_state': 0, 'reg_alpha': 0.08577205614496505, 'reg_lambda': 0.6319428708493714, 'verbosity': 2}\n",
      "CV SCORE:                                                                       \n",
      "AUC: 0.8778443091651601                                                         \n",
      "AUC: 0.9043520531271815                                                         \n",
      "AUC: 0.8964259945019222                                                         \n",
      "AUC: 0.9078803010127859                                                         \n",
      "AUC: 0.9089980399891922                                                         \n",
      "Mean AUC: 0.8991001395592484                                                    \n",
      "\n",
      "############## New Run ################                                         \n",
      "PARAMETERS:                                                                     \n",
      "params  = {'bagging_fraction': 0.7, 'bagging_seed': 11, 'boosting_type': 'gbdt', 'colsample_bytree': 0.6361167103959549, 'feature_fraction': 0.8, 'gamma': 0.3903192204361208, 'learning_rate': 0.13158549033966, 'max_depth': 22.0, 'metric': 'auc', 'min_child_samples': 91, 'num_leaves': 220, 'objective': 'binary', 'random_state': 0, 'reg_alpha': 0.8609163167636568, 'reg_lambda': 0.49884728103997, 'verbosity': 2}\n",
      "CV SCORE:                                                                       \n",
      "AUC: 0.8843707725532739                                                         \n",
      "AUC: 0.908140206292393                                                          \n",
      "AUC: 0.8993794660972242                                                         \n",
      "AUC: 0.9217686040397264                                                         \n",
      "AUC: 0.9193779269718916                                                         \n",
      "Mean AUC: 0.9066073951909018                                                    \n",
      "\n",
      "############## New Run ################                                         \n",
      "PARAMETERS:                                                                     \n",
      "params  = {'bagging_fraction': 0.7, 'bagging_seed': 11, 'boosting_type': 'gbdt', 'colsample_bytree': 0.3524821367483067, 'feature_fraction': 0.6, 'gamma': 0.5338209722157851, 'learning_rate': 0.18583974558902674, 'max_depth': 25.0, 'metric': 'auc', 'min_child_samples': 43, 'num_leaves': 180, 'objective': 'binary', 'random_state': 0, 'reg_alpha': 0.5449217746836486, 'reg_lambda': 0.9448748114760266, 'verbosity': 2}\n",
      "CV SCORE:                                                                       \n",
      "AUC: 0.8805736074905967                                                         \n",
      "AUC: 0.9007681914836472                                                         \n",
      "AUC: 0.8917153752051881                                                         \n",
      "AUC: 0.9096299215217231                                                         \n",
      "AUC: 0.9068096424360838                                                         \n",
      "Mean AUC: 0.8978993476274477                                                    \n",
      "\n",
      "############## New Run ################                                         \n",
      "PARAMETERS:                                                                     \n",
      "params  = {'bagging_fraction': 0.9, 'bagging_seed': 11, 'boosting_type': 'gbdt', 'colsample_bytree': 0.4618896192697701, 'feature_fraction': 0.8, 'gamma': 0.16224311332169236, 'learning_rate': 0.08381990634108735, 'max_depth': 22.0, 'metric': 'auc', 'min_child_samples': 40, 'num_leaves': 120, 'objective': 'binary', 'random_state': 0, 'reg_alpha': 0.05725640898784136, 'reg_lambda': 0.6727984965095666, 'verbosity': 2}\n",
      "CV SCORE:                                                                       \n",
      "AUC: 0.8874145405543866                                                         \n",
      "AUC: 0.9167239847621453                                                         \n",
      "AUC: 0.9055245260158242                                                         \n",
      "AUC: 0.9182810411238089                                                         \n",
      "AUC: 0.9182861817016865                                                         \n",
      "Mean AUC: 0.9092460548315703                                                    \n",
      "\n",
      "############## New Run ################                                         \n",
      "PARAMETERS:                                                                     \n",
      "params  = {'bagging_fraction': 0.6, 'bagging_seed': 11, 'boosting_type': 'gbdt', 'colsample_bytree': 0.4795707926759626, 'feature_fraction': 0.9, 'gamma': 0.33845012262425683, 'learning_rate': 0.084889540948441, 'max_depth': 22.0, 'metric': 'auc', 'min_child_samples': 16, 'num_leaves': 20, 'objective': 'binary', 'random_state': 0, 'reg_alpha': 0.11480662251774655, 'reg_lambda': 0.9716288864889576, 'verbosity': 2}\n",
      "CV SCORE:                                                                       \n",
      "AUC: 0.8816475480107985                                                         \n",
      "AUC: 0.9039349542375762                                                         \n",
      "AUC: 0.8840164690790807                                                         \n",
      "AUC: 0.8978562641685403                                                         \n",
      "AUC: 0.8942081147479639                                                         \n",
      "Mean AUC: 0.8923326700487919                                                    \n",
      "\n",
      "############## New Run ################                                         \n",
      "PARAMETERS:                                                                     \n",
      "params  = {'bagging_fraction': 0.5, 'bagging_seed': 11, 'boosting_type': 'gbdt', 'colsample_bytree': 0.4500867173755038, 'feature_fraction': 0.9, 'gamma': 0.1997625538641107, 'learning_rate': 0.17905818551934752, 'max_depth': 18.0, 'metric': 'auc', 'min_child_samples': 64, 'num_leaves': 80, 'objective': 'binary', 'random_state': 0, 'reg_alpha': 0.33337765434115213, 'reg_lambda': 0.6660057426989969, 'verbosity': 2}\n",
      "CV SCORE:                                                                       \n",
      "AUC: 0.8760777237192195                                                         \n",
      "AUC: 0.8925788852399491                                                         \n",
      "AUC: 0.8898718273041136                                                         \n",
      "AUC: 0.9147286458417186                                                         \n",
      "AUC: 0.9120098739256468                                                         \n",
      "Mean AUC: 0.8970533912061296                                                    \n",
      "\n",
      "############## New Run ################                                         \n",
      "PARAMETERS:                                                                     \n",
      "params  = {'bagging_fraction': 0.8, 'bagging_seed': 11, 'boosting_type': 'gbdt', 'colsample_bytree': 0.5585931049816513, 'feature_fraction': 0.6, 'gamma': 0.29319221998006056, 'learning_rate': 0.14287243878655048, 'max_depth': 9.0, 'metric': 'auc', 'min_child_samples': 34, 'num_leaves': 60, 'objective': 'binary', 'random_state': 0, 'reg_alpha': 0.7101443402820863, 'reg_lambda': 0.32405686929880295, 'verbosity': 2}\n",
      "CV SCORE:                                                                       \n",
      "AUC: 0.8799851992352774                                                         \n",
      "AUC: 0.9085165239146037                                                         \n",
      "AUC: 0.8960108362591446                                                         \n",
      "AUC: 0.9099983387198364                                                         \n",
      "AUC: 0.9132370112349711                                                         \n",
      "Mean AUC: 0.9015495818727667                                                    \n",
      "\n",
      "############## New Run ################                                         \n",
      "PARAMETERS:                                                                     \n",
      "params  = {'bagging_fraction': 0.9, 'bagging_seed': 11, 'boosting_type': 'gbdt', 'colsample_bytree': 0.7312291898648007, 'feature_fraction': 0.8, 'gamma': 0.5315321131595142, 'learning_rate': 0.13944057247930894, 'max_depth': 15.0, 'metric': 'auc', 'min_child_samples': 28, 'num_leaves': 280, 'objective': 'binary', 'random_state': 0, 'reg_alpha': 0.06417659689915829, 'reg_lambda': 0.32979876753158416, 'verbosity': 2}\n",
      "CV SCORE:                                                                       \n",
      "AUC: 0.8836868496498087                                                         \n",
      "AUC: 0.9044519674281546                                                         \n",
      "AUC: 0.8907426964139482                                                         \n",
      "AUC: 0.9186058916705928                                                         \n",
      "AUC: 0.9168407984971109                                                         \n",
      "Mean AUC: 0.9028656407319231                                                    \n",
      "\n",
      "############## New Run ################                                         \n",
      "PARAMETERS:                                                                     \n",
      "params  = {'bagging_fraction': 0.9, 'bagging_seed': 11, 'boosting_type': 'gbdt', 'colsample_bytree': 0.8405225625979516, 'feature_fraction': 0.6, 'gamma': 0.6656850595955197, 'learning_rate': 0.15412525519608228, 'max_depth': 21.0, 'metric': 'auc', 'min_child_samples': 85, 'num_leaves': 80, 'objective': 'binary', 'random_state': 0, 'reg_alpha': 0.05984511203769695, 'reg_lambda': 0.8202271630199246, 'verbosity': 2}\n",
      "CV SCORE:                                                                       \n",
      "AUC: 0.880788499553131                                                          \n",
      "AUC: 0.9003389703743867                                                         \n",
      "AUC: 0.8938210904814587                                                         \n",
      "AUC: 0.9145025694716626                                                         \n",
      "AUC: 0.9197408507462634                                                         \n",
      "Mean AUC: 0.9018383961253805                                                    \n",
      "\n",
      "100%|██████████| 20/20 [53:27<00:00, 147.66s/it, best loss: -0.9092460548315703]\n"
     ]
    }
   ],
   "source": [
    "lgb_best = fmin(fn=lgb_grid,\n",
    "            space=lgb_space,\n",
    "            algo=tpe.suggest,\n",
    "            max_evals=20)"
   ]
  },
  {
   "cell_type": "code",
   "execution_count": 37,
   "metadata": {},
   "outputs": [
    {
     "name": "stdout",
     "output_type": "stream",
     "text": [
      "############## New Run ################\n",
      "PARAMETERS: \n",
      "params  = {'bagging_fraction': 0.9, 'bagging_seed': 11, 'boosting_type': 'gbdt', 'colsample_bytree': 0.4618896192697701, 'feature_fraction': 0.8, 'gamma': 0.16224311332169236, 'learning_rate': 0.08381990634108735, 'max_depth': 22.0, 'metric': 'auc', 'min_child_samples': 40, 'num_leaves': 120, 'objective': 'binary', 'random_state': 0, 'reg_alpha': 0.05725640898784136, 'reg_lambda': 0.6727984965095666, 'verbosity': 2}\n",
      "CV SCORE: \n",
      "AUC: 0.8874145405543866\n",
      "AUC: 0.9167239847621453\n",
      "AUC: 0.9055245260158242\n",
      "AUC: 0.9182810411238089\n",
      "AUC: 0.9182861817016865\n",
      "Mean AUC: 0.9092460548315703 \n",
      "\n"
     ]
    },
    {
     "data": {
      "text/plain": [
       "-0.9092460548315703"
      ]
     },
     "execution_count": 37,
     "metadata": {},
     "output_type": "execute_result"
    }
   ],
   "source": [
    "lgb_best_params = space_eval(lgb_space, lgb_best)\n",
    "lgb_grid(lgb_best_params)"
   ]
  },
  {
   "cell_type": "code",
   "execution_count": 14,
   "metadata": {},
   "outputs": [],
   "source": [
    "submission_sample = pd.read_csv('./Data/sample_submission.csv')\n",
    "test_pred = lgb_model.predict_proba(test_features)[:,1]\n",
    "submission_sample['isFraud'] = test_pred\n",
    "submission_sample.to_csv('./Output/LGBM_model_3.csv', index=False)"
   ]
  },
  {
   "cell_type": "code",
   "execution_count": 38,
   "metadata": {},
   "outputs": [],
   "source": [
    "from ml import simple"
   ]
  },
  {
   "cell_type": "code",
   "execution_count": 39,
   "metadata": {},
   "outputs": [],
   "source": [
    "train_target.columns = ['isFraud']\n",
    "train = pd.concat([train_features, train_target], axis=1)\n",
    "submission_sample = pd.read_csv('./Data/sample_submission.csv')\n",
    "test = pd.concat([submission_sample, test_features], axis=1)\n",
    "data = simple.Data(train, test, 'TransactionID', 'isFraud')"
   ]
  },
  {
   "cell_type": "code",
   "execution_count": 42,
   "metadata": {},
   "outputs": [],
   "source": [
    "lgb_best_params['max_depth'] = 22"
   ]
  },
  {
   "cell_type": "code",
   "execution_count": 43,
   "metadata": {},
   "outputs": [
    {
     "name": "stdout",
     "output_type": "stream",
     "text": [
      "[10]\tvalid_0's auc: 0.891117\n",
      "[20]\tvalid_0's auc: 0.908856\n",
      "[30]\tvalid_0's auc: 0.919193\n",
      "[40]\tvalid_0's auc: 0.927311\n",
      "[50]\tvalid_0's auc: 0.936348\n",
      "[60]\tvalid_0's auc: 0.941136\n",
      "[70]\tvalid_0's auc: 0.944806\n",
      "[80]\tvalid_0's auc: 0.947437\n",
      "[90]\tvalid_0's auc: 0.949862\n",
      "[100]\tvalid_0's auc: 0.951349\n"
     ]
    }
   ],
   "source": [
    "sub = simple.Model(data, 'LGB', lgb_best_params, 0.2, 4).PRED\n",
    "sub['isFraud'] = sub['isFraud'].clip(0,1)\n",
    "sub.to_csv('./Output/LGB_simple.csv', index=False)"
   ]
  },
  {
   "cell_type": "markdown",
   "metadata": {},
   "source": [
    "## Train_test_split"
   ]
  },
  {
   "cell_type": "code",
   "execution_count": 45,
   "metadata": {},
   "outputs": [],
   "source": [
    "sample_submission = pd.read_csv('./Data/sample_submission.csv')"
   ]
  },
  {
   "cell_type": "code",
   "execution_count": 49,
   "metadata": {},
   "outputs": [
    {
     "name": "stdout",
     "output_type": "stream",
     "text": [
      "CV SCORE: \n",
      "ROC AUC 0.9553197449713535\n",
      "ROC AUC 0.9506801341413937\n",
      "ROC AUC 0.9482388573668341\n",
      "ROC AUC 0.9542050508624496\n",
      "ROC AUC 0.9515534018296988\n",
      "CPU times: user 15min 18s, sys: 1min 23s, total: 16min 41s\n",
      "Wall time: 7min 7s\n"
     ]
    }
   ],
   "source": [
    "%%time\n",
    "from sklearn.model_selection import KFold\n",
    "from sklearn.metrics import roc_auc_score\n",
    "\n",
    "EPOCHS = 5\n",
    "kf = KFold(n_splits = EPOCHS, shuffle = True)\n",
    "y_preds = np.zeros(sample_submission.shape[0])\n",
    "y_oof = np.zeros(train_features.shape[0])\n",
    "score_mean = 0\n",
    "print(\"CV SCORE: \")\n",
    "for tr_idx, val_idx in kf.split(train_features, train_target):\n",
    "    clf = lgb.LGBMClassifier(**lgb_params)\n",
    "    \n",
    "    X_tr, X_vl = train_features.iloc[tr_idx, :], train_features.iloc[val_idx, :]\n",
    "    y_tr, y_vl = train_target.iloc[tr_idx], train_target.iloc[val_idx]\n",
    "    clf.fit(X_tr, y_tr)\n",
    "    y_pred_train = clf.predict_proba(X_vl)[:,1]\n",
    "    y_oof[val_idx] = y_pred_train\n",
    "    print('ROC AUC {}'.format(roc_auc_score(y_vl, y_pred_train)))\n",
    "    \n",
    "    y_preds += clf.predict_proba(test_features)[:,1] / EPOCHS"
   ]
  },
  {
   "cell_type": "markdown",
   "metadata": {},
   "source": [
    "### GridSearch"
   ]
  },
  {
   "cell_type": "code",
   "execution_count": 59,
   "metadata": {},
   "outputs": [],
   "source": [
    "def lgb_grid(params):\n",
    "    print(\"############## New Run ################\")\n",
    "    print(\"PARAMETERS: \")\n",
    "    print(f\"params  = {params}\")\n",
    "    params = {\n",
    "        'boosting_type': 'gbdt',\n",
    "        'max_depth': int(params['max_depth']),\n",
    "        'gamma': \"{:.3f}\".format(params['gamma']),\n",
    "        'reg_alpha': \"{:.3f}\".format(params['reg_alpha']),\n",
    "        'learning_rate': \"{:.3f}\".format(params['learning_rate']),\n",
    "        'gamma': \"{:.3f}\".format(params['gamma']),\n",
    "        'num_leaves': int(format(params['num_leaves'])),\n",
    "        'min_child_samples': int(format(params['min_child_samples'])),\n",
    "        'feature_fraction': '{:.3f}'.format(params['feature_fraction']),\n",
    "        'bagging_fraction': '{:.3f}'.format(params['bagging_fraction']),\n",
    "        'metric': 'auc',\n",
    "        'bagging_seed': 11,\n",
    "        'random_state': 0\n",
    "    }\n",
    "    \n",
    "    EPOCHS = 5\n",
    "    kf = KFold(n_splits = EPOCHS, shuffle = True)\n",
    "    y_preds = np.zeros(sample_submission.shape[0])\n",
    "    y_oof = np.zeros(train_features.shape[0])\n",
    "    score_mean = 0\n",
    "    print(\"CV SCORE: \")\n",
    "    for tr_idx, val_idx in kf.split(train_features, train_target):\n",
    "        clf = lgb.LGBMClassifier(\n",
    "            **params\n",
    "        )\n",
    "\n",
    "        X_tr, X_vl = train_features.iloc[tr_idx, :], train_features.iloc[val_idx, :]\n",
    "        y_tr, y_vl = train_target.iloc[tr_idx], train_target.iloc[val_idx]\n",
    "        clf.fit(X_tr, y_tr)\n",
    "        y_pred_train = clf.predict_proba(X_vl)[:,1]\n",
    "        y_oof[val_idx] = y_pred_train\n",
    "        score = roc_auc_score(y_vl, y_pred_train)\n",
    "        score_mean += score\n",
    "        print(f'AUC: {score}')\n",
    "        \n",
    "    print(f'Mean AUC: {score_mean / EPOCHS} \\n')\n",
    "    joblib.dump(clf, \"./Model/LGB_model_cv.m\")\n",
    "    return -(score_mean / EPOCHS)"
   ]
  },
  {
   "cell_type": "code",
   "execution_count": 60,
   "metadata": {
    "scrolled": true
   },
   "outputs": [
    {
     "name": "stdout",
     "output_type": "stream",
     "text": [
      "############## New Run ################             \n",
      "PARAMETERS:                                         \n",
      "params  = {'bagging_fraction': 0.8, 'bagging_seed': 11, 'boosting_type': 'gbdt', 'colsample_bytree': 0.3874088207957852, 'feature_fraction': 0.5, 'gamma': 0.6190223247184451, 'learning_rate': 0.08072858736409759, 'max_depth': 15.0, 'metric': 'auc', 'min_child_samples': 58, 'num_leaves': 40, 'objective': 'binary', 'random_state': 0, 'reg_alpha': 0.4863006036359332, 'reg_lambda': 0.6391633192106493, 'verbosity': 2}\n",
      "CV SCORE:                                           \n",
      "AUC: 0.9279260266862234                             \n",
      "AUC: 0.9279518025238854                             \n",
      "AUC: 0.9216102992574665                             \n",
      "AUC: 0.9320071658686944                             \n",
      "AUC: 0.9276538067668545                             \n",
      "Mean AUC: 0.9274298202206248                        \n",
      "\n",
      "############## New Run ################                                          \n",
      "PARAMETERS:                                                                      \n",
      "params  = {'bagging_fraction': 0.9, 'bagging_seed': 11, 'boosting_type': 'gbdt', 'colsample_bytree': 0.42379505076969276, 'feature_fraction': 0.6, 'gamma': 0.659246574926549, 'learning_rate': 0.17324957633519997, 'max_depth': 9.0, 'metric': 'auc', 'min_child_samples': 85, 'num_leaves': 60, 'objective': 'binary', 'random_state': 0, 'reg_alpha': 0.31067704057382295, 'reg_lambda': 0.6894243642738564, 'verbosity': 2}\n",
      "CV SCORE:                                                                        \n",
      "AUC: 0.9446775232357052                                                          \n",
      "AUC: 0.9456528808155164                                                          \n",
      "AUC: 0.9419781088770505                                                          \n",
      "AUC: 0.9415458182569415                                                          \n",
      "AUC: 0.9414937554064349                                                          \n",
      "Mean AUC: 0.9430696173183296                                                     \n",
      "\n",
      "############## New Run ################                                          \n",
      "PARAMETERS:                                                                      \n",
      "params  = {'bagging_fraction': 0.7, 'bagging_seed': 11, 'boosting_type': 'gbdt', 'colsample_bytree': 0.4732913364751002, 'feature_fraction': 0.7, 'gamma': 0.26501314479788446, 'learning_rate': 0.1908086713123926, 'max_depth': 21.0, 'metric': 'auc', 'min_child_samples': 19, 'num_leaves': 20, 'objective': 'binary', 'random_state': 0, 'reg_alpha': 0.06172656504485817, 'reg_lambda': 0.4289426348641667, 'verbosity': 2}\n",
      "CV SCORE:                                                                        \n",
      "AUC: 0.9175275178608903                                                          \n",
      "AUC: 0.9156277698795628                                                          \n",
      "AUC: 0.9186554072830577                                                          \n",
      "AUC: 0.9231243487689783                                                          \n",
      "AUC: 0.9205381562252358                                                          \n",
      "Mean AUC: 0.9190946400035449                                                     \n",
      "\n",
      "############## New Run ################                                          \n",
      "PARAMETERS:                                                                    \n",
      "params  = {'bagging_fraction': 0.7, 'bagging_seed': 11, 'boosting_type': 'gbdt', 'colsample_bytree': 0.45399815072942273, 'feature_fraction': 0.7, 'gamma': 0.346106213617364, 'learning_rate': 0.04973730102653662, 'max_depth': 9.0, 'metric': 'auc', 'min_child_samples': 40, 'num_leaves': 180, 'objective': 'binary', 'random_state': 0, 'reg_alpha': 0.8532736312792274, 'reg_lambda': 0.663158217888129, 'verbosity': 2}\n",
      "CV SCORE:                                                                      \n",
      "AUC: 0.9364202533789426                                                        \n",
      "AUC: 0.9369255752093801                                                        \n",
      "AUC: 0.9444384571673721                                                        \n",
      "AUC: 0.9370853538732177                                                        \n",
      "AUC: 0.9407098892773684                                                        \n",
      "Mean AUC: 0.9391159057812561                                                   \n",
      "\n",
      "############## New Run ################                                        \n",
      "PARAMETERS:                                                                    \n",
      "params  = {'bagging_fraction': 0.6, 'bagging_seed': 11, 'boosting_type': 'gbdt', 'colsample_bytree': 0.38330510252993755, 'feature_fraction': 0.7, 'gamma': 0.5710440415160604, 'learning_rate': 0.16853468553735595, 'max_depth': 16.0, 'metric': 'auc', 'min_child_samples': 73, 'num_leaves': 220, 'objective': 'binary', 'random_state': 0, 'reg_alpha': 0.261328665002629, 'reg_lambda': 0.8314261067553266, 'verbosity': 2}\n",
      "CV SCORE:                                                                      \n",
      "AUC: 0.9639226893498001                                                        \n",
      "AUC: 0.9632006807396765                                                        \n",
      "AUC: 0.9627641019092087                                                        \n",
      "AUC: 0.9622016205833237                                                        \n",
      "AUC: 0.9667765106756855                                                        \n",
      "Mean AUC: 0.9637731206515389                                                   \n",
      "\n",
      "############## New Run ################                                          \n",
      "PARAMETERS:                                                                      \n",
      "params  = {'bagging_fraction': 0.9, 'bagging_seed': 11, 'boosting_type': 'gbdt', 'colsample_bytree': 0.32817277982167625, 'feature_fraction': 0.5, 'gamma': 0.3186182595657922, 'learning_rate': 0.0609066887039718, 'max_depth': 11.0, 'metric': 'auc', 'min_child_samples': 28, 'num_leaves': 240, 'objective': 'binary', 'random_state': 0, 'reg_alpha': 0.8684048338999166, 'reg_lambda': 0.29394348122747077, 'verbosity': 2}\n",
      "CV SCORE:                                                                        \n",
      "AUC: 0.9455918116020602                                                          \n",
      "AUC: 0.9501067437350519                                                          \n",
      "AUC: 0.9532646938410227                                                          \n",
      "AUC: 0.9525604805761166                                                          \n",
      "AUC: 0.9492446281224672                                                          \n",
      "Mean AUC: 0.9501536715753438                                                     \n",
      "\n",
      "############## New Run ################                                          \n",
      "PARAMETERS:                                                                      \n",
      "params  = {'bagging_fraction': 0.5, 'bagging_seed': 11, 'boosting_type': 'gbdt', 'colsample_bytree': 0.849145703283273, 'feature_fraction': 0.8, 'gamma': 0.5341104376422656, 'learning_rate': 0.06198439606613498, 'max_depth': 18.0, 'metric': 'auc', 'min_child_samples': 88, 'num_leaves': 260, 'objective': 'binary', 'random_state': 0, 'reg_alpha': 0.11111070071997546, 'reg_lambda': 0.21804490633891127, 'verbosity': 2}\n",
      "CV SCORE:                                                                        \n",
      "AUC: 0.9557305368752802                                                          \n",
      "AUC: 0.9561066749441092                                                          \n",
      "AUC: 0.9568431850400668                                                          \n",
      "AUC: 0.9566992408434131                                                          \n",
      "AUC: 0.9557499850526999                                                          \n",
      "Mean AUC: 0.956225924551114                                                      \n",
      "\n",
      "############## New Run ################                                          \n",
      "PARAMETERS:                                                                      \n",
      "params  = {'bagging_fraction': 0.9, 'bagging_seed': 11, 'boosting_type': 'gbdt', 'colsample_bytree': 0.8274537127234849, 'feature_fraction': 0.6, 'gamma': 0.2863358937682186, 'learning_rate': 0.09748880140228101, 'max_depth': 7.0, 'metric': 'auc', 'min_child_samples': 85, 'num_leaves': 80, 'objective': 'binary', 'random_state': 0, 'reg_alpha': 0.5717572301315139, 'reg_lambda': 0.9476206873874413, 'verbosity': 2}\n"
     ]
    },
    {
     "name": "stdout",
     "output_type": "stream",
     "text": [
      "CV SCORE:                                                                        \n",
      "AUC: 0.9327294751649327                                                          \n",
      "AUC: 0.9343808483411502                                                          \n",
      "AUC: 0.929187602762351                                                           \n",
      "AUC: 0.9339874627015143                                                          \n",
      "AUC: 0.9317073618560615                                                          \n",
      "Mean AUC: 0.932398550165202                                                      \n",
      "\n",
      "############## New Run ################                                          \n",
      "PARAMETERS:                                                                    \n",
      "params  = {'bagging_fraction': 0.7, 'bagging_seed': 11, 'boosting_type': 'gbdt', 'colsample_bytree': 0.6261923196653512, 'feature_fraction': 0.8, 'gamma': 0.2849318774489393, 'learning_rate': 0.03125453175318475, 'max_depth': 10.0, 'metric': 'auc', 'min_child_samples': 94, 'num_leaves': 280, 'objective': 'binary', 'random_state': 0, 'reg_alpha': 0.06513431327331888, 'reg_lambda': 0.4384682974898496, 'verbosity': 2}\n",
      "CV SCORE:                                                                      \n",
      "AUC: 0.9344909532123746                                                        \n",
      "AUC: 0.9322120073013995                                                        \n",
      "AUC: 0.9355422547028801                                                        \n",
      "AUC: 0.9356952498841369                                                          \n",
      "AUC: 0.9378170735057344                                                           \n",
      "Mean AUC: 0.9351515077213051                                                      \n",
      "\n",
      "############## New Run ################                                                \n",
      "PARAMETERS:                                                                            \n",
      "params  = {'bagging_fraction': 0.6, 'bagging_seed': 11, 'boosting_type': 'gbdt', 'colsample_bytree': 0.6561761561198796, 'feature_fraction': 0.9, 'gamma': 0.5944924010503476, 'learning_rate': 0.13046999140061652, 'max_depth': 14.0, 'metric': 'auc', 'min_child_samples': 73, 'num_leaves': 60, 'objective': 'binary', 'random_state': 0, 'reg_alpha': 0.5962054649482731, 'reg_lambda': 0.6122437612715584, 'verbosity': 2}\n",
      "CV SCORE:                                                                              \n",
      "AUC: 0.9403583299415339                                                                \n",
      "AUC: 0.9459493536210142                                                                \n",
      "AUC: 0.9456634636743135                                                                \n",
      "AUC: 0.9428981224599535                                                                \n",
      "AUC: 0.9449873301509537                                                                \n",
      "Mean AUC: 0.9439713199695537                                                           \n",
      "\n",
      "############## New Run ################                                                \n",
      "PARAMETERS:                                                                            \n",
      "params  = {'bagging_fraction': 0.7, 'bagging_seed': 11, 'boosting_type': 'gbdt', 'colsample_bytree': 0.31436460889289164, 'feature_fraction': 0.8, 'gamma': 0.03869033393199466, 'learning_rate': 0.15413854820522294, 'max_depth': 13.0, 'metric': 'auc', 'min_child_samples': 73, 'num_leaves': 220, 'objective': 'binary', 'random_state': 0, 'reg_alpha': 0.3791788587805137, 'reg_lambda': 0.3957298028360037, 'verbosity': 2}\n",
      "CV SCORE:                                                                              \n",
      "AUC: 0.9617337343739036                                                                \n",
      "AUC: 0.9634274597672533                                                                \n",
      "AUC: 0.9613643358724238                                                                \n",
      "AUC: 0.9599184190535517                                                                \n",
      "AUC: 0.9609159432909443                                                                \n",
      "Mean AUC: 0.9614719784716153                                                           \n",
      "\n",
      "############## New Run ################                                                \n",
      "PARAMETERS:                                                                            \n",
      "params  = {'bagging_fraction': 0.9, 'bagging_seed': 11, 'boosting_type': 'gbdt', 'colsample_bytree': 0.6622087656544766, 'feature_fraction': 0.8, 'gamma': 0.08555409852444758, 'learning_rate': 0.0697137323564465, 'max_depth': 20.0, 'metric': 'auc', 'min_child_samples': 31, 'num_leaves': 20, 'objective': 'binary', 'random_state': 0, 'reg_alpha': 0.5495093503627201, 'reg_lambda': 0.5570034899571613, 'verbosity': 2}\n",
      "CV SCORE:                                                                              \n",
      "AUC: 0.9133233581092391                                                                \n",
      "AUC: 0.9105138387297763                                                                \n",
      "AUC: 0.9107856781502839                                                                \n",
      "AUC: 0.9129247943615855                                                                \n",
      "AUC: 0.9104056443425271                                                                \n",
      "Mean AUC: 0.9115906627386824                                                           \n",
      "\n",
      "############## New Run ################                                                \n",
      "PARAMETERS:                                                                           \n",
      "params  = {'bagging_fraction': 0.9, 'bagging_seed': 11, 'boosting_type': 'gbdt', 'colsample_bytree': 0.4402041593417613, 'feature_fraction': 0.7, 'gamma': 0.378033528756942, 'learning_rate': 0.08054382123123754, 'max_depth': 22.0, 'metric': 'auc', 'min_child_samples': 22, 'num_leaves': 220, 'objective': 'binary', 'random_state': 0, 'reg_alpha': 0.6301741788744245, 'reg_lambda': 0.13672459565725242, 'verbosity': 2}\n",
      "CV SCORE:                                                                             \n",
      "AUC: 0.9587413050504826                                                               \n",
      "AUC: 0.9563675974935002                                                               \n",
      "AUC: 0.9575486880725339                                                               \n",
      "AUC: 0.9602117611072799                                                               \n",
      "AUC: 0.9594213108632401                                                               \n",
      "Mean AUC: 0.9584581325174074                                                          \n",
      "\n",
      "############## New Run ################                                               \n",
      "PARAMETERS:                                                                           \n",
      "params  = {'bagging_fraction': 0.5, 'bagging_seed': 11, 'boosting_type': 'gbdt', 'colsample_bytree': 0.8361148652219152, 'feature_fraction': 0.9, 'gamma': 0.043637308761270255, 'learning_rate': 0.06525981858927252, 'max_depth': 21.0, 'metric': 'auc', 'min_child_samples': 37, 'num_leaves': 220, 'objective': 'binary', 'random_state': 0, 'reg_alpha': 0.10694065660302564, 'reg_lambda': 0.6602962790245787, 'verbosity': 2}\n",
      "CV SCORE:                                                                             \n",
      "AUC: 0.9587127412137887                                                               \n",
      "AUC: 0.9546049115101666                                                               \n",
      "AUC: 0.954537133098427                                                                \n",
      "AUC: 0.9540197705155269                                                               \n",
      "AUC: 0.9590140423244947                                                               \n",
      "Mean AUC: 0.9561777197324808                                                          \n",
      "\n",
      "############## New Run ################                                               \n",
      "PARAMETERS:                                                                           \n",
      "params  = {'bagging_fraction': 0.6, 'bagging_seed': 11, 'boosting_type': 'gbdt', 'colsample_bytree': 0.4077306238013061, 'feature_fraction': 0.9, 'gamma': 0.3094147774766888, 'learning_rate': 0.11890674333969257, 'max_depth': 18.0, 'metric': 'auc', 'min_child_samples': 97, 'num_leaves': 280, 'objective': 'binary', 'random_state': 0, 'reg_alpha': 0.5478265344202043, 'reg_lambda': 0.5895122262747918, 'verbosity': 2}\n"
     ]
    },
    {
     "name": "stdout",
     "output_type": "stream",
     "text": [
      "CV SCORE:                                                                             \n",
      "AUC: 0.9606720885933494                                                               \n",
      "AUC: 0.9622322528921865                                                               \n",
      "AUC: 0.966772419096421                                                                \n",
      "AUC: 0.9651779261658727                                                               \n",
      "AUC: 0.9649284992955732                                                               \n",
      "Mean AUC: 0.9639566372086804                                                          \n",
      "\n",
      "############## New Run ################                                               \n",
      "PARAMETERS:                                                                           \n",
      "params  = {'bagging_fraction': 0.7, 'bagging_seed': 11, 'boosting_type': 'gbdt', 'colsample_bytree': 0.779769682621646, 'feature_fraction': 0.9, 'gamma': 0.7053026915706347, 'learning_rate': 0.10646736451553838, 'max_depth': 23.0, 'metric': 'auc', 'min_child_samples': 91, 'num_leaves': 80, 'objective': 'binary', 'random_state': 0, 'reg_alpha': 0.19372347263690984, 'reg_lambda': 0.8672507385669407, 'verbosity': 2}\n",
      "CV SCORE:                                                                             \n",
      "AUC: 0.9493816287271573                                                               \n",
      "AUC: 0.9463081724494621                                                               \n",
      "AUC: 0.9492712566481148                                                               \n",
      "AUC: 0.941674236063581                                                                \n",
      "AUC: 0.9443033307423294                                                               \n",
      "Mean AUC: 0.9461877249261288                                                          \n",
      "\n",
      "############## New Run ################                                               \n",
      "PARAMETERS:                                                                           \n",
      "params  = {'bagging_fraction': 0.5, 'bagging_seed': 11, 'boosting_type': 'gbdt', 'colsample_bytree': 0.6082876196867599, 'feature_fraction': 0.8, 'gamma': 0.6785771721993665, 'learning_rate': 0.09323046798046264, 'max_depth': 15.0, 'metric': 'auc', 'min_child_samples': 94, 'num_leaves': 260, 'objective': 'binary', 'random_state': 0, 'reg_alpha': 0.11641803405470771, 'reg_lambda': 0.22262522293738846, 'verbosity': 2}\n",
      "CV SCORE:                                                                             \n",
      "AUC: 0.9633132649253093                                                               \n",
      "AUC: 0.9603269954257221                                                               \n",
      "AUC: 0.9604476598393438                                                               \n",
      "AUC: 0.9598847081247299                                                               \n",
      "AUC: 0.9581003250539126                                                               \n",
      "Mean AUC: 0.9604145906738035                                                          \n",
      "\n",
      "############## New Run ################                                               \n",
      "PARAMETERS:                                                                         \n",
      "params  = {'bagging_fraction': 0.9, 'bagging_seed': 11, 'boosting_type': 'gbdt', 'colsample_bytree': 0.352123389184926, 'feature_fraction': 0.8, 'gamma': 0.645981254075799, 'learning_rate': 0.12436275798617569, 'max_depth': 19.0, 'metric': 'auc', 'min_child_samples': 52, 'num_leaves': 40, 'objective': 'binary', 'random_state': 0, 'reg_alpha': 0.659474250455778, 'reg_lambda': 0.9839266060975285, 'verbosity': 2}\n",
      "CV SCORE:                                                                           \n",
      "AUC: 0.935915257914125                                                              \n",
      "AUC: 0.9352157755886388                                                             \n",
      "AUC: 0.9384100919270317                                                             \n",
      "AUC: 0.9339975754879508                                                             \n",
      "AUC: 0.9361490014833644                                                             \n",
      "Mean AUC: 0.9359375404802222                                                        \n",
      "\n",
      "############## New Run ################                                             \n",
      "PARAMETERS:                                                                        \n",
      "params  = {'bagging_fraction': 0.5, 'bagging_seed': 11, 'boosting_type': 'gbdt', 'colsample_bytree': 0.4093684341891866, 'feature_fraction': 0.6, 'gamma': 0.0705995815672643, 'learning_rate': 0.06946337372930475, 'max_depth': 20.0, 'metric': 'auc', 'min_child_samples': 10, 'num_leaves': 40, 'objective': 'binary', 'random_state': 0, 'reg_alpha': 0.46644438151818773, 'reg_lambda': 0.802490926190163, 'verbosity': 2}\n",
      "CV SCORE:                                                                          \n",
      "AUC: 0.9307090598833544                                                            \n",
      "AUC: 0.9272665070064233                                                            \n",
      "AUC: 0.9228575487602324                                                            \n",
      "AUC: 0.924338379604033                                                             \n",
      "AUC: 0.9277302566585722                                                            \n",
      "Mean AUC: 0.9265803503825231                                                       \n",
      "\n",
      "############## New Run ################                                            \n",
      "PARAMETERS:                                                                        \n",
      "params  = {'bagging_fraction': 0.9, 'bagging_seed': 11, 'boosting_type': 'gbdt', 'colsample_bytree': 0.7643838381453651, 'feature_fraction': 0.7, 'gamma': 0.04766224506368184, 'learning_rate': 0.08106436202268305, 'max_depth': 19.0, 'metric': 'auc', 'min_child_samples': 22, 'num_leaves': 260, 'objective': 'binary', 'random_state': 0, 'reg_alpha': 0.10385114901203014, 'reg_lambda': 0.6750327490019719, 'verbosity': 2}\n",
      "CV SCORE:                                                                          \n",
      "AUC: 0.9602145784580352                                                            \n",
      "AUC: 0.9586163368094519                                                            \n",
      "AUC: 0.9598841156303461                                                            \n",
      "AUC: 0.9604286145095974                                                            \n",
      "AUC: 0.9610108891874639                                                            \n",
      "Mean AUC: 0.960030906918979                                                        \n",
      "\n",
      "100%|██████████| 20/20 [11:43:33<00:00, 591.96s/it, best loss: -0.9639566372086804]\n"
     ]
    }
   ],
   "source": [
    "lgb_best = fmin(fn=lgb_grid,\n",
    "            space=lgb_space,\n",
    "            algo=tpe.suggest,\n",
    "            max_evals=20)"
   ]
  },
  {
   "cell_type": "code",
   "execution_count": 61,
   "metadata": {},
   "outputs": [],
   "source": [
    "submission_sample = pd.read_csv('./Data/sample_submission.csv')\n",
    "clf = joblib.load(\"./Model/LGB_model_cv.m\")\n",
    "test_pred = clf.predict_proba(test_features)[:,1]\n",
    "submission_sample['isFraud'] = test_pred\n",
    "submission_sample.to_csv('./Output/LGB_cv_1.csv', index=False)"
   ]
  },
  {
   "cell_type": "markdown",
   "metadata": {},
   "source": [
    "## Reference\n",
    "- https://www.kaggle.com/smerllo/identify-unique-cards-id"
   ]
  }
 ],
 "metadata": {
  "kernelspec": {
   "display_name": "Python 3",
   "language": "python",
   "name": "python3"
  },
  "language_info": {
   "codemirror_mode": {
    "name": "ipython",
    "version": 3
   },
   "file_extension": ".py",
   "mimetype": "text/x-python",
   "name": "python",
   "nbconvert_exporter": "python",
   "pygments_lexer": "ipython3",
   "version": "3.7.3"
  },
  "toc": {
   "base_numbering": 1,
   "nav_menu": {},
   "number_sections": true,
   "sideBar": true,
   "skip_h1_title": false,
   "title_cell": "Table of Contents",
   "title_sidebar": "Contents",
   "toc_cell": false,
   "toc_position": {},
   "toc_section_display": true,
   "toc_window_display": false
  },
  "varInspector": {
   "cols": {
    "lenName": 16,
    "lenType": 16,
    "lenVar": 40
   },
   "kernels_config": {
    "python": {
     "delete_cmd_postfix": "",
     "delete_cmd_prefix": "del ",
     "library": "var_list.py",
     "varRefreshCmd": "print(var_dic_list())"
    },
    "r": {
     "delete_cmd_postfix": ") ",
     "delete_cmd_prefix": "rm(",
     "library": "var_list.r",
     "varRefreshCmd": "cat(var_dic_list()) "
    }
   },
   "types_to_exclude": [
    "module",
    "function",
    "builtin_function_or_method",
    "instance",
    "_Feature"
   ],
   "window_display": false
  }
 },
 "nbformat": 4,
 "nbformat_minor": 2
}

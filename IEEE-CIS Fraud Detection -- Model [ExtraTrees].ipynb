{
 "cells": [
  {
   "cell_type": "markdown",
   "metadata": {},
   "source": [
    "# IEEE-CIS Fraud Detection -- Model [ExtraTrees]"
   ]
  },
  {
   "cell_type": "code",
   "execution_count": 1,
   "metadata": {},
   "outputs": [],
   "source": [
    "import pandas as pd\n",
    "import numpy as np\n",
    "import gc\n",
    "import warnings\n",
    "warnings.filterwarnings('ignore')"
   ]
  },
  {
   "cell_type": "code",
   "execution_count": 2,
   "metadata": {},
   "outputs": [],
   "source": [
    "train_features = pd.read_csv('./Data/train_features.csv' )\n",
    "test_features = pd.read_csv('./Data/test_features.csv')\n",
    "train_target = pd.read_csv('./Data/train_target.csv', header=None)"
   ]
  },
  {
   "cell_type": "markdown",
   "metadata": {},
   "source": [
    "## Model"
   ]
  },
  {
   "cell_type": "code",
   "execution_count": 3,
   "metadata": {},
   "outputs": [
    {
     "name": "stderr",
     "output_type": "stream",
     "text": [
      "/Users/wangxinquan/anaconda3/lib/python3.7/site-packages/sklearn/externals/joblib/__init__.py:15: DeprecationWarning: sklearn.externals.joblib is deprecated in 0.21 and will be removed in 0.23. Please import this functionality directly from joblib, which can be installed with: pip install joblib. If this warning is raised when loading pickled models, you may need to re-serialize those models with scikit-learn 0.21+.\n",
      "  warnings.warn(msg, category=DeprecationWarning)\n"
     ]
    }
   ],
   "source": [
    "from sklearn.model_selection import KFold\n",
    "from sklearn.metrics import roc_auc_score, auc\n",
    "from sklearn.ensemble import ExtraTreesClassifier\n",
    "from sklearn.externals import joblib"
   ]
  },
  {
   "cell_type": "code",
   "execution_count": 4,
   "metadata": {},
   "outputs": [],
   "source": [
    "# etc params\n",
    "etc_params = {'n_estimators': 100,\n",
    "             'max_depth': 8,\n",
    "             'min_samples_split': 100,\n",
    "             'min_samples_leaf': 70}"
   ]
  },
  {
   "cell_type": "code",
   "execution_count": 5,
   "metadata": {},
   "outputs": [],
   "source": [
    "def model_fn(clf, params):\n",
    "    print(\"############## New Run ################\")\n",
    "    print(\"PARAMETERS: \")\n",
    "    print(f\"params  = {params}\")\n",
    "    \n",
    "    n_splits = 5\n",
    "    tscv = TimeSeriesSplit(n_splits=n_splits)\n",
    "    score_mean = 0\n",
    "    print(\"CV SCORE: \")\n",
    "    for train_idx, validation_idx in tscv.split(train_features, train_target):\n",
    "        model = clf(**params)\n",
    "\n",
    "        X_train, X_validation = train_features.iloc[train_idx, :], train_features.iloc[validation_idx, :]\n",
    "        y_train, y_validation = train_target.iloc[train_idx], train_target.iloc[validation_idx]\n",
    "\n",
    "        model.fit(X_train, y_train)\n",
    "\n",
    "        y_pred_train = model.predict_proba(X_validation)[:,1]\n",
    "        score = roc_auc_score(y_validation, y_pred_train)\n",
    "        score_mean += score\n",
    "        print(f'AUC: {score}')\n",
    "    print(f'Mean AUC: {score_mean / 5} \\n')\n",
    "    return -(score_mean / 5)"
   ]
  },
  {
   "cell_type": "code",
   "execution_count": 6,
   "metadata": {},
   "outputs": [
    {
     "name": "stdout",
     "output_type": "stream",
     "text": [
      "############## New Run ################\n",
      "PARAMETERS: \n",
      "params  = {'n_estimators': 100, 'max_depth': 8, 'min_samples_split': 100, 'min_samples_leaf': 70}\n",
      "CV SCORE: \n",
      "AUC: 0.8188898938775161\n",
      "AUC: 0.8379024086631095\n",
      "AUC: 0.8195859879752434\n",
      "AUC: 0.8269533239208633\n",
      "AUC: 0.819769515878774\n",
      "Mean AUC: 0.8246202260631014 \n",
      "\n"
     ]
    },
    {
     "data": {
      "text/plain": [
       "-0.8246202260631014"
      ]
     },
     "execution_count": 6,
     "metadata": {},
     "output_type": "execute_result"
    }
   ],
   "source": [
    "model_fn(ExtraTreesClassifier, etc_params)"
   ]
  },
  {
   "cell_type": "markdown",
   "metadata": {},
   "source": [
    "## Gridsearch for best params"
   ]
  },
  {
   "cell_type": "code",
   "execution_count": 7,
   "metadata": {},
   "outputs": [],
   "source": [
    "from hyperopt import fmin, hp, tpe, Trials, space_eval, STATUS_OK, STATUS_RUNNING"
   ]
  },
  {
   "cell_type": "markdown",
   "metadata": {},
   "source": [
    "###  ExtraTrees"
   ]
  },
  {
   "cell_type": "code",
   "execution_count": 8,
   "metadata": {},
   "outputs": [],
   "source": [
    "etc_space = {\n",
    "    \"max_depth\": hp.quniform('max_depth', 7, 50, 3),\n",
    "    \"min_samples_split\": hp.choice('min_samples_split', [5, 10, 15, 20, 25]),\n",
    "    \"min_samples_leaf\": hp.choice('min_samples_leaf', [5, 10, 15, 20, 25]),\n",
    "    \"criterion\": \"gini\",\n",
    "    \"n_estimators\": hp.quniform('n_estimators', 10, 500, 10),\n",
    "    \"max_features\": 'auto',\n",
    "    'random_state': 0}"
   ]
  },
  {
   "cell_type": "code",
   "execution_count": 9,
   "metadata": {},
   "outputs": [],
   "source": [
    "def etc_grid(params):\n",
    "    print(\"############## New Run ################\")\n",
    "    print(\"PARAMETERS: \")\n",
    "    print(f\"params  = {params}\")\n",
    "    params = {\n",
    "        'max_depth': int(params['max_depth']),\n",
    "        'min_samples_split': params['min_samples_split'],\n",
    "        'min_samples_leaf': params['min_samples_leaf'],\n",
    "        'criterion': params['criterion'],\n",
    "        'n_estimators': int(params['n_estimators']),\n",
    "        'max_features': params['max_features'],\n",
    "        'random_state': 0\n",
    "    }\n",
    "    \n",
    "    EPOCHS = 5\n",
    "    kf = KFold(n_splits = EPOCHS, shuffle = True)\n",
    "    score_mean = 0\n",
    "    print(\"CV SCORE: \")\n",
    "    for train_idx, validation_idx in kf.split(train_features, train_target):\n",
    "        model = ExtraTreesClassifier(**params)\n",
    "\n",
    "        X_train, X_validation = train_features.iloc[train_idx, :], train_features.iloc[validation_idx, :]\n",
    "        y_train, y_validation = train_target.iloc[train_idx], train_target.iloc[validation_idx]\n",
    "\n",
    "        model.fit(X_train, y_train)\n",
    "\n",
    "        y_pred_train = model.predict_proba(X_validation)[:,1]\n",
    "        score = roc_auc_score(y_validation, y_pred_train)\n",
    "        score_mean += score\n",
    "        print(f'AUC: {score}')\n",
    "    del X_train, X_validation, y_train, y_validation, y_pred_train    \n",
    "    gc.collect()\n",
    "\n",
    "    joblib.dump(model, \"./Model/ETC_model.m\")\n",
    "    print(f'Mean AUC: {score_mean / EPOCHS} \\n')\n",
    "    return -(score_mean / EPOCHS)"
   ]
  },
  {
   "cell_type": "code",
   "execution_count": 10,
   "metadata": {
    "scrolled": false
   },
   "outputs": [
    {
     "name": "stdout",
     "output_type": "stream",
     "text": [
      "############## New Run ################             \n",
      "PARAMETERS:                                         \n",
      "params  = {'criterion': 'gini', 'max_depth': 21.0, 'max_features': 'auto', 'min_samples_leaf': 20, 'min_samples_split': 5, 'n_estimators': 100.0, 'random_state': 0}\n",
      "CV SCORE:                                           \n",
      "AUC: 0.896736505449048                              \n",
      "AUC: 0.8965239313755312                             \n",
      "AUC: 0.8977499756612448                             \n",
      "AUC: 0.8974609238980089                             \n",
      "AUC: 0.8962492644860025                             \n",
      "Mean AUC: 0.896944120173967                         \n",
      "\n",
      "############## New Run ################                                         \n",
      "PARAMETERS:                                                                     \n",
      "params  = {'criterion': 'gini', 'max_depth': 48.0, 'max_features': 'auto', 'min_samples_leaf': 5, 'min_samples_split': 15, 'n_estimators': 370.0, 'random_state': 0}\n",
      "CV SCORE:                                                                       \n",
      "AUC: 0.9307680716762735                                                         \n",
      "AUC: 0.9314494116621013                                                         \n",
      "AUC: 0.9249570546423709                                                         \n",
      "AUC: 0.9305200555384557                                                         \n",
      "AUC: 0.93138498839841                                                           \n",
      "Mean AUC: 0.9298159163835222                                                      \n",
      "\n",
      "############## New Run ################                                             \n",
      "PARAMETERS:                                                                         \n",
      "params  = {'criterion': 'gini', 'max_depth': 21.0, 'max_features': 'auto', 'min_samples_leaf': 10, 'min_samples_split': 10, 'n_estimators': 490.0, 'random_state': 0}\n",
      "CV SCORE:                                                                           \n",
      "AUC: 0.9064788540693426                                                             \n",
      "AUC: 0.9063315701795791                                                             \n",
      "AUC: 0.9064944196528142                                                             \n",
      "AUC: 0.9078436784261964                                                             \n",
      "AUC: 0.9030747964533488                                                             \n",
      "Mean AUC: 0.9060446637562561                                                        \n",
      "\n",
      "############## New Run ################                                             \n",
      "PARAMETERS:                                                                         \n",
      "params  = {'criterion': 'gini', 'max_depth': 27.0, 'max_features': 'auto', 'min_samples_leaf': 5, 'min_samples_split': 20, 'n_estimators': 50.0, 'random_state': 0}\n",
      "CV SCORE:                                                                           \n",
      "AUC: 0.9186330680228689                                                             \n",
      "AUC: 0.916534958563886                                                              \n",
      "AUC: 0.9179423992745859                                                             \n",
      "AUC: 0.9208630708345494                                                             \n",
      "AUC: 0.9221924619236326                                                             \n",
      "Mean AUC: 0.9192331917239045                                                        \n",
      "\n",
      "############## New Run ################                                             \n",
      "PARAMETERS:                                                                         \n",
      "params  = {'criterion': 'gini', 'max_depth': 9.0, 'max_features': 'auto', 'min_samples_leaf': 10, 'min_samples_split': 5, 'n_estimators': 440.0, 'random_state': 0}\n",
      "CV SCORE:                                                                           \n",
      "AUC: 0.8460974375611241                                                             \n",
      "AUC: 0.8313313264866785                                                             \n",
      "AUC: 0.841181816249934                                                              \n",
      "AUC: 0.8351995318631895                                                             \n",
      "AUC: 0.8470958690128702                                                             \n",
      "Mean AUC: 0.8401811962347592                                                        \n",
      "\n",
      "############## New Run ################                                             \n",
      "PARAMETERS:                                                                         \n",
      "params  = {'criterion': 'gini', 'max_depth': 39.0, 'max_features': 'auto', 'min_samples_leaf': 15, 'min_samples_split': 20, 'n_estimators': 340.0, 'random_state': 0}\n",
      "CV SCORE:                                                                           \n",
      "AUC: 0.9130519539752906                                                             \n",
      "AUC: 0.9142753228900803                                                             \n",
      "AUC: 0.9162532100168813                                                             \n",
      "AUC: 0.9114045260030238                                                             \n",
      "AUC: 0.9108038697592196                                                             \n",
      "Mean AUC: 0.9131577765288992                                                        \n",
      "\n",
      "############## New Run ################                                              \n",
      "PARAMETERS:                                                                          \n",
      "params  = {'criterion': 'gini', 'max_depth': 24.0, 'max_features': 'auto', 'min_samples_leaf': 25, 'min_samples_split': 15, 'n_estimators': 80.0, 'random_state': 0}\n",
      "CV SCORE:                                                                            \n",
      "AUC: 0.8950664455958506                                                              \n",
      "AUC: 0.902698346209202                                                               \n",
      "AUC: 0.8998261876464004                                                              \n",
      "AUC: 0.896305805981525                                                               \n",
      "AUC: 0.8966544315154324                                                              \n",
      "Mean AUC: 0.898110243389682                                                          \n",
      "\n",
      "############## New Run ################                                              \n",
      "PARAMETERS:                                                                         \n",
      "params  = {'criterion': 'gini', 'max_depth': 51.0, 'max_features': 'auto', 'min_samples_leaf': 20, 'min_samples_split': 25, 'n_estimators': 220.0, 'random_state': 0}\n",
      "CV SCORE:                                                                           \n",
      "AUC: 0.9053185461974946                                                             \n",
      "AUC: 0.9083571668824646                                                             \n",
      "AUC: 0.9081940822606696                                                             \n",
      "AUC: 0.9089966445540306                                                             \n",
      "AUC: 0.9082689549794754                                                             \n",
      "Mean AUC: 0.9078270789748271                                                        \n",
      "\n",
      "############## New Run ################                                             \n",
      "PARAMETERS:                                                                         \n",
      "params  = {'criterion': 'gini', 'max_depth': 45.0, 'max_features': 'auto', 'min_samples_leaf': 10, 'min_samples_split': 5, 'n_estimators': 400.0, 'random_state': 0}\n",
      "CV SCORE:                                                                           \n",
      "AUC: 0.9160348259962648                                                             \n",
      "AUC: 0.9179986712855902                                                             \n",
      "AUC: 0.9222626537419737                                                             \n",
      "AUC: 0.9216261787187792                                                             \n",
      "AUC: 0.9242184322936221                                                             \n",
      "Mean AUC: 0.920428152407246                                                         \n",
      "\n",
      "############## New Run ################                                             \n"
     ]
    },
    {
     "name": "stdout",
     "output_type": "stream",
     "text": [
      "PARAMETERS:                                                                         \n",
      "params  = {'criterion': 'gini', 'max_depth': 21.0, 'max_features': 'auto', 'min_samples_leaf': 10, 'min_samples_split': 5, 'n_estimators': 480.0, 'random_state': 0}\n",
      "CV SCORE:                                                                           \n",
      "AUC: 0.9094774260847542                                                             \n",
      "AUC: 0.90608068291461                                                               \n",
      "AUC: 0.9051948507263983                                                             \n",
      "AUC: 0.9027898337564205                                                             \n",
      "AUC: 0.9080509319347198                                                             \n",
      "Mean AUC: 0.9063187450833805                                                        \n",
      "\n",
      "############## New Run ################                                              \n",
      "PARAMETERS:                                                                          \n",
      "params  = {'criterion': 'gini', 'max_depth': 42.0, 'max_features': 'auto', 'min_samples_leaf': 15, 'min_samples_split': 25, 'n_estimators': 230.0, 'random_state': 0}\n",
      "CV SCORE:                                                                            \n",
      "AUC: 0.9159023935191198                                                              \n",
      "AUC: 0.9168500597903736                                                              \n",
      "AUC: 0.9108444247528714                                                              \n",
      "AUC: 0.9110262394587002                                                              \n",
      "AUC: 0.9082991948733254                                                              \n",
      "Mean AUC: 0.9125844624788779                                                         \n",
      "\n",
      "############## New Run ################                                              \n",
      "PARAMETERS:                                                                          \n",
      "params  = {'criterion': 'gini', 'max_depth': 24.0, 'max_features': 'auto', 'min_samples_leaf': 10, 'min_samples_split': 20, 'n_estimators': 230.0, 'random_state': 0}\n",
      "CV SCORE:                                                                            \n",
      "AUC: 0.9149365445382708                                                              \n",
      "AUC: 0.9127133387153386                                                              \n",
      "AUC: 0.9164105535741788                                                              \n",
      "AUC: 0.9049360803003045                                                              \n",
      "AUC: 0.9117612779516291                                                              \n",
      "Mean AUC: 0.9121515590159444                                                         \n",
      "\n",
      "############## New Run ################                                              \n",
      "PARAMETERS:                                                                          \n",
      "params  = {'criterion': 'gini', 'max_depth': 45.0, 'max_features': 'auto', 'min_samples_leaf': 5, 'min_samples_split': 25, 'n_estimators': 370.0, 'random_state': 0}\n",
      "CV SCORE:                                                                            \n",
      "AUC: 0.9228035257315585                                                              \n",
      "AUC: 0.9294808938187983                                                              \n",
      "AUC: 0.9250923248751447                                                              \n",
      "AUC: 0.9264782946801176                                                              \n",
      "AUC: 0.924984423861351                                                               \n",
      "Mean AUC: 0.925767892593394                                                          \n",
      "\n",
      "############## New Run ################                                              \n",
      "PARAMETERS:                                                                          \n",
      "params  = {'criterion': 'gini', 'max_depth': 51.0, 'max_features': 'auto', 'min_samples_leaf': 15, 'min_samples_split': 10, 'n_estimators': 180.0, 'random_state': 0}\n",
      "CV SCORE:                                                                            \n",
      "AUC: 0.9143261465146008                                                              \n",
      "AUC: 0.9090036153956061                                                               \n",
      "AUC: 0.912737154920165                                                                \n",
      "AUC: 0.9146984416563732                                                               \n",
      "AUC: 0.9129963106900753                                                               \n",
      "Mean AUC: 0.912752333835364                                                           \n",
      "\n",
      "############## New Run ################                                                 \n",
      "PARAMETERS:                                                                             \n",
      "params  = {'criterion': 'gini', 'max_depth': 9.0, 'max_features': 'auto', 'min_samples_leaf': 20, 'min_samples_split': 15, 'n_estimators': 370.0, 'random_state': 0}\n",
      "CV SCORE:                                                                               \n",
      "AUC: 0.8416754171320797                                                                 \n",
      "AUC: 0.8386669931374667                                                                 \n",
      "AUC: 0.8369809582702036                                                                 \n",
      "AUC: 0.8423796513439632                                                                 \n",
      "AUC: 0.8368297454678444                                                                 \n",
      "Mean AUC: 0.8393065530703115                                                            \n",
      "\n",
      "############## New Run ################                                                 \n",
      "PARAMETERS:                                                                            \n",
      "params  = {'criterion': 'gini', 'max_depth': 42.0, 'max_features': 'auto', 'min_samples_leaf': 25, 'min_samples_split': 10, 'n_estimators': 250.0, 'random_state': 0}\n",
      "CV SCORE:                                                                              \n",
      "AUC: 0.9043609447474318                                                                \n",
      "AUC: 0.9045375737150806                                                                \n",
      "AUC: 0.9002830486078035                                                                \n",
      "AUC: 0.9038453477669987                                                                \n",
      "AUC: 0.9040192963591667                                                                \n",
      "Mean AUC: 0.9034092422392963                                                           \n",
      "\n",
      "############## New Run ################                                                \n",
      "PARAMETERS:                                                                           \n",
      "params  = {'criterion': 'gini', 'max_depth': 48.0, 'max_features': 'auto', 'min_samples_leaf': 25, 'min_samples_split': 25, 'n_estimators': 330.0, 'random_state': 0}\n",
      "CV SCORE:                                                                             \n",
      "AUC: 0.9018691057723901                                                               \n",
      "AUC: 0.9015805586613775                                                               \n",
      "AUC: 0.9022616443267374                                                               \n",
      "AUC: 0.9029779851183907                                                               \n",
      "AUC: 0.9066319951733955                                                               \n",
      "Mean AUC: 0.9030642578104583                                                          \n",
      "\n",
      "############## New Run ################                                               \n",
      "PARAMETERS:                                                                           \n",
      "params  = {'criterion': 'gini', 'max_depth': 42.0, 'max_features': 'auto', 'min_samples_leaf': 15, 'min_samples_split': 20, 'n_estimators': 430.0, 'random_state': 0}\n",
      "CV SCORE:                                                                             \n",
      "AUC: 0.9147626296287131                                                               \n",
      "AUC: 0.9128557507613861                                                               \n",
      "AUC: 0.9131658534367953                                                               \n",
      " 85%|████████▌ | 17/20 [20:47:39<4:43:54, 5678.31s/it, best loss: -0.9298159163835222]"
     ]
    }
   ],
   "source": [
    "%%time\n",
    "etc_best = fmin(fn=etc_grid,\n",
    "            space=etc_space,\n",
    "            algo=tpe.suggest, \n",
    "            max_evals=20)"
   ]
  },
  {
   "cell_type": "markdown",
   "metadata": {},
   "source": [
    "## Reference\n",
    "- https://www.kaggle.com/smerllo/identify-unique-cards-id"
   ]
  }
 ],
 "metadata": {
  "kernelspec": {
   "display_name": "Python 3",
   "language": "python",
   "name": "python3"
  },
  "language_info": {
   "codemirror_mode": {
    "name": "ipython",
    "version": 3
   },
   "file_extension": ".py",
   "mimetype": "text/x-python",
   "name": "python",
   "nbconvert_exporter": "python",
   "pygments_lexer": "ipython3",
   "version": "3.7.3"
  },
  "toc": {
   "base_numbering": 1,
   "nav_menu": {},
   "number_sections": true,
   "sideBar": true,
   "skip_h1_title": false,
   "title_cell": "Table of Contents",
   "title_sidebar": "Contents",
   "toc_cell": false,
   "toc_position": {},
   "toc_section_display": true,
   "toc_window_display": false
  },
  "varInspector": {
   "cols": {
    "lenName": 16,
    "lenType": 16,
    "lenVar": 40
   },
   "kernels_config": {
    "python": {
     "delete_cmd_postfix": "",
     "delete_cmd_prefix": "del ",
     "library": "var_list.py",
     "varRefreshCmd": "print(var_dic_list())"
    },
    "r": {
     "delete_cmd_postfix": ") ",
     "delete_cmd_prefix": "rm(",
     "library": "var_list.r",
     "varRefreshCmd": "cat(var_dic_list()) "
    }
   },
   "types_to_exclude": [
    "module",
    "function",
    "builtin_function_or_method",
    "instance",
    "_Feature"
   ],
   "window_display": true
  }
 },
 "nbformat": 4,
 "nbformat_minor": 2
}
